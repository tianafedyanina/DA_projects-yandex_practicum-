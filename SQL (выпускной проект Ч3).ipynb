{
 "cells": [
  {
   "cell_type": "markdown",
   "metadata": {
    "id": "3RHWaToK0xfk"
   },
   "source": [
    "# АНАЛИЗ БАЗЫ ДАННЫХ ИНТЕРНЕТ-МАГАЗИНА КНИГ"
   ]
  },
  {
   "cell_type": "markdown",
   "metadata": {
    "id": "BCThFhLW1Bms"
   },
   "source": [
    "### Описание данных\n",
    "\n",
    "**Таблица `books`**\n",
    "\n",
    "Содержит данные о книгах:\n",
    "\n",
    "- `book_id` — идентификатор книги;\n",
    "- `author_id` — идентификатор автора;\n",
    "- `title` — название книги;\n",
    "- `num_pages` — количество страниц;\n",
    "- `publication_date` — дата публикации книги;\n",
    "- `publisher_id` — идентификатор издателя.\n",
    "\n",
    "**Таблица `authors`**\n",
    "\n",
    "Содержит данные об авторах:\n",
    "\n",
    "- `author_id` — идентификатор автора;\n",
    "- `author` — имя автора.\n",
    "\n",
    "**Таблица `publishers`**\n",
    "\n",
    "Содержит данные об издательствах:\n",
    "\n",
    "- `publisher_id` — идентификатор издательства;\n",
    "- `publisher` — название издательства;\n",
    "\n",
    "**Таблица `ratings`**\n",
    "\n",
    "Содержит данные о пользовательских оценках книг:\n",
    "\n",
    "- `rating_id` — идентификатор оценки;\n",
    "- `book_id` — идентификатор книги;\n",
    "- `username` — имя пользователя, оставившего оценку;\n",
    "- `rating` — оценка книги.\n",
    "\n",
    "**Таблица `reviews`**\n",
    "\n",
    "Содержит данные о пользовательских обзорах на книги:\n",
    "\n",
    "- `review_id` — идентификатор обзора;\n",
    "- `book_id` — идентификатор книги;\n",
    "- `username` — имя пользователя, написавшего обзор;\n",
    "- `text` — текст обзора."
   ]
  },
  {
   "cell_type": "markdown",
   "metadata": {
    "id": "bMD0o5TF1KUE"
   },
   "source": [
    "### Задания\n",
    "\n",
    "- Посчитайте, сколько книг вышло после 1 января 2000 года;\n",
    "- Для каждой книги посчитайте количество обзоров и среднюю оценку;\n",
    "- Определите издательство, которое выпустило наибольшее число книг толще 50 страниц — так вы исключите из анализа брошюры;\n",
    "- Определите автора с самой высокой средней оценкой книг — учитывайте только книги с 50 и более оценками;\n",
    "- Посчитайте среднее количество обзоров от пользователей, которые поставили больше 50 оценок."
   ]
  },
  {
   "cell_type": "code",
   "execution_count": 1,
   "metadata": {
    "id": "LHJQnz2qvAR6"
   },
   "outputs": [],
   "source": [
    "import pandas as pd\n",
    "from sqlalchemy import create_engine"
   ]
  },
  {
   "cell_type": "code",
   "execution_count": 2,
   "metadata": {},
   "outputs": [],
   "source": [
    "# устанавливаем параметры\n",
    "db_config = {'user': 'praktikum_student', # имя пользователя\n",
    "'pwd': 'Sdf4$2;d-d30pp', # пароль\n",
    "'host': 'rc1b-wcoijxj3yxfsf3fs.mdb.yandexcloud.net',\n",
    "'port': 6432, # порт подключения\n",
    "'db': 'data-analyst-final-project-db'} # название базы данных\n",
    "connection_string = 'postgresql://{}:{}@{}:{}/{}'.format(db_config['user'],\n",
    " db_config['pwd'],\n",
    " db_config['host'],\n",
    " db_config['port'],\n",
    " db_config['db'])"
   ]
  },
  {
   "cell_type": "code",
   "execution_count": 3,
   "metadata": {},
   "outputs": [],
   "source": [
    "# сохраняем коннектор\n",
    "engine = create_engine(connection_string, connect_args={'sslmode':'require'})"
   ]
  },
  {
   "cell_type": "code",
   "execution_count": 4,
   "metadata": {
    "id": "I2igRx7AvHbS"
   },
   "outputs": [],
   "source": [
    "def result(query):\n",
    "    return pd.io.sql.read_sql(query, con = engine) "
   ]
  },
  {
   "cell_type": "markdown",
   "metadata": {
    "id": "Y5x9Oump2DWn"
   },
   "source": [
    "## Исследование таблиц"
   ]
  },
  {
   "cell_type": "code",
   "execution_count": 5,
   "metadata": {
    "colab": {
     "base_uri": "https://localhost:8080/",
     "height": 363
    },
    "id": "aTV_ENoP0DLc",
    "outputId": "4055c0ab-465a-4890-d92f-ff02b5cc61b6"
   },
   "outputs": [
    {
     "data": {
      "text/html": [
       "<div>\n",
       "<style scoped>\n",
       "    .dataframe tbody tr th:only-of-type {\n",
       "        vertical-align: middle;\n",
       "    }\n",
       "\n",
       "    .dataframe tbody tr th {\n",
       "        vertical-align: top;\n",
       "    }\n",
       "\n",
       "    .dataframe thead th {\n",
       "        text-align: right;\n",
       "    }\n",
       "</style>\n",
       "<table border=\"1\" class=\"dataframe\">\n",
       "  <thead>\n",
       "    <tr style=\"text-align: right;\">\n",
       "      <th></th>\n",
       "      <th>book_id</th>\n",
       "      <th>author_id</th>\n",
       "      <th>title</th>\n",
       "      <th>num_pages</th>\n",
       "      <th>publication_date</th>\n",
       "      <th>publisher_id</th>\n",
       "    </tr>\n",
       "  </thead>\n",
       "  <tbody>\n",
       "    <tr>\n",
       "      <th>0</th>\n",
       "      <td>1</td>\n",
       "      <td>546</td>\n",
       "      <td>'Salem's Lot</td>\n",
       "      <td>594</td>\n",
       "      <td>2005-11-01</td>\n",
       "      <td>93</td>\n",
       "    </tr>\n",
       "    <tr>\n",
       "      <th>1</th>\n",
       "      <td>2</td>\n",
       "      <td>465</td>\n",
       "      <td>1 000 Places to See Before You Die</td>\n",
       "      <td>992</td>\n",
       "      <td>2003-05-22</td>\n",
       "      <td>336</td>\n",
       "    </tr>\n",
       "    <tr>\n",
       "      <th>2</th>\n",
       "      <td>3</td>\n",
       "      <td>407</td>\n",
       "      <td>13 Little Blue Envelopes (Little Blue Envelope...</td>\n",
       "      <td>322</td>\n",
       "      <td>2010-12-21</td>\n",
       "      <td>135</td>\n",
       "    </tr>\n",
       "    <tr>\n",
       "      <th>3</th>\n",
       "      <td>4</td>\n",
       "      <td>82</td>\n",
       "      <td>1491: New Revelations of the Americas Before C...</td>\n",
       "      <td>541</td>\n",
       "      <td>2006-10-10</td>\n",
       "      <td>309</td>\n",
       "    </tr>\n",
       "    <tr>\n",
       "      <th>4</th>\n",
       "      <td>5</td>\n",
       "      <td>125</td>\n",
       "      <td>1776</td>\n",
       "      <td>386</td>\n",
       "      <td>2006-07-04</td>\n",
       "      <td>268</td>\n",
       "    </tr>\n",
       "    <tr>\n",
       "      <th>...</th>\n",
       "      <td>...</td>\n",
       "      <td>...</td>\n",
       "      <td>...</td>\n",
       "      <td>...</td>\n",
       "      <td>...</td>\n",
       "      <td>...</td>\n",
       "    </tr>\n",
       "    <tr>\n",
       "      <th>995</th>\n",
       "      <td>996</td>\n",
       "      <td>571</td>\n",
       "      <td>Wyrd Sisters (Discworld  #6; Witches #2)</td>\n",
       "      <td>265</td>\n",
       "      <td>2001-02-06</td>\n",
       "      <td>147</td>\n",
       "    </tr>\n",
       "    <tr>\n",
       "      <th>996</th>\n",
       "      <td>997</td>\n",
       "      <td>454</td>\n",
       "      <td>Xenocide (Ender's Saga  #3)</td>\n",
       "      <td>592</td>\n",
       "      <td>1996-07-15</td>\n",
       "      <td>297</td>\n",
       "    </tr>\n",
       "    <tr>\n",
       "      <th>997</th>\n",
       "      <td>998</td>\n",
       "      <td>201</td>\n",
       "      <td>Year of Wonders</td>\n",
       "      <td>358</td>\n",
       "      <td>2002-04-30</td>\n",
       "      <td>212</td>\n",
       "    </tr>\n",
       "    <tr>\n",
       "      <th>998</th>\n",
       "      <td>999</td>\n",
       "      <td>94</td>\n",
       "      <td>You Suck (A Love Story  #2)</td>\n",
       "      <td>328</td>\n",
       "      <td>2007-01-16</td>\n",
       "      <td>331</td>\n",
       "    </tr>\n",
       "    <tr>\n",
       "      <th>999</th>\n",
       "      <td>1000</td>\n",
       "      <td>509</td>\n",
       "      <td>Zen and the Art of Motorcycle Maintenance: An ...</td>\n",
       "      <td>540</td>\n",
       "      <td>2006-04-25</td>\n",
       "      <td>143</td>\n",
       "    </tr>\n",
       "  </tbody>\n",
       "</table>\n",
       "<p>1000 rows × 6 columns</p>\n",
       "</div>"
      ],
      "text/plain": [
       "     book_id  author_id                                              title  \\\n",
       "0          1        546                                       'Salem's Lot   \n",
       "1          2        465                 1 000 Places to See Before You Die   \n",
       "2          3        407  13 Little Blue Envelopes (Little Blue Envelope...   \n",
       "3          4         82  1491: New Revelations of the Americas Before C...   \n",
       "4          5        125                                               1776   \n",
       "..       ...        ...                                                ...   \n",
       "995      996        571           Wyrd Sisters (Discworld  #6; Witches #2)   \n",
       "996      997        454                        Xenocide (Ender's Saga  #3)   \n",
       "997      998        201                                    Year of Wonders   \n",
       "998      999         94                        You Suck (A Love Story  #2)   \n",
       "999     1000        509  Zen and the Art of Motorcycle Maintenance: An ...   \n",
       "\n",
       "     num_pages publication_date  publisher_id  \n",
       "0          594       2005-11-01            93  \n",
       "1          992       2003-05-22           336  \n",
       "2          322       2010-12-21           135  \n",
       "3          541       2006-10-10           309  \n",
       "4          386       2006-07-04           268  \n",
       "..         ...              ...           ...  \n",
       "995        265       2001-02-06           147  \n",
       "996        592       1996-07-15           297  \n",
       "997        358       2002-04-30           212  \n",
       "998        328       2007-01-16           331  \n",
       "999        540       2006-04-25           143  \n",
       "\n",
       "[1000 rows x 6 columns]"
      ]
     },
     "execution_count": 5,
     "metadata": {},
     "output_type": "execute_result"
    }
   ],
   "source": [
    "books = '''\n",
    "SELECT *\n",
    "FROM books;\n",
    "'''\n",
    "result(books)"
   ]
  },
  {
   "cell_type": "code",
   "execution_count": 6,
   "metadata": {
    "colab": {
     "base_uri": "https://localhost:8080/"
    },
    "id": "0DcA9UZzv5Iy",
    "outputId": "b7f8df0c-86ca-4b66-ce77-a0501834cbab"
   },
   "outputs": [
    {
     "name": "stdout",
     "output_type": "stream",
     "text": [
      "<class 'pandas.core.frame.DataFrame'>\n",
      "RangeIndex: 1000 entries, 0 to 999\n",
      "Data columns (total 6 columns):\n",
      " #   Column            Non-Null Count  Dtype \n",
      "---  ------            --------------  ----- \n",
      " 0   book_id           1000 non-null   int64 \n",
      " 1   author_id         1000 non-null   int64 \n",
      " 2   title             1000 non-null   object\n",
      " 3   num_pages         1000 non-null   int64 \n",
      " 4   publication_date  1000 non-null   object\n",
      " 5   publisher_id      1000 non-null   int64 \n",
      "dtypes: int64(4), object(2)\n",
      "memory usage: 47.0+ KB\n"
     ]
    }
   ],
   "source": [
    "result(books).info()"
   ]
  },
  {
   "cell_type": "code",
   "execution_count": 7,
   "metadata": {
    "colab": {
     "base_uri": "https://localhost:8080/",
     "height": 363
    },
    "id": "1zodd8_20BL1",
    "outputId": "1767e5c9-b2d1-4779-86f6-ef40e2346133"
   },
   "outputs": [
    {
     "data": {
      "text/html": [
       "<div>\n",
       "<style scoped>\n",
       "    .dataframe tbody tr th:only-of-type {\n",
       "        vertical-align: middle;\n",
       "    }\n",
       "\n",
       "    .dataframe tbody tr th {\n",
       "        vertical-align: top;\n",
       "    }\n",
       "\n",
       "    .dataframe thead th {\n",
       "        text-align: right;\n",
       "    }\n",
       "</style>\n",
       "<table border=\"1\" class=\"dataframe\">\n",
       "  <thead>\n",
       "    <tr style=\"text-align: right;\">\n",
       "      <th></th>\n",
       "      <th>author_id</th>\n",
       "      <th>author</th>\n",
       "    </tr>\n",
       "  </thead>\n",
       "  <tbody>\n",
       "    <tr>\n",
       "      <th>0</th>\n",
       "      <td>1</td>\n",
       "      <td>A.S. Byatt</td>\n",
       "    </tr>\n",
       "    <tr>\n",
       "      <th>1</th>\n",
       "      <td>2</td>\n",
       "      <td>Aesop/Laura Harris/Laura Gibbs</td>\n",
       "    </tr>\n",
       "    <tr>\n",
       "      <th>2</th>\n",
       "      <td>3</td>\n",
       "      <td>Agatha Christie</td>\n",
       "    </tr>\n",
       "    <tr>\n",
       "      <th>3</th>\n",
       "      <td>4</td>\n",
       "      <td>Alan Brennert</td>\n",
       "    </tr>\n",
       "    <tr>\n",
       "      <th>4</th>\n",
       "      <td>5</td>\n",
       "      <td>Alan Moore/David   Lloyd</td>\n",
       "    </tr>\n",
       "    <tr>\n",
       "      <th>...</th>\n",
       "      <td>...</td>\n",
       "      <td>...</td>\n",
       "    </tr>\n",
       "    <tr>\n",
       "      <th>631</th>\n",
       "      <td>632</td>\n",
       "      <td>William Strunk Jr./E.B. White</td>\n",
       "    </tr>\n",
       "    <tr>\n",
       "      <th>632</th>\n",
       "      <td>633</td>\n",
       "      <td>Zadie Smith</td>\n",
       "    </tr>\n",
       "    <tr>\n",
       "      <th>633</th>\n",
       "      <td>634</td>\n",
       "      <td>Zilpha Keatley Snyder</td>\n",
       "    </tr>\n",
       "    <tr>\n",
       "      <th>634</th>\n",
       "      <td>635</td>\n",
       "      <td>Zora Neale Hurston</td>\n",
       "    </tr>\n",
       "    <tr>\n",
       "      <th>635</th>\n",
       "      <td>636</td>\n",
       "      <td>Åsne Seierstad/Ingrid Christopherson</td>\n",
       "    </tr>\n",
       "  </tbody>\n",
       "</table>\n",
       "<p>636 rows × 2 columns</p>\n",
       "</div>"
      ],
      "text/plain": [
       "     author_id                                author\n",
       "0            1                            A.S. Byatt\n",
       "1            2        Aesop/Laura Harris/Laura Gibbs\n",
       "2            3                       Agatha Christie\n",
       "3            4                         Alan Brennert\n",
       "4            5              Alan Moore/David   Lloyd\n",
       "..         ...                                   ...\n",
       "631        632         William Strunk Jr./E.B. White\n",
       "632        633                           Zadie Smith\n",
       "633        634                 Zilpha Keatley Snyder\n",
       "634        635                    Zora Neale Hurston\n",
       "635        636  Åsne Seierstad/Ingrid Christopherson\n",
       "\n",
       "[636 rows x 2 columns]"
      ]
     },
     "execution_count": 7,
     "metadata": {},
     "output_type": "execute_result"
    }
   ],
   "source": [
    "authors = '''\n",
    "SELECT *\n",
    "FROM authors;\n",
    "'''\n",
    "result(authors)"
   ]
  },
  {
   "cell_type": "code",
   "execution_count": 8,
   "metadata": {
    "colab": {
     "base_uri": "https://localhost:8080/"
    },
    "id": "CpQJa-zPxAmU",
    "outputId": "6240cc23-82c4-4664-a44f-923236dd974a"
   },
   "outputs": [
    {
     "name": "stdout",
     "output_type": "stream",
     "text": [
      "<class 'pandas.core.frame.DataFrame'>\n",
      "RangeIndex: 636 entries, 0 to 635\n",
      "Data columns (total 2 columns):\n",
      " #   Column     Non-Null Count  Dtype \n",
      "---  ------     --------------  ----- \n",
      " 0   author_id  636 non-null    int64 \n",
      " 1   author     636 non-null    object\n",
      "dtypes: int64(1), object(1)\n",
      "memory usage: 10.1+ KB\n"
     ]
    }
   ],
   "source": [
    "result(authors).info()"
   ]
  },
  {
   "cell_type": "code",
   "execution_count": 9,
   "metadata": {
    "colab": {
     "base_uri": "https://localhost:8080/",
     "height": 363
    },
    "id": "aRiZRhcYzy17",
    "outputId": "d6cf13ef-13fa-4108-a811-db1234834641"
   },
   "outputs": [
    {
     "data": {
      "text/html": [
       "<div>\n",
       "<style scoped>\n",
       "    .dataframe tbody tr th:only-of-type {\n",
       "        vertical-align: middle;\n",
       "    }\n",
       "\n",
       "    .dataframe tbody tr th {\n",
       "        vertical-align: top;\n",
       "    }\n",
       "\n",
       "    .dataframe thead th {\n",
       "        text-align: right;\n",
       "    }\n",
       "</style>\n",
       "<table border=\"1\" class=\"dataframe\">\n",
       "  <thead>\n",
       "    <tr style=\"text-align: right;\">\n",
       "      <th></th>\n",
       "      <th>publisher_id</th>\n",
       "      <th>publisher</th>\n",
       "    </tr>\n",
       "  </thead>\n",
       "  <tbody>\n",
       "    <tr>\n",
       "      <th>0</th>\n",
       "      <td>1</td>\n",
       "      <td>Ace</td>\n",
       "    </tr>\n",
       "    <tr>\n",
       "      <th>1</th>\n",
       "      <td>2</td>\n",
       "      <td>Ace Book</td>\n",
       "    </tr>\n",
       "    <tr>\n",
       "      <th>2</th>\n",
       "      <td>3</td>\n",
       "      <td>Ace Books</td>\n",
       "    </tr>\n",
       "    <tr>\n",
       "      <th>3</th>\n",
       "      <td>4</td>\n",
       "      <td>Ace Hardcover</td>\n",
       "    </tr>\n",
       "    <tr>\n",
       "      <th>4</th>\n",
       "      <td>5</td>\n",
       "      <td>Addison Wesley Publishing Company</td>\n",
       "    </tr>\n",
       "    <tr>\n",
       "      <th>...</th>\n",
       "      <td>...</td>\n",
       "      <td>...</td>\n",
       "    </tr>\n",
       "    <tr>\n",
       "      <th>335</th>\n",
       "      <td>336</td>\n",
       "      <td>Workman Publishing Company</td>\n",
       "    </tr>\n",
       "    <tr>\n",
       "      <th>336</th>\n",
       "      <td>337</td>\n",
       "      <td>Wyatt Book</td>\n",
       "    </tr>\n",
       "    <tr>\n",
       "      <th>337</th>\n",
       "      <td>338</td>\n",
       "      <td>Yale University Press</td>\n",
       "    </tr>\n",
       "    <tr>\n",
       "      <th>338</th>\n",
       "      <td>339</td>\n",
       "      <td>Yearling</td>\n",
       "    </tr>\n",
       "    <tr>\n",
       "      <th>339</th>\n",
       "      <td>340</td>\n",
       "      <td>Yearling Books</td>\n",
       "    </tr>\n",
       "  </tbody>\n",
       "</table>\n",
       "<p>340 rows × 2 columns</p>\n",
       "</div>"
      ],
      "text/plain": [
       "     publisher_id                          publisher\n",
       "0               1                                Ace\n",
       "1               2                           Ace Book\n",
       "2               3                          Ace Books\n",
       "3               4                      Ace Hardcover\n",
       "4               5  Addison Wesley Publishing Company\n",
       "..            ...                                ...\n",
       "335           336         Workman Publishing Company\n",
       "336           337                         Wyatt Book\n",
       "337           338              Yale University Press\n",
       "338           339                           Yearling\n",
       "339           340                     Yearling Books\n",
       "\n",
       "[340 rows x 2 columns]"
      ]
     },
     "execution_count": 9,
     "metadata": {},
     "output_type": "execute_result"
    }
   ],
   "source": [
    "publishers = '''\n",
    "SELECT *\n",
    "FROM publishers;\n",
    "'''\n",
    "result(publishers)"
   ]
  },
  {
   "cell_type": "code",
   "execution_count": 10,
   "metadata": {
    "colab": {
     "base_uri": "https://localhost:8080/"
    },
    "id": "s6zRvR6jxG0T",
    "outputId": "66781a85-b738-4dac-b891-40c16400ef6e"
   },
   "outputs": [
    {
     "name": "stdout",
     "output_type": "stream",
     "text": [
      "<class 'pandas.core.frame.DataFrame'>\n",
      "RangeIndex: 340 entries, 0 to 339\n",
      "Data columns (total 2 columns):\n",
      " #   Column        Non-Null Count  Dtype \n",
      "---  ------        --------------  ----- \n",
      " 0   publisher_id  340 non-null    int64 \n",
      " 1   publisher     340 non-null    object\n",
      "dtypes: int64(1), object(1)\n",
      "memory usage: 5.4+ KB\n"
     ]
    }
   ],
   "source": [
    "result(publishers).info()"
   ]
  },
  {
   "cell_type": "code",
   "execution_count": 11,
   "metadata": {
    "colab": {
     "base_uri": "https://localhost:8080/",
     "height": 363
    },
    "id": "cabg7Hy72xsp",
    "outputId": "64802f7f-99a2-44cf-b5cc-3b97e34a269a"
   },
   "outputs": [
    {
     "data": {
      "text/html": [
       "<div>\n",
       "<style scoped>\n",
       "    .dataframe tbody tr th:only-of-type {\n",
       "        vertical-align: middle;\n",
       "    }\n",
       "\n",
       "    .dataframe tbody tr th {\n",
       "        vertical-align: top;\n",
       "    }\n",
       "\n",
       "    .dataframe thead th {\n",
       "        text-align: right;\n",
       "    }\n",
       "</style>\n",
       "<table border=\"1\" class=\"dataframe\">\n",
       "  <thead>\n",
       "    <tr style=\"text-align: right;\">\n",
       "      <th></th>\n",
       "      <th>rating_id</th>\n",
       "      <th>book_id</th>\n",
       "      <th>username</th>\n",
       "      <th>rating</th>\n",
       "    </tr>\n",
       "  </thead>\n",
       "  <tbody>\n",
       "    <tr>\n",
       "      <th>0</th>\n",
       "      <td>1</td>\n",
       "      <td>1</td>\n",
       "      <td>ryanfranco</td>\n",
       "      <td>4</td>\n",
       "    </tr>\n",
       "    <tr>\n",
       "      <th>1</th>\n",
       "      <td>2</td>\n",
       "      <td>1</td>\n",
       "      <td>grantpatricia</td>\n",
       "      <td>2</td>\n",
       "    </tr>\n",
       "    <tr>\n",
       "      <th>2</th>\n",
       "      <td>3</td>\n",
       "      <td>1</td>\n",
       "      <td>brandtandrea</td>\n",
       "      <td>5</td>\n",
       "    </tr>\n",
       "    <tr>\n",
       "      <th>3</th>\n",
       "      <td>4</td>\n",
       "      <td>2</td>\n",
       "      <td>lorichen</td>\n",
       "      <td>3</td>\n",
       "    </tr>\n",
       "    <tr>\n",
       "      <th>4</th>\n",
       "      <td>5</td>\n",
       "      <td>2</td>\n",
       "      <td>mariokeller</td>\n",
       "      <td>2</td>\n",
       "    </tr>\n",
       "    <tr>\n",
       "      <th>...</th>\n",
       "      <td>...</td>\n",
       "      <td>...</td>\n",
       "      <td>...</td>\n",
       "      <td>...</td>\n",
       "    </tr>\n",
       "    <tr>\n",
       "      <th>6451</th>\n",
       "      <td>6452</td>\n",
       "      <td>1000</td>\n",
       "      <td>carolrodriguez</td>\n",
       "      <td>4</td>\n",
       "    </tr>\n",
       "    <tr>\n",
       "      <th>6452</th>\n",
       "      <td>6453</td>\n",
       "      <td>1000</td>\n",
       "      <td>wendy18</td>\n",
       "      <td>4</td>\n",
       "    </tr>\n",
       "    <tr>\n",
       "      <th>6453</th>\n",
       "      <td>6454</td>\n",
       "      <td>1000</td>\n",
       "      <td>jarvispaul</td>\n",
       "      <td>5</td>\n",
       "    </tr>\n",
       "    <tr>\n",
       "      <th>6454</th>\n",
       "      <td>6455</td>\n",
       "      <td>1000</td>\n",
       "      <td>zross</td>\n",
       "      <td>2</td>\n",
       "    </tr>\n",
       "    <tr>\n",
       "      <th>6455</th>\n",
       "      <td>6456</td>\n",
       "      <td>1000</td>\n",
       "      <td>fharris</td>\n",
       "      <td>5</td>\n",
       "    </tr>\n",
       "  </tbody>\n",
       "</table>\n",
       "<p>6456 rows × 4 columns</p>\n",
       "</div>"
      ],
      "text/plain": [
       "      rating_id  book_id        username  rating\n",
       "0             1        1      ryanfranco       4\n",
       "1             2        1   grantpatricia       2\n",
       "2             3        1    brandtandrea       5\n",
       "3             4        2        lorichen       3\n",
       "4             5        2     mariokeller       2\n",
       "...         ...      ...             ...     ...\n",
       "6451       6452     1000  carolrodriguez       4\n",
       "6452       6453     1000         wendy18       4\n",
       "6453       6454     1000      jarvispaul       5\n",
       "6454       6455     1000           zross       2\n",
       "6455       6456     1000         fharris       5\n",
       "\n",
       "[6456 rows x 4 columns]"
      ]
     },
     "execution_count": 11,
     "metadata": {},
     "output_type": "execute_result"
    }
   ],
   "source": [
    "ratings = '''\n",
    "SELECT *\n",
    "FROM ratings;\n",
    "'''\n",
    "result(ratings)"
   ]
  },
  {
   "cell_type": "code",
   "execution_count": 12,
   "metadata": {
    "colab": {
     "base_uri": "https://localhost:8080/"
    },
    "id": "A47ETbX4xOfL",
    "outputId": "2f74454f-17d5-45a4-f188-7621f471cedd"
   },
   "outputs": [
    {
     "name": "stdout",
     "output_type": "stream",
     "text": [
      "<class 'pandas.core.frame.DataFrame'>\n",
      "RangeIndex: 6456 entries, 0 to 6455\n",
      "Data columns (total 4 columns):\n",
      " #   Column     Non-Null Count  Dtype \n",
      "---  ------     --------------  ----- \n",
      " 0   rating_id  6456 non-null   int64 \n",
      " 1   book_id    6456 non-null   int64 \n",
      " 2   username   6456 non-null   object\n",
      " 3   rating     6456 non-null   int64 \n",
      "dtypes: int64(3), object(1)\n",
      "memory usage: 201.9+ KB\n"
     ]
    }
   ],
   "source": [
    "result(ratings).info()"
   ]
  },
  {
   "cell_type": "code",
   "execution_count": 13,
   "metadata": {
    "colab": {
     "base_uri": "https://localhost:8080/",
     "height": 363
    },
    "id": "d2cCBuNs2x0f",
    "outputId": "4ae32981-e817-447d-d37d-0266fc904e66",
    "scrolled": true
   },
   "outputs": [
    {
     "data": {
      "text/html": [
       "<div>\n",
       "<style scoped>\n",
       "    .dataframe tbody tr th:only-of-type {\n",
       "        vertical-align: middle;\n",
       "    }\n",
       "\n",
       "    .dataframe tbody tr th {\n",
       "        vertical-align: top;\n",
       "    }\n",
       "\n",
       "    .dataframe thead th {\n",
       "        text-align: right;\n",
       "    }\n",
       "</style>\n",
       "<table border=\"1\" class=\"dataframe\">\n",
       "  <thead>\n",
       "    <tr style=\"text-align: right;\">\n",
       "      <th></th>\n",
       "      <th>review_id</th>\n",
       "      <th>book_id</th>\n",
       "      <th>username</th>\n",
       "      <th>text</th>\n",
       "    </tr>\n",
       "  </thead>\n",
       "  <tbody>\n",
       "    <tr>\n",
       "      <th>0</th>\n",
       "      <td>1</td>\n",
       "      <td>1</td>\n",
       "      <td>brandtandrea</td>\n",
       "      <td>Mention society tell send professor analysis. ...</td>\n",
       "    </tr>\n",
       "    <tr>\n",
       "      <th>1</th>\n",
       "      <td>2</td>\n",
       "      <td>1</td>\n",
       "      <td>ryanfranco</td>\n",
       "      <td>Foot glass pretty audience hit themselves. Amo...</td>\n",
       "    </tr>\n",
       "    <tr>\n",
       "      <th>2</th>\n",
       "      <td>3</td>\n",
       "      <td>2</td>\n",
       "      <td>lorichen</td>\n",
       "      <td>Listen treat keep worry. Miss husband tax but ...</td>\n",
       "    </tr>\n",
       "    <tr>\n",
       "      <th>3</th>\n",
       "      <td>4</td>\n",
       "      <td>3</td>\n",
       "      <td>johnsonamanda</td>\n",
       "      <td>Finally month interesting blue could nature cu...</td>\n",
       "    </tr>\n",
       "    <tr>\n",
       "      <th>4</th>\n",
       "      <td>5</td>\n",
       "      <td>3</td>\n",
       "      <td>scotttamara</td>\n",
       "      <td>Nation purpose heavy give wait song will. List...</td>\n",
       "    </tr>\n",
       "    <tr>\n",
       "      <th>...</th>\n",
       "      <td>...</td>\n",
       "      <td>...</td>\n",
       "      <td>...</td>\n",
       "      <td>...</td>\n",
       "    </tr>\n",
       "    <tr>\n",
       "      <th>2788</th>\n",
       "      <td>2789</td>\n",
       "      <td>999</td>\n",
       "      <td>martinadam</td>\n",
       "      <td>Later hospital turn easy community. Fact same ...</td>\n",
       "    </tr>\n",
       "    <tr>\n",
       "      <th>2789</th>\n",
       "      <td>2790</td>\n",
       "      <td>1000</td>\n",
       "      <td>wknight</td>\n",
       "      <td>Change lose answer close pressure. Spend so now.</td>\n",
       "    </tr>\n",
       "    <tr>\n",
       "      <th>2790</th>\n",
       "      <td>2791</td>\n",
       "      <td>1000</td>\n",
       "      <td>carolrodriguez</td>\n",
       "      <td>Authority go who television entire hair guy po...</td>\n",
       "    </tr>\n",
       "    <tr>\n",
       "      <th>2791</th>\n",
       "      <td>2792</td>\n",
       "      <td>1000</td>\n",
       "      <td>wendy18</td>\n",
       "      <td>Or western offer wonder ask. More hear phone f...</td>\n",
       "    </tr>\n",
       "    <tr>\n",
       "      <th>2792</th>\n",
       "      <td>2793</td>\n",
       "      <td>1000</td>\n",
       "      <td>jarvispaul</td>\n",
       "      <td>Republican staff bit eat material measure plan...</td>\n",
       "    </tr>\n",
       "  </tbody>\n",
       "</table>\n",
       "<p>2793 rows × 4 columns</p>\n",
       "</div>"
      ],
      "text/plain": [
       "      review_id  book_id        username  \\\n",
       "0             1        1    brandtandrea   \n",
       "1             2        1      ryanfranco   \n",
       "2             3        2        lorichen   \n",
       "3             4        3   johnsonamanda   \n",
       "4             5        3     scotttamara   \n",
       "...         ...      ...             ...   \n",
       "2788       2789      999      martinadam   \n",
       "2789       2790     1000         wknight   \n",
       "2790       2791     1000  carolrodriguez   \n",
       "2791       2792     1000         wendy18   \n",
       "2792       2793     1000      jarvispaul   \n",
       "\n",
       "                                                   text  \n",
       "0     Mention society tell send professor analysis. ...  \n",
       "1     Foot glass pretty audience hit themselves. Amo...  \n",
       "2     Listen treat keep worry. Miss husband tax but ...  \n",
       "3     Finally month interesting blue could nature cu...  \n",
       "4     Nation purpose heavy give wait song will. List...  \n",
       "...                                                 ...  \n",
       "2788  Later hospital turn easy community. Fact same ...  \n",
       "2789   Change lose answer close pressure. Spend so now.  \n",
       "2790  Authority go who television entire hair guy po...  \n",
       "2791  Or western offer wonder ask. More hear phone f...  \n",
       "2792  Republican staff bit eat material measure plan...  \n",
       "\n",
       "[2793 rows x 4 columns]"
      ]
     },
     "execution_count": 13,
     "metadata": {},
     "output_type": "execute_result"
    }
   ],
   "source": [
    "reviews = '''\n",
    "SELECT *\n",
    "FROM reviews;\n",
    "'''\n",
    "result(reviews)"
   ]
  },
  {
   "cell_type": "code",
   "execution_count": 14,
   "metadata": {
    "colab": {
     "base_uri": "https://localhost:8080/"
    },
    "id": "90BZfGG7xwNN",
    "outputId": "fe47776f-a52a-469f-f293-cad9cefcd82a"
   },
   "outputs": [
    {
     "name": "stdout",
     "output_type": "stream",
     "text": [
      "<class 'pandas.core.frame.DataFrame'>\n",
      "RangeIndex: 2793 entries, 0 to 2792\n",
      "Data columns (total 4 columns):\n",
      " #   Column     Non-Null Count  Dtype \n",
      "---  ------     --------------  ----- \n",
      " 0   review_id  2793 non-null   int64 \n",
      " 1   book_id    2793 non-null   int64 \n",
      " 2   username   2793 non-null   object\n",
      " 3   text       2793 non-null   object\n",
      "dtypes: int64(2), object(2)\n",
      "memory usage: 87.4+ KB\n"
     ]
    }
   ],
   "source": [
    "result(reviews).info()"
   ]
  },
  {
   "cell_type": "markdown",
   "metadata": {},
   "source": [
    "__Выполнены запросы ко всем таблицам, таблицы сохранены в переменные. Выдедена основная информация о данных по каждой таблице. Все названия столбцов и их тип данных не нуждаются в обработке__ "
   ]
  },
  {
   "cell_type": "markdown",
   "metadata": {
    "id": "tcVmXv155WU-"
   },
   "source": [
    "## 1. Посчитайте, сколько книг вышло после 1 января 2000 года;"
   ]
  },
  {
   "cell_type": "code",
   "execution_count": 15,
   "metadata": {
    "colab": {
     "base_uri": "https://localhost:8080/",
     "height": 0
    },
    "id": "PmZwYiO82x3n",
    "outputId": "f026e1d3-df61-4c56-a3c8-d9fc50c45e02"
   },
   "outputs": [
    {
     "data": {
      "text/html": [
       "<div>\n",
       "<style scoped>\n",
       "    .dataframe tbody tr th:only-of-type {\n",
       "        vertical-align: middle;\n",
       "    }\n",
       "\n",
       "    .dataframe tbody tr th {\n",
       "        vertical-align: top;\n",
       "    }\n",
       "\n",
       "    .dataframe thead th {\n",
       "        text-align: right;\n",
       "    }\n",
       "</style>\n",
       "<table border=\"1\" class=\"dataframe\">\n",
       "  <thead>\n",
       "    <tr style=\"text-align: right;\">\n",
       "      <th></th>\n",
       "      <th>count</th>\n",
       "    </tr>\n",
       "  </thead>\n",
       "  <tbody>\n",
       "    <tr>\n",
       "      <th>0</th>\n",
       "      <td>819</td>\n",
       "    </tr>\n",
       "  </tbody>\n",
       "</table>\n",
       "</div>"
      ],
      "text/plain": [
       "   count\n",
       "0    819"
      ]
     },
     "execution_count": 15,
     "metadata": {},
     "output_type": "execute_result"
    }
   ],
   "source": [
    "count_book = '''\n",
    "SELECT COUNT(book_id)\n",
    "FROM books\n",
    "WHERE publication_date > '2000-01-01';\n",
    "'''\n",
    "result(count_book)"
   ]
  },
  {
   "cell_type": "markdown",
   "metadata": {
    "id": "s-DXzd_PyJGO"
   },
   "source": [
    "__819 книг вышло после 1 января 2000 г.__"
   ]
  },
  {
   "cell_type": "markdown",
   "metadata": {
    "id": "8GpthtdLybBe"
   },
   "source": [
    "## 2. Для каждой книги посчитайте количество обзоров и среднюю оценку;"
   ]
  },
  {
   "cell_type": "code",
   "execution_count": 16,
   "metadata": {
    "colab": {
     "base_uri": "https://localhost:8080/",
     "height": 424
    },
    "id": "8hSocRmZ2x6f",
    "outputId": "4a84f0fe-239f-4a0e-f9c1-d25dad7af5a9"
   },
   "outputs": [
    {
     "data": {
      "text/html": [
       "<div>\n",
       "<style scoped>\n",
       "    .dataframe tbody tr th:only-of-type {\n",
       "        vertical-align: middle;\n",
       "    }\n",
       "\n",
       "    .dataframe tbody tr th {\n",
       "        vertical-align: top;\n",
       "    }\n",
       "\n",
       "    .dataframe thead th {\n",
       "        text-align: right;\n",
       "    }\n",
       "</style>\n",
       "<table border=\"1\" class=\"dataframe\">\n",
       "  <thead>\n",
       "    <tr style=\"text-align: right;\">\n",
       "      <th></th>\n",
       "      <th>book_id</th>\n",
       "      <th>title</th>\n",
       "      <th>review</th>\n",
       "      <th>rating</th>\n",
       "    </tr>\n",
       "  </thead>\n",
       "  <tbody>\n",
       "    <tr>\n",
       "      <th>0</th>\n",
       "      <td>948</td>\n",
       "      <td>Twilight (Twilight  #1)</td>\n",
       "      <td>7</td>\n",
       "      <td>3.66</td>\n",
       "    </tr>\n",
       "    <tr>\n",
       "      <th>1</th>\n",
       "      <td>963</td>\n",
       "      <td>Water for Elephants</td>\n",
       "      <td>6</td>\n",
       "      <td>3.98</td>\n",
       "    </tr>\n",
       "    <tr>\n",
       "      <th>2</th>\n",
       "      <td>734</td>\n",
       "      <td>The Glass Castle</td>\n",
       "      <td>6</td>\n",
       "      <td>4.21</td>\n",
       "    </tr>\n",
       "    <tr>\n",
       "      <th>3</th>\n",
       "      <td>302</td>\n",
       "      <td>Harry Potter and the Prisoner of Azkaban (Harr...</td>\n",
       "      <td>6</td>\n",
       "      <td>4.41</td>\n",
       "    </tr>\n",
       "    <tr>\n",
       "      <th>4</th>\n",
       "      <td>695</td>\n",
       "      <td>The Curious Incident of the Dog in the Night-Time</td>\n",
       "      <td>6</td>\n",
       "      <td>4.08</td>\n",
       "    </tr>\n",
       "    <tr>\n",
       "      <th>...</th>\n",
       "      <td>...</td>\n",
       "      <td>...</td>\n",
       "      <td>...</td>\n",
       "      <td>...</td>\n",
       "    </tr>\n",
       "    <tr>\n",
       "      <th>995</th>\n",
       "      <td>83</td>\n",
       "      <td>Anne Rice's The Vampire Lestat: A Graphic Novel</td>\n",
       "      <td>0</td>\n",
       "      <td>3.67</td>\n",
       "    </tr>\n",
       "    <tr>\n",
       "      <th>996</th>\n",
       "      <td>808</td>\n",
       "      <td>The Natural Way to Draw</td>\n",
       "      <td>0</td>\n",
       "      <td>3.00</td>\n",
       "    </tr>\n",
       "    <tr>\n",
       "      <th>997</th>\n",
       "      <td>672</td>\n",
       "      <td>The Cat in the Hat and Other Dr. Seuss Favorites</td>\n",
       "      <td>0</td>\n",
       "      <td>5.00</td>\n",
       "    </tr>\n",
       "    <tr>\n",
       "      <th>998</th>\n",
       "      <td>221</td>\n",
       "      <td>Essential Tales and Poems</td>\n",
       "      <td>0</td>\n",
       "      <td>4.00</td>\n",
       "    </tr>\n",
       "    <tr>\n",
       "      <th>999</th>\n",
       "      <td>191</td>\n",
       "      <td>Disney's Beauty and the Beast (A Little Golden...</td>\n",
       "      <td>0</td>\n",
       "      <td>4.00</td>\n",
       "    </tr>\n",
       "  </tbody>\n",
       "</table>\n",
       "<p>1000 rows × 4 columns</p>\n",
       "</div>"
      ],
      "text/plain": [
       "     book_id                                              title  review  \\\n",
       "0        948                            Twilight (Twilight  #1)       7   \n",
       "1        963                                Water for Elephants       6   \n",
       "2        734                                   The Glass Castle       6   \n",
       "3        302  Harry Potter and the Prisoner of Azkaban (Harr...       6   \n",
       "4        695  The Curious Incident of the Dog in the Night-Time       6   \n",
       "..       ...                                                ...     ...   \n",
       "995       83    Anne Rice's The Vampire Lestat: A Graphic Novel       0   \n",
       "996      808                            The Natural Way to Draw       0   \n",
       "997      672   The Cat in the Hat and Other Dr. Seuss Favorites       0   \n",
       "998      221                          Essential Tales and Poems       0   \n",
       "999      191  Disney's Beauty and the Beast (A Little Golden...       0   \n",
       "\n",
       "     rating  \n",
       "0      3.66  \n",
       "1      3.98  \n",
       "2      4.21  \n",
       "3      4.41  \n",
       "4      4.08  \n",
       "..      ...  \n",
       "995    3.67  \n",
       "996    3.00  \n",
       "997    5.00  \n",
       "998    4.00  \n",
       "999    4.00  \n",
       "\n",
       "[1000 rows x 4 columns]"
      ]
     },
     "execution_count": 16,
     "metadata": {},
     "output_type": "execute_result"
    }
   ],
   "source": [
    "query_2 = '''\n",
    "SELECT b.book_id,\n",
    "       b.title,\n",
    "       COUNT(DISTINCT(rev.review_id)) as review,\n",
    "       ROUND(AVG(r.rating), 2) as rating\n",
    "FROM books AS b \n",
    "LEFT JOIN ratings AS r USING(book_id)\n",
    "LEFT JOIN reviews AS rev USING(book_id)\n",
    "GROUP BY 2, 1\n",
    "ORDER BY 3 DESC;\n",
    "'''\n",
    "result(query_2)"
   ]
  },
  {
   "cell_type": "markdown",
   "metadata": {
    "id": "XYO-NILv6reH"
   },
   "source": [
    "__Лидирует книга \"Сумерки\" (7 обзоров , рейтинг 3, 66). На втором месте книга \"Воды слонам\" (6 обзоров, рейтинг 3,98), в лидерах также книги \"Стеклянный замок\" и \"Гарри Потер и узник Азкабана\" (по 6 обзоров с рейтингом 4,21)__"
   ]
  },
  {
   "cell_type": "markdown",
   "metadata": {
    "id": "voGWpnkd2x9Y"
   },
   "source": [
    "## 3. Определите издательство, которое выпустило наибольшее число книг толще 50 страниц — так вы исключите из анализа брошюры"
   ]
  },
  {
   "cell_type": "code",
   "execution_count": 17,
   "metadata": {},
   "outputs": [
    {
     "data": {
      "text/html": [
       "<div>\n",
       "<style scoped>\n",
       "    .dataframe tbody tr th:only-of-type {\n",
       "        vertical-align: middle;\n",
       "    }\n",
       "\n",
       "    .dataframe tbody tr th {\n",
       "        vertical-align: top;\n",
       "    }\n",
       "\n",
       "    .dataframe thead th {\n",
       "        text-align: right;\n",
       "    }\n",
       "</style>\n",
       "<table border=\"1\" class=\"dataframe\">\n",
       "  <thead>\n",
       "    <tr style=\"text-align: right;\">\n",
       "      <th></th>\n",
       "      <th>publisher</th>\n",
       "    </tr>\n",
       "  </thead>\n",
       "  <tbody>\n",
       "    <tr>\n",
       "      <th>0</th>\n",
       "      <td>Penguin Books</td>\n",
       "    </tr>\n",
       "  </tbody>\n",
       "</table>\n",
       "</div>"
      ],
      "text/plain": [
       "       publisher\n",
       "0  Penguin Books"
      ]
     },
     "execution_count": 17,
     "metadata": {},
     "output_type": "execute_result"
    }
   ],
   "source": [
    "query_3 = '''     \n",
    "WITH\n",
    "a AS (SELECT publisher_id,\n",
    "       COUNT(DISTINCT(book_id)) as count\n",
    "       FROM books \n",
    "       WHERE num_pages > 50\n",
    "       GROUP BY 1\n",
    "       ORDER BY 2 DESC\n",
    "       LIMIT 1),\n",
    "b AS (SELECT publisher_id,\n",
    "             publisher\n",
    "             FROM publishers)\n",
    "SELECT b.publisher\n",
    "       FROM a LEFT JOIN b USING(publisher_id);\n",
    "'''\n",
    "result(query_3)"
   ]
  },
  {
   "cell_type": "markdown",
   "metadata": {},
   "source": [
    "__Издательством, выпустившим наибольшее число книг толще 50 страниц стало издательство \"Penguin Books\"__"
   ]
  },
  {
   "cell_type": "markdown",
   "metadata": {},
   "source": [
    "## Определите автора с самой высокой средней оценкой книг — учитывайте только книги с 50 и более оценками;"
   ]
  },
  {
   "cell_type": "code",
   "execution_count": 18,
   "metadata": {},
   "outputs": [
    {
     "data": {
      "text/html": [
       "<div>\n",
       "<style scoped>\n",
       "    .dataframe tbody tr th:only-of-type {\n",
       "        vertical-align: middle;\n",
       "    }\n",
       "\n",
       "    .dataframe tbody tr th {\n",
       "        vertical-align: top;\n",
       "    }\n",
       "\n",
       "    .dataframe thead th {\n",
       "        text-align: right;\n",
       "    }\n",
       "</style>\n",
       "<table border=\"1\" class=\"dataframe\">\n",
       "  <thead>\n",
       "    <tr style=\"text-align: right;\">\n",
       "      <th></th>\n",
       "      <th>author</th>\n",
       "      <th>round</th>\n",
       "    </tr>\n",
       "  </thead>\n",
       "  <tbody>\n",
       "    <tr>\n",
       "      <th>0</th>\n",
       "      <td>J.K. Rowling/Mary GrandPré</td>\n",
       "      <td>4.28</td>\n",
       "    </tr>\n",
       "    <tr>\n",
       "      <th>1</th>\n",
       "      <td>Markus Zusak/Cao Xuân Việt Khương</td>\n",
       "      <td>4.26</td>\n",
       "    </tr>\n",
       "    <tr>\n",
       "      <th>2</th>\n",
       "      <td>J.R.R. Tolkien</td>\n",
       "      <td>4.26</td>\n",
       "    </tr>\n",
       "    <tr>\n",
       "      <th>3</th>\n",
       "      <td>Louisa May Alcott</td>\n",
       "      <td>4.19</td>\n",
       "    </tr>\n",
       "    <tr>\n",
       "      <th>4</th>\n",
       "      <td>Rick Riordan</td>\n",
       "      <td>4.08</td>\n",
       "    </tr>\n",
       "    <tr>\n",
       "      <th>5</th>\n",
       "      <td>William Golding</td>\n",
       "      <td>3.90</td>\n",
       "    </tr>\n",
       "    <tr>\n",
       "      <th>6</th>\n",
       "      <td>J.D. Salinger</td>\n",
       "      <td>3.83</td>\n",
       "    </tr>\n",
       "    <tr>\n",
       "      <th>7</th>\n",
       "      <td>William Shakespeare/Paul Werstine/Barbara A. M...</td>\n",
       "      <td>3.79</td>\n",
       "    </tr>\n",
       "    <tr>\n",
       "      <th>8</th>\n",
       "      <td>Paulo Coelho/Alan R. Clarke/Özdemir İnce</td>\n",
       "      <td>3.79</td>\n",
       "    </tr>\n",
       "    <tr>\n",
       "      <th>9</th>\n",
       "      <td>Lois Lowry</td>\n",
       "      <td>3.75</td>\n",
       "    </tr>\n",
       "    <tr>\n",
       "      <th>10</th>\n",
       "      <td>Dan Brown</td>\n",
       "      <td>3.75</td>\n",
       "    </tr>\n",
       "    <tr>\n",
       "      <th>11</th>\n",
       "      <td>George Orwell/Boris Grabnar/Peter Škerl</td>\n",
       "      <td>3.73</td>\n",
       "    </tr>\n",
       "    <tr>\n",
       "      <th>12</th>\n",
       "      <td>Stephenie Meyer</td>\n",
       "      <td>3.66</td>\n",
       "    </tr>\n",
       "    <tr>\n",
       "      <th>13</th>\n",
       "      <td>John Steinbeck</td>\n",
       "      <td>3.62</td>\n",
       "    </tr>\n",
       "  </tbody>\n",
       "</table>\n",
       "</div>"
      ],
      "text/plain": [
       "                                               author  round\n",
       "0                          J.K. Rowling/Mary GrandPré   4.28\n",
       "1                   Markus Zusak/Cao Xuân Việt Khương   4.26\n",
       "2                                      J.R.R. Tolkien   4.26\n",
       "3                                   Louisa May Alcott   4.19\n",
       "4                                        Rick Riordan   4.08\n",
       "5                                     William Golding   3.90\n",
       "6                                       J.D. Salinger   3.83\n",
       "7   William Shakespeare/Paul Werstine/Barbara A. M...   3.79\n",
       "8            Paulo Coelho/Alan R. Clarke/Özdemir İnce   3.79\n",
       "9                                          Lois Lowry   3.75\n",
       "10                                          Dan Brown   3.75\n",
       "11            George Orwell/Boris Grabnar/Peter Škerl   3.73\n",
       "12                                    Stephenie Meyer   3.66\n",
       "13                                     John Steinbeck   3.62"
      ]
     },
     "execution_count": 18,
     "metadata": {},
     "output_type": "execute_result"
    }
   ],
   "source": [
    "query_4 = '''     \n",
    "WITH\n",
    "a AS (SELECT book_id,\n",
    "             COUNT(rating_id) as count_rating\n",
    "             FROM ratings \n",
    "       GROUP BY 1\n",
    "       HAVING COUNT(rating_id) >=50),\n",
    "b AS (SELECT auth.author_id,\n",
    "             auth.author,\n",
    "             b.book_id,\n",
    "             AVG(rating) AS avg_rating\n",
    "       FROM authors AS auth\n",
    "       LEFT JOIN books AS b USING(author_id)\n",
    "       LEFT JOIN ratings AS rat ON b.book_id=rat.book_id\n",
    "       GROUP BY 1,3)\n",
    "SELECT b.author,\n",
    "       ROUND(AVG(b.avg_rating),2)\n",
    "       FROM a LEFT JOIN b USING(book_id)\n",
    "       GROUP BY 1\n",
    "       ORDER BY 2 DESC;\n",
    "       \n",
    "'''\n",
    "result(query_4)"
   ]
  },
  {
   "cell_type": "markdown",
   "metadata": {},
   "source": [
    "__Автором с самой высокой средней оценкой книг (при условии 50 и более количества оценок) является J.K. Rowling/Mary GrandPré (средняя оценка 4,28).__"
   ]
  },
  {
   "cell_type": "markdown",
   "metadata": {},
   "source": [
    "## 5. Посчитайте среднее количество обзоров от пользователей, которые поставили больше 50 оценок."
   ]
  },
  {
   "cell_type": "code",
   "execution_count": 19,
   "metadata": {},
   "outputs": [
    {
     "data": {
      "text/html": [
       "<div>\n",
       "<style scoped>\n",
       "    .dataframe tbody tr th:only-of-type {\n",
       "        vertical-align: middle;\n",
       "    }\n",
       "\n",
       "    .dataframe tbody tr th {\n",
       "        vertical-align: top;\n",
       "    }\n",
       "\n",
       "    .dataframe thead th {\n",
       "        text-align: right;\n",
       "    }\n",
       "</style>\n",
       "<table border=\"1\" class=\"dataframe\">\n",
       "  <thead>\n",
       "    <tr style=\"text-align: right;\">\n",
       "      <th></th>\n",
       "      <th>round</th>\n",
       "    </tr>\n",
       "  </thead>\n",
       "  <tbody>\n",
       "    <tr>\n",
       "      <th>0</th>\n",
       "      <td>24.0</td>\n",
       "    </tr>\n",
       "  </tbody>\n",
       "</table>\n",
       "</div>"
      ],
      "text/plain": [
       "   round\n",
       "0   24.0"
      ]
     },
     "execution_count": 19,
     "metadata": {},
     "output_type": "execute_result"
    }
   ],
   "source": [
    "query_5 = '''     \n",
    "WITH\n",
    "a AS (SELECT DISTINCT(r.username) AS username,\n",
    "            COUNT(DISTINCT(r.review_id)) as count_review,\n",
    "            COUNT(DISTINCT(b.rating_id)) as count_ratings \n",
    "       FROM reviews AS r\n",
    "       LEFT JOIN ratings AS b USING(username)  \n",
    "       GROUP BY 1)\n",
    "SELECT ROUND(AVG(a.count_review),0)\n",
    "       FROM a \n",
    "       WHERE a.count_ratings > 50\n",
    "'''\n",
    "result(query_5)"
   ]
  },
  {
   "cell_type": "markdown",
   "metadata": {},
   "source": [
    "__Среднее количество обзоров от пользователей, которые поставили больше 50 оценок составляет 24 обзора__"
   ]
  },
  {
   "cell_type": "markdown",
   "metadata": {},
   "source": [
    "## Oбщий вывод:"
   ]
  },
  {
   "cell_type": "markdown",
   "metadata": {},
   "source": [
    "__В соответствии с поставленными задачами были послучены следующие результаты:__\n",
    "\n",
    "+ 819 книг вышло после 1 января 2000 г.\n",
    "+ Лидирует книга \"Сумерки\" (7 обзоров , рейтинг 3, 66). На втором месте книга \"Воды слонам\" (6 обзоров, рейтинг 3,98), в лидерах также книги \"Стеклянный замок\" и \"Гарри Потер и узник Азкабана\" (по 6 обзоров с рейтингом 4,21)\n",
    "+ Издательством, выпустившим наибольшее число книг толще 50 страниц стало издательство \"Penguin Books\"\n",
    "+ Автором с самой высокой средней оценкой книг (при условии 50 и более количества оценок) является J.K. Rowling/Mary GrandPré (средняя оценка 4,28)\n",
    "+ Среднее количество обзоров от пользователей, которые поставили больше 50 оценок составляет 24 обзора"
   ]
  },
  {
   "cell_type": "code",
   "execution_count": null,
   "metadata": {},
   "outputs": [],
   "source": []
  }
 ],
 "metadata": {
  "ExecuteTimeLog": [
   {
    "duration": 94,
    "start_time": "2023-02-22T03:31:15.624Z"
   },
   {
    "duration": 528,
    "start_time": "2023-02-22T14:27:49.198Z"
   },
   {
    "duration": 8,
    "start_time": "2023-02-22T14:27:49.733Z"
   },
   {
    "duration": 5116,
    "start_time": "2023-02-22T14:27:49.747Z"
   },
   {
    "duration": 3,
    "start_time": "2023-02-22T14:27:54.865Z"
   },
   {
    "duration": 74,
    "start_time": "2023-02-22T14:27:54.870Z"
   },
   {
    "duration": 19,
    "start_time": "2023-02-22T14:27:54.949Z"
   },
   {
    "duration": 16,
    "start_time": "2023-02-22T14:27:54.970Z"
   },
   {
    "duration": 16,
    "start_time": "2023-02-22T14:27:54.988Z"
   },
   {
    "duration": 30,
    "start_time": "2023-02-22T14:27:55.006Z"
   },
   {
    "duration": 45,
    "start_time": "2023-02-22T14:27:55.038Z"
   },
   {
    "duration": 13,
    "start_time": "2023-02-22T14:27:55.085Z"
   },
   {
    "duration": 14,
    "start_time": "2023-02-22T14:27:55.099Z"
   },
   {
    "duration": 14,
    "start_time": "2023-02-22T14:27:55.114Z"
   },
   {
    "duration": 27,
    "start_time": "2023-02-22T14:27:55.129Z"
   },
   {
    "duration": 11,
    "start_time": "2023-02-22T14:27:55.158Z"
   },
   {
    "duration": 38,
    "start_time": "2023-02-22T14:27:55.171Z"
   },
   {
    "duration": 12,
    "start_time": "2023-02-22T14:27:55.211Z"
   },
   {
    "duration": 25,
    "start_time": "2023-02-22T14:27:55.225Z"
   },
   {
    "duration": 47,
    "start_time": "2023-02-22T14:27:55.252Z"
   },
   {
    "duration": 18,
    "start_time": "2023-02-22T14:29:43.444Z"
   },
   {
    "duration": 154,
    "start_time": "2023-02-22T14:32:39.421Z"
   },
   {
    "duration": 74,
    "start_time": "2023-02-22T14:33:02.758Z"
   },
   {
    "duration": 64,
    "start_time": "2023-02-22T14:33:54.243Z"
   },
   {
    "duration": 80,
    "start_time": "2023-02-22T14:34:12.464Z"
   },
   {
    "duration": 71,
    "start_time": "2023-02-22T14:35:26.348Z"
   },
   {
    "duration": 73,
    "start_time": "2023-02-22T14:35:48.272Z"
   },
   {
    "duration": 83,
    "start_time": "2023-02-22T14:38:23.111Z"
   },
   {
    "duration": 11,
    "start_time": "2023-02-22T14:38:42.746Z"
   },
   {
    "duration": 13,
    "start_time": "2023-02-22T14:39:55.258Z"
   },
   {
    "duration": 93,
    "start_time": "2023-02-22T14:41:36.169Z"
   },
   {
    "duration": 24,
    "start_time": "2023-02-22T14:43:43.503Z"
   },
   {
    "duration": 29,
    "start_time": "2023-02-22T14:45:31.362Z"
   },
   {
    "duration": 25,
    "start_time": "2023-02-22T14:46:27.084Z"
   },
   {
    "duration": 112,
    "start_time": "2023-02-22T14:49:11.665Z"
   },
   {
    "duration": 149,
    "start_time": "2023-02-22T14:49:31.812Z"
   },
   {
    "duration": 144,
    "start_time": "2023-02-22T14:50:00.460Z"
   },
   {
    "duration": 20,
    "start_time": "2023-02-22T14:50:31.202Z"
   },
   {
    "duration": 107,
    "start_time": "2023-02-22T14:51:41.697Z"
   },
   {
    "duration": 93,
    "start_time": "2023-02-22T14:52:25.053Z"
   },
   {
    "duration": 98,
    "start_time": "2023-02-22T14:52:33.720Z"
   },
   {
    "duration": 21,
    "start_time": "2023-02-22T14:52:47.150Z"
   },
   {
    "duration": 99,
    "start_time": "2023-02-22T14:54:17.317Z"
   },
   {
    "duration": 31,
    "start_time": "2023-02-22T14:54:33.837Z"
   },
   {
    "duration": 15,
    "start_time": "2023-02-22T14:56:11.197Z"
   },
   {
    "duration": 28,
    "start_time": "2023-02-22T14:56:39.237Z"
   },
   {
    "duration": 76,
    "start_time": "2023-02-22T14:57:41.157Z"
   },
   {
    "duration": 83,
    "start_time": "2023-02-22T14:57:46.420Z"
   },
   {
    "duration": 69,
    "start_time": "2023-02-22T14:58:07.945Z"
   },
   {
    "duration": 15,
    "start_time": "2023-02-22T14:58:16.190Z"
   },
   {
    "duration": 62,
    "start_time": "2023-02-22T15:01:48.047Z"
   },
   {
    "duration": 102,
    "start_time": "2023-02-22T15:01:53.383Z"
   },
   {
    "duration": 106,
    "start_time": "2023-02-22T15:02:16.984Z"
   },
   {
    "duration": 78,
    "start_time": "2023-02-22T15:02:40.974Z"
   },
   {
    "duration": 26,
    "start_time": "2023-02-22T15:02:53.624Z"
   },
   {
    "duration": 77,
    "start_time": "2023-02-22T15:03:34.490Z"
   },
   {
    "duration": 22,
    "start_time": "2023-02-22T15:04:10.336Z"
   },
   {
    "duration": 72,
    "start_time": "2023-02-22T15:04:36.312Z"
   },
   {
    "duration": 19,
    "start_time": "2023-02-22T15:05:00.093Z"
   },
   {
    "duration": 20,
    "start_time": "2023-02-22T15:05:20.199Z"
   },
   {
    "duration": 558,
    "start_time": "2023-02-22T15:07:26.093Z"
   },
   {
    "duration": 4,
    "start_time": "2023-02-22T15:07:26.653Z"
   },
   {
    "duration": 4753,
    "start_time": "2023-02-22T15:07:26.659Z"
   },
   {
    "duration": 2,
    "start_time": "2023-02-22T15:07:31.414Z"
   },
   {
    "duration": 61,
    "start_time": "2023-02-22T15:07:31.418Z"
   },
   {
    "duration": 16,
    "start_time": "2023-02-22T15:07:31.480Z"
   },
   {
    "duration": 11,
    "start_time": "2023-02-22T15:07:31.498Z"
   },
   {
    "duration": 13,
    "start_time": "2023-02-22T15:07:31.511Z"
   },
   {
    "duration": 12,
    "start_time": "2023-02-22T15:07:31.525Z"
   },
   {
    "duration": 13,
    "start_time": "2023-02-22T15:07:31.539Z"
   },
   {
    "duration": 13,
    "start_time": "2023-02-22T15:07:31.553Z"
   },
   {
    "duration": 14,
    "start_time": "2023-02-22T15:07:31.568Z"
   },
   {
    "duration": 13,
    "start_time": "2023-02-22T15:07:31.583Z"
   },
   {
    "duration": 41,
    "start_time": "2023-02-22T15:07:31.597Z"
   },
   {
    "duration": 11,
    "start_time": "2023-02-22T15:07:31.639Z"
   },
   {
    "duration": 34,
    "start_time": "2023-02-22T15:07:31.651Z"
   },
   {
    "duration": 11,
    "start_time": "2023-02-22T15:07:31.687Z"
   },
   {
    "duration": 25,
    "start_time": "2023-02-22T15:07:31.700Z"
   },
   {
    "duration": 42,
    "start_time": "2023-02-22T15:07:31.727Z"
   },
   {
    "duration": 22,
    "start_time": "2023-02-22T15:20:07.389Z"
   },
   {
    "duration": 18,
    "start_time": "2023-02-22T15:20:15.105Z"
   },
   {
    "duration": 21,
    "start_time": "2023-02-22T15:20:17.721Z"
   },
   {
    "duration": 15,
    "start_time": "2023-02-22T15:20:18.776Z"
   },
   {
    "duration": 14,
    "start_time": "2023-02-22T15:20:24.198Z"
   },
   {
    "duration": 30,
    "start_time": "2023-02-22T15:20:25.248Z"
   },
   {
    "duration": 29,
    "start_time": "2023-02-22T15:20:30.866Z"
   },
   {
    "duration": 26,
    "start_time": "2023-02-22T15:20:32.009Z"
   },
   {
    "duration": 20,
    "start_time": "2023-02-22T15:20:38.041Z"
   },
   {
    "duration": 23,
    "start_time": "2023-02-22T15:20:38.936Z"
   },
   {
    "duration": 493,
    "start_time": "2023-02-22T15:20:46.084Z"
   },
   {
    "duration": 3,
    "start_time": "2023-02-22T15:20:46.579Z"
   },
   {
    "duration": 4738,
    "start_time": "2023-02-22T15:20:46.584Z"
   },
   {
    "duration": 2,
    "start_time": "2023-02-22T15:20:51.324Z"
   },
   {
    "duration": 88,
    "start_time": "2023-02-22T15:20:51.328Z"
   },
   {
    "duration": 17,
    "start_time": "2023-02-22T15:20:51.418Z"
   },
   {
    "duration": 14,
    "start_time": "2023-02-22T15:20:51.437Z"
   },
   {
    "duration": 18,
    "start_time": "2023-02-22T15:20:51.453Z"
   },
   {
    "duration": 12,
    "start_time": "2023-02-22T15:20:51.473Z"
   },
   {
    "duration": 14,
    "start_time": "2023-02-22T15:20:51.487Z"
   },
   {
    "duration": 50,
    "start_time": "2023-02-22T15:20:51.503Z"
   },
   {
    "duration": 25,
    "start_time": "2023-02-22T15:20:51.555Z"
   },
   {
    "duration": 19,
    "start_time": "2023-02-22T15:20:51.582Z"
   },
   {
    "duration": 36,
    "start_time": "2023-02-22T15:20:51.603Z"
   },
   {
    "duration": 10,
    "start_time": "2023-02-22T15:20:51.641Z"
   },
   {
    "duration": 33,
    "start_time": "2023-02-22T15:20:51.653Z"
   },
   {
    "duration": 11,
    "start_time": "2023-02-22T15:20:51.688Z"
   },
   {
    "duration": 18,
    "start_time": "2023-02-22T15:20:51.700Z"
   },
   {
    "duration": 43,
    "start_time": "2023-02-22T15:20:51.719Z"
   },
   {
    "duration": 517,
    "start_time": "2023-02-22T15:25:07.586Z"
   },
   {
    "duration": 4,
    "start_time": "2023-02-22T15:25:08.105Z"
   },
   {
    "duration": 4636,
    "start_time": "2023-02-22T15:25:08.111Z"
   },
   {
    "duration": 3,
    "start_time": "2023-02-22T15:25:12.749Z"
   },
   {
    "duration": 89,
    "start_time": "2023-02-22T15:25:12.755Z"
   },
   {
    "duration": 31,
    "start_time": "2023-02-22T15:25:12.847Z"
   },
   {
    "duration": 24,
    "start_time": "2023-02-22T15:25:12.880Z"
   },
   {
    "duration": 27,
    "start_time": "2023-02-22T15:25:12.906Z"
   },
   {
    "duration": 16,
    "start_time": "2023-02-22T15:25:12.935Z"
   },
   {
    "duration": 25,
    "start_time": "2023-02-22T15:25:12.953Z"
   },
   {
    "duration": 41,
    "start_time": "2023-02-22T15:25:12.980Z"
   },
   {
    "duration": 44,
    "start_time": "2023-02-22T15:25:13.023Z"
   },
   {
    "duration": 28,
    "start_time": "2023-02-22T15:25:13.069Z"
   },
   {
    "duration": 23,
    "start_time": "2023-02-22T15:25:13.100Z"
   },
   {
    "duration": 12,
    "start_time": "2023-02-22T15:25:13.127Z"
   },
   {
    "duration": 47,
    "start_time": "2023-02-22T15:25:13.141Z"
   },
   {
    "duration": 23,
    "start_time": "2023-02-22T15:25:13.190Z"
   },
   {
    "duration": 26,
    "start_time": "2023-02-22T15:25:13.215Z"
   },
   {
    "duration": 62,
    "start_time": "2023-02-22T15:25:13.243Z"
   }
  ],
  "colab": {
   "collapsed_sections": [
    "tcVmXv155WU-"
   ],
   "provenance": []
  },
  "kernelspec": {
   "display_name": "Python 3 (ipykernel)",
   "language": "python",
   "name": "python3"
  },
  "language_info": {
   "codemirror_mode": {
    "name": "ipython",
    "version": 3
   },
   "file_extension": ".py",
   "mimetype": "text/x-python",
   "name": "python",
   "nbconvert_exporter": "python",
   "pygments_lexer": "ipython3",
   "version": "3.9.15"
  },
  "toc": {
   "base_numbering": 1,
   "nav_menu": {},
   "number_sections": true,
   "sideBar": true,
   "skip_h1_title": true,
   "title_cell": "Table of Contents",
   "title_sidebar": "Contents",
   "toc_cell": false,
   "toc_position": {},
   "toc_section_display": true,
   "toc_window_display": false
  }
 },
 "nbformat": 4,
 "nbformat_minor": 1
}
