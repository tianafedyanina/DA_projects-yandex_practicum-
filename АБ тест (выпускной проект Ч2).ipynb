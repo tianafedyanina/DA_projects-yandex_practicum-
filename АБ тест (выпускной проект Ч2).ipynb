{
 "cells": [
  {
   "cell_type": "markdown",
   "id": "c415803b",
   "metadata": {},
   "source": [
    "# A/B-тестирование"
   ]
  },
  {
   "cell_type": "markdown",
   "id": "4e54d8f9",
   "metadata": {},
   "source": [
    "### Цель\n",
    "\n",
    "Провести оценку результатов A/B-теста. В нашем распоряжении есть датасет с действиями пользователей, техническое задание и несколько вспомогательных датасетов.\n",
    "\n",
    "- Оцените корректность проведения теста\n",
    "- Проанализируйте результаты теста\n",
    "\n",
    "### Задачи\n",
    "\n",
    "- проверить пересечение тестовой аудитории с конкурирующим тестом,\n",
    "- проверить совпадение теста и маркетинговых событий, другие проблемы временных границ теста.\n",
    "\n",
    "### Техническое задание\n",
    "\n",
    "- Название теста: `recommender_system_test`;\n",
    "- группы: А — контрольная, B — новая платёжная воронка;\n",
    "- дата запуска: 2020-12-07;\n",
    "- дата остановки набора новых пользователей: 2020-12-21;\n",
    "- дата остановки: 2021-01-04;\n",
    "- аудитория: 15% новых пользователей из региона EU;\n",
    "- назначение теста: тестирование изменений, связанных с внедрением улучшенной рекомендательной системы;\n",
    "- ожидаемое количество участников теста: 6000.\n",
    "- ожидаемый эффект: за 14 дней с момента регистрации пользователи покажут улучшение каждой метрики не менее, чем на 10%:\n",
    "    - конверсии в просмотр карточек товаров — событие `product_page`,\n",
    "    - просмотры корзины — `product_cart`,\n",
    "    - покупки — `purchase`.\n",
    "    \n",
    "\n",
    "\n",
    "### Описание данных\n",
    "\n",
    "`ab_project_marketing_events.csv` — календарь маркетинговых событий на 2020 год.\n",
    "\n",
    "Структура файла:\n",
    "\n",
    "- `name` — название маркетингового события;\n",
    "- `regions` — регионы, в которых будет проводиться рекламная кампания;\n",
    "- `start_dt` — дата начала кампании;\n",
    "- `finish_dt` — дата завершения кампании.\n",
    "\n",
    "`final_ab_new_users.csv` — пользователи, зарегистрировавшиеся с 7 по 21 декабря 2020 года.\n",
    "\n",
    "Структура файла:\n",
    "\n",
    "- `user_id` — идентификатор пользователя;\n",
    "- `first_date` — дата регистрации;\n",
    "- `region` — регион пользователя;\n",
    "- `device` — устройство, с которого происходила регистрация.\n",
    "\n",
    "`final_ab_events.csv` — действия новых пользователей в период с 7 декабря 2020 по 4 января 2021 года.\n",
    "\n",
    "Структура файла:\n",
    "\n",
    "- `user_id` — идентификатор пользователя;\n",
    "- `event_dt` — дата и время события;\n",
    "- `event_name` — тип события;\n",
    "- `details` — дополнительные данные о событии. Например, для покупок, `purchase,` в этом поле хранится стоимость покупки в долларах.\n",
    "\n",
    "`final_ab_participants.csv` — таблица участников тестов.\n",
    "\n",
    "Структура файла:\n",
    "\n",
    "- `user_id` — идентификатор пользователя;\n",
    "- `ab_test` — название теста;\n",
    "- `group` — группа пользователя."
   ]
  },
  {
   "cell_type": "markdown",
   "id": "3b0de05d",
   "metadata": {},
   "source": [
    "## 1. Подготовка данных"
   ]
  },
  {
   "cell_type": "code",
   "execution_count": 1,
   "id": "0333d263",
   "metadata": {},
   "outputs": [],
   "source": [
    "import pandas as pd\n",
    "import numpy as np\n",
    "import math as mth\n",
    "import matplotlib.pyplot as plt\n",
    "import seaborn as sns\n",
    "import scipy.stats as st\n",
    "import datetime as dt\n",
    "import plotly.express as px\n",
    "import plotly.graph_objs as go\n",
    "from pandas.plotting import register_matplotlib_converters\n",
    "import warnings\n",
    "# конвертеры, которые позволяют использовать типы pandas в matplotlib  \n",
    "register_matplotlib_converters()\n",
    "pd.options.display.float_format = '{:,.2f}'.format\n",
    "import warnings\n",
    "warnings.filterwarnings('ignore')"
   ]
  },
  {
   "cell_type": "code",
   "execution_count": 2,
   "id": "2bb139d7",
   "metadata": {
    "scrolled": true
   },
   "outputs": [],
   "source": [
    "test_participants = pd.read_csv('https://code.s3.yandex.net/datasets/final_ab_participants.csv') \n",
    "users = pd.read_csv('https://code.s3.yandex.net/datasets/final_ab_new_users.csv') \n",
    "events = pd.read_csv('https://code.s3.yandex.net/datasets/final_ab_events.csv') \n",
    "marketing_events = pd.read_csv('https://code.s3.yandex.net/datasets/ab_project_marketing_events.csv')"
   ]
  },
  {
   "cell_type": "code",
   "execution_count": 3,
   "id": "3098414c",
   "metadata": {},
   "outputs": [],
   "source": [
    "def first_info(df):\n",
    "    display(df.head(5))\n",
    "    df.info()\n",
    "    display(df.describe())\n",
    "    print ('Количество дубликатов -', df.duplicated().sum())\n",
    "    print(\"Сумма пропусков по столбцам\")\n",
    "    display(df.isna().sum())\n",
    "    return df"
   ]
  },
  {
   "cell_type": "code",
   "execution_count": 4,
   "id": "d98fb771",
   "metadata": {},
   "outputs": [
    {
     "data": {},
     "metadata": {},
     "output_type": "display_data"
    },
    {
     "data": {},
     "metadata": {},
     "output_type": "display_data"
    },
    {
     "data": {},
     "metadata": {},
     "output_type": "display_data"
    }
   ],
   "source": [
    "test_participants_info = first_info(test_participants)"
   ]
  },
  {
   "cell_type": "markdown",
   "id": "4cb73480",
   "metadata": {},
   "source": [
    "Проверим уникальные значения столбцов group и ab_test"
   ]
  },
  {
   "cell_type": "code",
   "execution_count": 5,
   "id": "19d4b62f",
   "metadata": {},
   "outputs": [
    {
     "data": {},
     "execution_count": 5,
     "metadata": {},
     "output_type": "execute_result"
    }
   ],
   "source": [
    "test_participants['ab_test'].unique()"
   ]
  },
  {
   "cell_type": "markdown",
   "id": "36e8f9b6",
   "metadata": {},
   "source": [
    "Разница с тех заданием: - в датасете содержатся данные еще об одном тесте interface_eu_test"
   ]
  },
  {
   "cell_type": "code",
   "execution_count": 6,
   "id": "d76b321f",
   "metadata": {},
   "outputs": [
    {
     "data": {},
     "execution_count": 6,
     "metadata": {},
     "output_type": "execute_result"
    }
   ],
   "source": [
    "test_participants['group'].unique()"
   ]
  },
  {
   "cell_type": "markdown",
   "id": "38a14141",
   "metadata": {},
   "source": [
    "группы: А — контрольная, B — новая платёжная воронка - соответствует тех заданию"
   ]
  },
  {
   "cell_type": "code",
   "execution_count": 7,
   "id": "5e0a4541",
   "metadata": {},
   "outputs": [
    {
     "data": {},
     "execution_count": 7,
     "metadata": {},
     "output_type": "execute_result"
    }
   ],
   "source": [
    "test_participants['group'].value_counts()"
   ]
  },
  {
   "cell_type": "code",
   "execution_count": 8,
   "id": "8ad03fce",
   "metadata": {
    "scrolled": true
   },
   "outputs": [
    {
     "data": {},
     "metadata": {},
     "output_type": "display_data"
    },
    {
     "data": {},
     "metadata": {},
     "output_type": "display_data"
    },
    {
     "data": {},
     "metadata": {},
     "output_type": "display_data"
    }
   ],
   "source": [
    "users_info = first_info(users)"
   ]
  },
  {
   "cell_type": "markdown",
   "id": "16cd2cb2",
   "metadata": {},
   "source": [
    "Приведем тип столбца first_date в соответствие, проверим уникальные значения столбцов region и device"
   ]
  },
  {
   "cell_type": "code",
   "execution_count": 9,
   "id": "6efa6a80",
   "metadata": {},
   "outputs": [],
   "source": [
    "users['first_date'] = pd.to_datetime(users['first_date'], format='%Y-%m-%d')"
   ]
  },
  {
   "cell_type": "markdown",
   "id": "e1ba44f6",
   "metadata": {},
   "source": [
    "\n"
   ]
  },
  {
   "cell_type": "code",
   "execution_count": 10,
   "id": "4f23e204",
   "metadata": {},
   "outputs": [
    {
     "data": {},
     "execution_count": 10,
     "metadata": {},
     "output_type": "execute_result"
    }
   ],
   "source": [
    "users['region'].unique()"
   ]
  },
  {
   "cell_type": "code",
   "execution_count": 11,
   "id": "801c328b",
   "metadata": {},
   "outputs": [
    {
     "data": {},
     "execution_count": 11,
     "metadata": {},
     "output_type": "execute_result"
    }
   ],
   "source": [
    "users['device'].unique()"
   ]
  },
  {
   "cell_type": "code",
   "execution_count": 12,
   "id": "3e05f4d5",
   "metadata": {
    "scrolled": true
   },
   "outputs": [
    {
     "data": {},
     "metadata": {},
     "output_type": "display_data"
    },
    {
     "data": {},
     "metadata": {},
     "output_type": "display_data"
    },
    {
     "data": {},
     "metadata": {},
     "output_type": "display_data"
    }
   ],
   "source": [
    "events_info = first_info(events)"
   ]
  },
  {
   "cell_type": "code",
   "execution_count": 13,
   "id": "4a43a6a9",
   "metadata": {},
   "outputs": [],
   "source": [
    "events['event_dt'] = pd.to_datetime(events['event_dt'], format='%Y-%m-%d %H:%M:%S')"
   ]
  },
  {
   "cell_type": "code",
   "execution_count": 14,
   "id": "c89545da",
   "metadata": {},
   "outputs": [
    {
     "data": {},
     "execution_count": 14,
     "metadata": {},
     "output_type": "execute_result"
    }
   ],
   "source": [
    "events['event_name'].unique()"
   ]
  },
  {
   "cell_type": "code",
   "execution_count": 15,
   "id": "cb91cd97",
   "metadata": {},
   "outputs": [
    {
     "data": {},
     "execution_count": 15,
     "metadata": {},
     "output_type": "execute_result"
    }
   ],
   "source": [
    "events['event_name'].value_counts()"
   ]
  },
  {
   "cell_type": "markdown",
   "id": "cfb8a2a6",
   "metadata": {},
   "source": [
    "дата остановки: 2021-01-04;"
   ]
  },
  {
   "cell_type": "markdown",
   "id": "96ea95f4",
   "metadata": {},
   "source": [
    "Количество заполненных данных в столбце details = количеству событий purchase (покупок), осталыные столбцы это вход, карточка продукта и корзина т.е. пропуски логичны и их не нужно обрабатывать        "
   ]
  },
  {
   "cell_type": "code",
   "execution_count": 16,
   "id": "6430ca5e",
   "metadata": {},
   "outputs": [
    {
     "data": {},
     "metadata": {},
     "output_type": "display_data"
    },
    {
     "data": {},
     "metadata": {},
     "output_type": "display_data"
    },
    {
     "data": {},
     "metadata": {},
     "output_type": "display_data"
    }
   ],
   "source": [
    "marketing_events_info = first_info(marketing_events)"
   ]
  },
  {
   "cell_type": "code",
   "execution_count": 17,
   "id": "e68b537d",
   "metadata": {},
   "outputs": [
    {
     "data": {},
     "execution_count": 17,
     "metadata": {},
     "output_type": "execute_result"
    }
   ],
   "source": [
    "marketing_events['name'].unique()"
   ]
  },
  {
   "cell_type": "code",
   "execution_count": 18,
   "id": "30772cbb",
   "metadata": {},
   "outputs": [
    {
     "data": {},
     "execution_count": 18,
     "metadata": {},
     "output_type": "execute_result"
    }
   ],
   "source": [
    "marketing_events['regions'].unique()"
   ]
  },
  {
   "cell_type": "code",
   "execution_count": 19,
   "id": "495f5449",
   "metadata": {},
   "outputs": [],
   "source": [
    "marketing_events['start_dt'] = pd.to_datetime(marketing_events['start_dt'], format='%Y-%m-%d')\n",
    "marketing_events['finish_dt'] = pd.to_datetime(marketing_events['finish_dt'], format='%Y-%m-%d')"
   ]
  },
  {
   "cell_type": "markdown",
   "id": "c16b53cb",
   "metadata": {},
   "source": [
    "__ВЫВОДЫ:__\n",
    "\n",
    "+ импортированы библиотеки для дальнейшей работы с данными\n",
    "+ выведена первичная информация о датасетах (основная информация, пропуски и дубликаты)\n",
    "+ проверены уникальные значения датасетов (события, группы, регионы, устройства, тесты)\n",
    "+ столбцы с датами приведены в соответствие\n",
    "+ изучена природа пропусков и, в результате, оставлены пропуски в столбце details \n"
   ]
  },
  {
   "cell_type": "markdown",
   "id": "192c2de4",
   "metadata": {},
   "source": [
    "## 2. Корректность проведения теста"
   ]
  },
  {
   "cell_type": "markdown",
   "id": "28bae351",
   "metadata": {},
   "source": [
    "### Соответствие данных требованиям технического задания"
   ]
  },
  {
   "cell_type": "markdown",
   "id": "4acda6e2",
   "metadata": {},
   "source": [
    "### Техническое задание\n",
    "\n",
    "- Название теста: `recommender_system_test`;\n",
    "- группы: А — контрольная, B — новая платёжная воронка;\n",
    "- дата запуска: 2020-12-07;\n",
    "- дата остановки набора новых пользователей: 2020-12-21;\n",
    "- дата остановки: 2021-01-04;\n",
    "- аудитория: 15% новых пользователей из региона EU;\n",
    "- назначение теста: тестирование изменений, связанных с внедрением улучшенной рекомендательной системы;\n",
    "- ожидаемое количество участников теста: 6000.\n",
    "- ожидаемый эффект: за 14 дней с момента регистрации пользователи покажут улучшение каждой метрики не менее, чем на 10%:\n",
    "    - конверсии в просмотр карточек товаров — событие `product_page`,\n",
    "    - просмотры корзины — `product_cart`,\n",
    "    - покупки — `purchase`.\n",
    "    "
   ]
  },
  {
   "cell_type": "markdown",
   "id": "adf1f010",
   "metadata": {},
   "source": [
    "__При проверке уникальных значений мы уже установили, что в датасете содержится информация о 2х тестах:__\n",
    "+ recommender_system_test\n",
    "+ interface_eu_test\n",
    "\n",
    "__Также при проверке уникальных значений мы подтвердили, что данные имеются по 2м группам : А и В__"
   ]
  },
  {
   "cell_type": "code",
   "execution_count": 20,
   "id": "7a8d7e3a",
   "metadata": {
    "scrolled": true
   },
   "outputs": [
    {
     "data": {},
     "execution_count": 20,
     "metadata": {},
     "output_type": "execute_result"
    }
   ],
   "source": [
    "users['first_date'].describe()"
   ]
  },
  {
   "cell_type": "markdown",
   "id": "151a3bcb",
   "metadata": {},
   "source": [
    "_Не соответствует тех заданию:_\n",
    "\n",
    "\n",
    "+ дата запуска совпадает с заявленной: 2020-12-07\n",
    "+ дата остановки набора новых пользователей: по ТЗ = 2020-12-21 / в датасете = 2020-12-23\n"
   ]
  },
  {
   "cell_type": "code",
   "execution_count": 21,
   "id": "9849817d",
   "metadata": {},
   "outputs": [
    {
     "data": {},
     "execution_count": 21,
     "metadata": {},
     "output_type": "execute_result"
    }
   ],
   "source": [
    "difference_test = test_participants.merge(users, on = 'user_id', how='left')\n",
    "difference_test = difference_test.query('ab_test == \"recommender_system_test\"')\n",
    "difference_test['first_date'].describe()"
   ]
  },
  {
   "cell_type": "markdown",
   "id": "3f0547f2",
   "metadata": {},
   "source": [
    "__Удалим не соответствующие ТЗ данные__"
   ]
  },
  {
   "cell_type": "code",
   "execution_count": 22,
   "id": "27be4890",
   "metadata": {},
   "outputs": [],
   "source": [
    "right_users = users.query(\"first_date <= '2020-12-21'\")"
   ]
  },
  {
   "cell_type": "code",
   "execution_count": 23,
   "id": "72700aae",
   "metadata": {},
   "outputs": [],
   "source": [
    "print('Осталось {} пользователей, удалено {} пользователей ({:.2f} %)'.format(\n",
    "    right_users['user_id'].nunique(), users['user_id'].nunique() - right_users['user_id'].nunique(), \n",
    "    100 - right_users['user_id'].nunique() / users['user_id'].nunique()*100))"
   ]
  },
  {
   "cell_type": "code",
   "execution_count": 24,
   "id": "256915f1",
   "metadata": {
    "scrolled": true
   },
   "outputs": [
    {
     "data": {},
     "execution_count": 24,
     "metadata": {},
     "output_type": "execute_result"
    }
   ],
   "source": [
    "events['event_dt'].describe()"
   ]
  },
  {
   "cell_type": "markdown",
   "id": "ae729a33",
   "metadata": {},
   "source": [
    "_Не соответствует тех заданию:_\n",
    "\n",
    "+ дата запуска совпадает с заявленной: 2020-12-07\n",
    "+ дата остановки: по ТЗ =  2021-01-04 / в датасете = 2020-12-30 \n",
    "\n",
    "_нет данных по 5 дням с 31 декабря по 4 января_"
   ]
  },
  {
   "cell_type": "code",
   "execution_count": 25,
   "id": "6fd9c7ce",
   "metadata": {},
   "outputs": [
    {
     "data": {},
     "execution_count": 25,
     "metadata": {},
     "output_type": "execute_result"
    }
   ],
   "source": [
    "marketing_events.query('start_dt <= \"2021-01-04\" and finish_dt >= \"2020-12-07\"')"
   ]
  },
  {
   "cell_type": "markdown",
   "id": "e5221bd5",
   "metadata": {},
   "source": [
    "__В период проведения теста 25 декабря была запущена рождественская/новогодня промоакция и 30 января новогодняя лотерея. Т.к. рождественская/новогодня промоакция была проведена в регионах EU, N.America  она могла отразиться на действиях пользователей и исказить результаты теста. В новогодней лотерее европейские пользователи участие не принимали, т.е. данная акция не повлияла на результаты теста__"
   ]
  },
  {
   "cell_type": "markdown",
   "id": "c72cb61a",
   "metadata": {},
   "source": [
    "__Пересечение пользователей__"
   ]
  },
  {
   "cell_type": "code",
   "execution_count": 26,
   "id": "35e60430",
   "metadata": {},
   "outputs": [
    {
     "data": {},
     "execution_count": 26,
     "metadata": {},
     "output_type": "execute_result"
    }
   ],
   "source": [
    "test_participants['ab_test'].value_counts()"
   ]
  },
  {
   "cell_type": "code",
   "execution_count": 27,
   "id": "3f537bac",
   "metadata": {},
   "outputs": [
    {
     "data": {},
     "execution_count": 27,
     "metadata": {},
     "output_type": "execute_result"
    }
   ],
   "source": [
    "test_participants[test_participants.duplicated(subset=['user_id'], keep=False) == True]['ab_test'].value_counts()"
   ]
  },
  {
   "cell_type": "markdown",
   "id": "79415ed7",
   "metadata": {},
   "source": [
    "__1602 пользователя участвуют одновременно в 2х тестах__"
   ]
  },
  {
   "cell_type": "code",
   "execution_count": 28,
   "id": "ce8f5289",
   "metadata": {},
   "outputs": [
    {
     "data": {},
     "execution_count": 28,
     "metadata": {},
     "output_type": "execute_result"
    }
   ],
   "source": [
    "test_participants.query('ab_test == \"recommender_system_test\"')['group'].value_counts()"
   ]
  },
  {
   "cell_type": "markdown",
   "id": "e3e1d210",
   "metadata": {},
   "source": [
    "Разделение на группы неравномерное, разница почти в 1000 человек."
   ]
  },
  {
   "cell_type": "markdown",
   "id": "b085a105",
   "metadata": {},
   "source": [
    "__Выведем таблицу с пользователями, которые участвовали в нескольких тестах одной из групп__"
   ]
  },
  {
   "cell_type": "code",
   "execution_count": 29,
   "id": "e3f92ede",
   "metadata": {},
   "outputs": [
    {
     "data": {},
     "execution_count": 29,
     "metadata": {},
     "output_type": "execute_result"
    }
   ],
   "source": [
    "repeat_users = test_participants.groupby(['user_id', 'group']).size().reset_index()\n",
    "repeat_users.columns = ['user_id', 'group', 'count']\n",
    "repeat_users = repeat_users.query(\"count>1\").sort_values(by='user_id')\n",
    "repeat_users"
   ]
  },
  {
   "cell_type": "markdown",
   "id": "15c93f94",
   "metadata": {},
   "source": [
    "__Посмотрим результаты по айди пользователй групп А и В__"
   ]
  },
  {
   "cell_type": "code",
   "execution_count": 30,
   "id": "0e587dc7",
   "metadata": {},
   "outputs": [
    {
     "data": {},
     "execution_count": 30,
     "metadata": {},
     "output_type": "execute_result"
    }
   ],
   "source": [
    "test_participants.query(\"user_id == '001064FEAAB631A1'\")"
   ]
  },
  {
   "cell_type": "code",
   "execution_count": 31,
   "id": "300f34db",
   "metadata": {},
   "outputs": [
    {
     "data": {},
     "execution_count": 31,
     "metadata": {},
     "output_type": "execute_result"
    }
   ],
   "source": [
    "test_participants.query(\"user_id == '00341D8401F0F665'\")"
   ]
  },
  {
   "cell_type": "code",
   "execution_count": 32,
   "id": "de2dd57a",
   "metadata": {},
   "outputs": [],
   "source": [
    "print('Количество пользователей, которые участвовали в нескольких тестах одной из групп составляет {} шт.'.format(\n",
    "    len(repeat_users)))"
   ]
  },
  {
   "cell_type": "markdown",
   "id": "fea28b24",
   "metadata": {},
   "source": [
    "__Т.к. нас интересуют только пользователи из recommender_system_test, данные пользователи не повлияют на дальнейшее исследование, оставим без изменений.__"
   ]
  },
  {
   "cell_type": "markdown",
   "id": "1bd1793f",
   "metadata": {},
   "source": [
    "__Проверим также повторных пользователей для теста заявленного в ТЗ__"
   ]
  },
  {
   "cell_type": "code",
   "execution_count": 33,
   "id": "70053f5c",
   "metadata": {},
   "outputs": [],
   "source": [
    "participants = test_participants.query('ab_test == \"recommender_system_test\"')"
   ]
  },
  {
   "cell_type": "code",
   "execution_count": 34,
   "id": "57ab53cf",
   "metadata": {},
   "outputs": [
    {
     "data": {},
     "execution_count": 34,
     "metadata": {},
     "output_type": "execute_result"
    }
   ],
   "source": [
    "repeat_users_test = participants.groupby(['user_id', 'group']).size().reset_index()\n",
    "repeat_users_test.columns = ['user_id', 'group', 'count']\n",
    "repeat_users_test = repeat_users_test.query('count>1').sort_values(by='user_id')\n",
    "repeat_users_test.head()"
   ]
  },
  {
   "cell_type": "markdown",
   "id": "d911ac51",
   "metadata": {},
   "source": [
    "В группах A и B  теста из ТЗ нет одинаковых пользователей."
   ]
  },
  {
   "cell_type": "markdown",
   "id": "a1d98640",
   "metadata": {},
   "source": [
    "Обьединим таблицу с событиями и и отфильтрованными участниками"
   ]
  },
  {
   "cell_type": "code",
   "execution_count": 35,
   "id": "00bec438",
   "metadata": {},
   "outputs": [
    {
     "data": {},
     "execution_count": 35,
     "metadata": {},
     "output_type": "execute_result"
    }
   ],
   "source": [
    "test_recommender = participants.merge(events, on = 'user_id', how='left')\n",
    "test_recommender.head(5)"
   ]
  },
  {
   "cell_type": "code",
   "execution_count": 36,
   "id": "ecc4bcd8",
   "metadata": {},
   "outputs": [
    {
     "data": {},
     "execution_count": 36,
     "metadata": {},
     "output_type": "execute_result"
    }
   ],
   "source": [
    "test_recommender.isna().sum()"
   ]
  },
  {
   "cell_type": "code",
   "execution_count": 37,
   "id": "804d56ab",
   "metadata": {
    "scrolled": true
   },
   "outputs": [],
   "source": [
    "test_recommender.info()"
   ]
  },
  {
   "cell_type": "markdown",
   "id": "843aff6b",
   "metadata": {},
   "source": [
    "_После обьединения выявились 3026 пользователей, которые не совершали никаких действий. Данные пользователи при дальнейшем исследовании будут \"засорять\" данные, удалим такие строки_ "
   ]
  },
  {
   "cell_type": "code",
   "execution_count": 38,
   "id": "1a495d73",
   "metadata": {},
   "outputs": [],
   "source": [
    "test_recommender = test_recommender.dropna(subset=['event_name'])\n",
    "test_recommender.info()"
   ]
  },
  {
   "cell_type": "markdown",
   "id": "15ed096f",
   "metadata": {},
   "source": [
    "__Обьеденим таблицу с таблицей пользователей__"
   ]
  },
  {
   "cell_type": "code",
   "execution_count": 39,
   "id": "425834ae",
   "metadata": {},
   "outputs": [
    {
     "data": {},
     "execution_count": 39,
     "metadata": {},
     "output_type": "execute_result"
    }
   ],
   "source": [
    "test_recommender = test_recommender.merge(right_users, on = 'user_id', how='left')\n",
    "test_recommender.head(5)"
   ]
  },
  {
   "cell_type": "markdown",
   "id": "a093e831",
   "metadata": {},
   "source": [
    "Удалим пользователей не из Европы"
   ]
  },
  {
   "cell_type": "code",
   "execution_count": 40,
   "id": "1d04348c",
   "metadata": {},
   "outputs": [
    {
     "data": {},
     "execution_count": 40,
     "metadata": {},
     "output_type": "execute_result"
    }
   ],
   "source": [
    "test_recommender['region'].value_counts()"
   ]
  },
  {
   "cell_type": "code",
   "execution_count": 41,
   "id": "ac844362",
   "metadata": {},
   "outputs": [],
   "source": [
    "test_recommender = test_recommender.query(\"region == 'EU'\")"
   ]
  },
  {
   "cell_type": "code",
   "execution_count": 42,
   "id": "1e68d67e",
   "metadata": {},
   "outputs": [],
   "source": [
    "test_recommender.info()"
   ]
  },
  {
   "cell_type": "code",
   "execution_count": 43,
   "id": "af2b550a",
   "metadata": {},
   "outputs": [
    {
     "data": {},
     "execution_count": 43,
     "metadata": {},
     "output_type": "execute_result"
    }
   ],
   "source": [
    "test_recommender['group'].value_counts()"
   ]
  },
  {
   "cell_type": "code",
   "execution_count": 44,
   "id": "8f4d271f",
   "metadata": {},
   "outputs": [
    {
     "data": {},
     "execution_count": 44,
     "metadata": {},
     "output_type": "execute_result"
    }
   ],
   "source": [
    "test_recommender.groupby('group')['user_id'].nunique()"
   ]
  },
  {
   "cell_type": "markdown",
   "id": "a85f1da3",
   "metadata": {},
   "source": [
    "_Количество пользователей неравномерно распределено по группам, в группе А в 3 раза больше пользователей_"
   ]
  },
  {
   "cell_type": "markdown",
   "id": "0fcf7f3f",
   "metadata": {},
   "source": [
    "__Удалим из таблицы все события, которые длились дольше 14 дней__"
   ]
  },
  {
   "cell_type": "code",
   "execution_count": 45,
   "id": "aa04f49e",
   "metadata": {},
   "outputs": [],
   "source": [
    "test_recommender = (test_recommender.drop(\n",
    "    test_recommender[test_recommender['event_dt'] >= (test_recommender['first_date'] + pd.Timedelta(14, 'D'))].index))"
   ]
  },
  {
   "cell_type": "code",
   "execution_count": 46,
   "id": "d96e1602",
   "metadata": {
    "scrolled": true
   },
   "outputs": [],
   "source": [
    "test_recommender.info()"
   ]
  },
  {
   "cell_type": "markdown",
   "id": "ba160446",
   "metadata": {},
   "source": [
    "Проверка удовлетворение условию ТЗ \"аудитория: 15% новых пользователей из региона EU\""
   ]
  },
  {
   "cell_type": "code",
   "execution_count": 47,
   "id": "e4fc9a42",
   "metadata": {},
   "outputs": [
    {
     "data": {},
     "execution_count": 47,
     "metadata": {},
     "output_type": "execute_result"
    }
   ],
   "source": [
    "participants = participants.merge(right_users, on='user_id', how = 'inner')\n",
    "participants.head(5)"
   ]
  },
  {
   "cell_type": "code",
   "execution_count": 48,
   "id": "3c4a4b2b",
   "metadata": {},
   "outputs": [
    {
     "data": {},
     "execution_count": 48,
     "metadata": {},
     "output_type": "execute_result"
    }
   ],
   "source": [
    "participants.query('region == \"EU\"')['user_id'].nunique()"
   ]
  },
  {
   "cell_type": "code",
   "execution_count": 49,
   "id": "e7bf915e",
   "metadata": {},
   "outputs": [
    {
     "data": {},
     "execution_count": 49,
     "metadata": {},
     "output_type": "execute_result"
    }
   ],
   "source": [
    "right_users.query('region == \"EU\"')['user_id'].nunique()\n"
   ]
  },
  {
   "cell_type": "code",
   "execution_count": 50,
   "id": "4404e5f9",
   "metadata": {},
   "outputs": [],
   "source": [
    "print('Аудитория из EU в тесте \"recommender_system_test\" = {:.2f} %'.format(\n",
    "    participants.query('region == \"EU\"')['user_id'].nunique() / right_users.query(\n",
    "        'region == \"EU\"')['user_id'].nunique()*100))"
   ]
  },
  {
   "cell_type": "markdown",
   "id": "3c471020",
   "metadata": {},
   "source": [
    "Аудитория из Европы соответствует ТЗ и равна 15%"
   ]
  },
  {
   "cell_type": "markdown",
   "id": "99de0948",
   "metadata": {},
   "source": [
    "__ВЫВОДЫ:__\n",
    "\n",
    "При проверке данных на соответствие ТЗ установленно:\n",
    "\n",
    "\n",
    "+ количество тестов 2, оставлен только соответствующий ТЗ recommender_system_test\n",
    "+ Дата запуска и остановки набора пользователей в рамках нашего теста соответствует ТЗ\n",
    "+ Дата остановки теста не соответствует заявленой ТЗ. Не хватает 5 дней (возможно техническая ошибка при выгрузке данных)\n",
    "+ На результаты теста могла повлиять рождественская промоакция. Это могло отразиться на действиях пользователей, а следовательно - исказить результаты теста.\n",
    "+ Фактическое число участников (6701) немного превышает заявленные в ТЗ (6000), но если убрать из анализа пользователей, пересекающихся с другим тестом, их будет меньше необходимого. Принято решение оставить пересечение.\n",
    "+ Количество пользователей в группах теста распределены не равномерно - после фильтрации, в группе А 2604 пользователя, а в группе В 877 пользователей, что в 3 раза меньше. Такая неравномерность приведет к искальжению результатов в сторону группы А.\n",
    "+ аудитория в 15% новых пользователей из Европы соответствует ТЗ,но в тест попали пользователи из других стран, а не только из Eвропы (пользователи из других регионов удалены)\n",
    "\n",
    "_Теста проеведен некорректно_"
   ]
  },
  {
   "cell_type": "markdown",
   "id": "7f88728f",
   "metadata": {},
   "source": [
    "## 3. Исследовательский анализ данных"
   ]
  },
  {
   "cell_type": "markdown",
   "id": "a4925a27",
   "metadata": {},
   "source": [
    "### Количество событий на пользователя одинаково распределены в выборках?"
   ]
  },
  {
   "cell_type": "code",
   "execution_count": 51,
   "id": "70c9d05f",
   "metadata": {},
   "outputs": [
    {
     "data": {},
     "execution_count": 51,
     "metadata": {},
     "output_type": "execute_result"
    }
   ],
   "source": [
    "events_user = test_recommender.groupby('user_id')['event_name'].count().reset_index()\n",
    "events_user.columns = ['user_id', 'count_events']\n",
    "events_user"
   ]
  },
  {
   "cell_type": "code",
   "execution_count": 52,
   "id": "ee1cf983",
   "metadata": {},
   "outputs": [
    {
     "data": {},
     "execution_count": 52,
     "metadata": {},
     "output_type": "execute_result"
    }
   ],
   "source": [
    "test_recommender = test_recommender.merge(events_user, how='left', on='user_id')\n",
    "test_recommender"
   ]
  },
  {
   "cell_type": "code",
   "execution_count": 53,
   "id": "11ccf9b5",
   "metadata": {},
   "outputs": [],
   "source": [
    "test_recommender['e_date'] = test_recommender['event_dt'].dt.date"
   ]
  },
  {
   "cell_type": "code",
   "execution_count": 54,
   "id": "022eba02",
   "metadata": {},
   "outputs": [],
   "source": [
    "a_test = test_recommender.query(\"group == 'A'\")\n",
    "b_test = test_recommender.query(\"group == 'B'\")"
   ]
  },
  {
   "cell_type": "code",
   "execution_count": 55,
   "id": "85d77fae",
   "metadata": {},
   "outputs": [
    {
     "data": {},
     "execution_count": 55,
     "metadata": {},
     "output_type": "execute_result"
    }
   ],
   "source": [
    "a_test.describe()"
   ]
  },
  {
   "cell_type": "code",
   "execution_count": 56,
   "id": "cfea14e9",
   "metadata": {},
   "outputs": [
    {
     "data": {},
     "execution_count": 56,
     "metadata": {},
     "output_type": "execute_result"
    }
   ],
   "source": [
    "b_test.describe()"
   ]
  },
  {
   "cell_type": "code",
   "execution_count": 57,
   "id": "800723f2",
   "metadata": {},
   "outputs": [
    {
     "data": {
      "image/png": "[encoded data removed]"
     },
     "metadata": {},
     "output_type": "display_data"
    }
   ],
   "source": [
    "a_test['count_events'].hist(bins=50, figsize=(10,4), label='Группа A', alpha=0.75)\n",
    "b_test['count_events'].hist(bins=50, figsize=(10,4), label='Группа B', alpha=0.75)\n",
    "plt.legend()\n",
    "plt.xlabel('Количество событий на пользователя')\n",
    "plt.ylabel('Количество пользователей')\n",
    "plt.title('Гистограмма пользователей по количеству событий')\n",
    "plt.show()"
   ]
  },
  {
   "cell_type": "markdown",
   "id": "ca7e4991",
   "metadata": {},
   "source": [
    "Распределения схожи, но количество пользователей в группе А больше, и в среднем в группе A совершают на 1 действие больше, чем в группе B - 8,97 против 7,39."
   ]
  },
  {
   "cell_type": "markdown",
   "id": "71dde16d",
   "metadata": {},
   "source": [
    "### Как число событий в выборках распределено по дням?"
   ]
  },
  {
   "cell_type": "code",
   "execution_count": 58,
   "id": "9bf18c8d",
   "metadata": {},
   "outputs": [
    {
     "data": {},
     "metadata": {},
     "output_type": "display_data"
    },
    {
     "data": {
      "image/png": "[encoded data removed]"
     },
     "metadata": {},
     "output_type": "display_data"
    },
    {
     "data": {
      "image/png": "[encoded data removed]"
     },
     "metadata": {},
     "output_type": "display_data"
    }
   ],
   "source": [
    "fig = plt.figure(figsize=(10,4))\n",
    "\n",
    "ax = a_test.pivot_table(\n",
    "    index='e_date', values='user_id', columns='event_name', aggfunc='count').plot.bar(stacked=True, ylim=(0, 2200))\n",
    "ax.set_title(\"Группа A\")\n",
    "ax.set_xlabel(\"Дата\")\n",
    "ax.set_ylabel(\"Количество событий\")\n",
    "ax = b_test.pivot_table(\n",
    "    index='e_date', values='user_id', columns='event_name', aggfunc='count').plot.bar(stacked=True, ylim=(0, 500))\n",
    "ax.set_title(\"Группа B\")\n",
    "ax.set_xlabel(\"Дата\")\n",
    "ax.set_ylabel(\"Количество событий\")\n",
    "plt.show()"
   ]
  },
  {
   "cell_type": "markdown",
   "id": "4574fba6",
   "metadata": {},
   "source": [
    "+ Из графиков видно что рожденственское промо не повлияло на активность пользователей\n",
    "+ Группы ведут себя по разному:\n",
    "  + у группы А количество событий возрастает в середине исследуемого периода, пик 21 декабря\n",
    "  + у группы Б количество событий больше в начале и середине исследования\n",
    "+ максимальная активность в 2х группах приходится на 21 декабря\n",
    "+ с 22 декабря у обеих груп идет спад количества событий"
   ]
  },
  {
   "cell_type": "markdown",
   "id": "299f0a7b",
   "metadata": {},
   "source": [
    "### Как меняется конверсия в воронке в выборках на разных этапах?"
   ]
  },
  {
   "cell_type": "code",
   "execution_count": 59,
   "id": "157366b2",
   "metadata": {},
   "outputs": [
    {
     "data": {},
     "execution_count": 59,
     "metadata": {},
     "output_type": "execute_result"
    }
   ],
   "source": [
    "test_recommender_count = test_recommender.groupby(['group', 'event_name'], as_index=False) \\\n",
    "    .agg({'user_id':'nunique'}) \\\n",
    "    .rename(columns={'user_id':'users_count'}).reindex([0, 2, 1, 3, 4, 6, 5, 7])\n",
    "# cтроки переиндексированы для правильного посроения воронки\n",
    "test_recommender_count"
   ]
  },
  {
   "cell_type": "code",
   "execution_count": 60,
   "id": "0b7c2eff",
   "metadata": {},
   "outputs": [
    {
     "data": {},
     "metadata": {},
     "output_type": "display_data"
    },
    {
     "data": {
      "application/vnd.plotly.v1+json": {
       "config": {
        "plotlyServerURL": "https://plot.ly"
       },
       "data": [
        {
         "name": "Группа А",
         "textinfo": "value+percent initial",
         "type": "funnel",
         "x": [
          2604,
          1685,
          782,
          833
         ],
         "y": [
          "login",
          "product_page",
          "product_cart",
          "purchase"
         ]
        },
        {
         "name": "Группа B",
         "textinfo": "value+percent initial",
         "type": "funnel",
         "x": [
          876,
          493,
          244,
          249
         ],
         "y": [
          "login",
          "product_page",
          "product_cart",
          "purchase"
         ]
        }
       ],
       "layout": {
        "height": 500,
        "template": {
         "data": {
          "bar": [
           {
            "error_x": {
             "color": "#2a3f5f"
            },
            "error_y": {
             "color": "#2a3f5f"
            },
            "marker": {
             "line": {
              "color": "#E5ECF6",
              "width": 0.5
             },
             "pattern": {
              "fillmode": "overlay",
              "size": 10,
              "solidity": 0.2
             }
            },
            "type": "bar"
           }
          ],
          "barpolar": [
           {
            "marker": {
             "line": {
              "color": "#E5ECF6",
              "width": 0.5
             },
             "pattern": {
              "fillmode": "overlay",
              "size": 10,
              "solidity": 0.2
             }
            },
            "type": "barpolar"
           }
          ],
          "carpet": [
           {
            "aaxis": {
             "endlinecolor": "#2a3f5f",
             "gridcolor": "white",
             "linecolor": "white",
             "minorgridcolor": "white",
             "startlinecolor": "#2a3f5f"
            },
            "baxis": {
             "endlinecolor": "#2a3f5f",
             "gridcolor": "white",
             "linecolor": "white",
             "minorgridcolor": "white",
             "startlinecolor": "#2a3f5f"
            },
            "type": "carpet"
           }
          ],
          "choropleth": [
           {
            "colorbar": {
             "outlinewidth": 0,
             "ticks": ""
            },
            "type": "choropleth"
           }
          ],
          "contour": [
           {
            "colorbar": {
             "outlinewidth": 0,
             "ticks": ""
            },
            "colorscale": [
             [
              0,
              "#0d0887"
             ],
             [
              0.1111111111111111,
              "#46039f"
             ],
             [
              0.2222222222222222,
              "#7201a8"
             ],
             [
              0.3333333333333333,
              "#9c179e"
             ],
             [
              0.4444444444444444,
              "#bd3786"
             ],
             [
              0.5555555555555556,
              "#d8576b"
             ],
             [
              0.6666666666666666,
              "#ed7953"
             ],
             [
              0.7777777777777778,
              "#fb9f3a"
             ],
             [
              0.8888888888888888,
              "#fdca26"
             ],
             [
              1,
              "#f0f921"
             ]
            ],
            "type": "contour"
           }
          ],
          "contourcarpet": [
           {
            "colorbar": {
             "outlinewidth": 0,
             "ticks": ""
            },
            "type": "contourcarpet"
           }
          ],
          "heatmap": [
           {
            "colorbar": {
             "outlinewidth": 0,
             "ticks": ""
            },
            "colorscale": [
             [
              0,
              "#0d0887"
             ],
             [
              0.1111111111111111,
              "#46039f"
             ],
             [
              0.2222222222222222,
              "#7201a8"
             ],
             [
              0.3333333333333333,
              "#9c179e"
             ],
             [
              0.4444444444444444,
              "#bd3786"
             ],
             [
              0.5555555555555556,
              "#d8576b"
             ],
             [
              0.6666666666666666,
              "#ed7953"
             ],
             [
              0.7777777777777778,
              "#fb9f3a"
             ],
             [
              0.8888888888888888,
              "#fdca26"
             ],
             [
              1,
              "#f0f921"
             ]
            ],
            "type": "heatmap"
           }
          ],
          "heatmapgl": [
           {
            "colorbar": {
             "outlinewidth": 0,
             "ticks": ""
            },
            "colorscale": [
             [
              0,
              "#0d0887"
             ],
             [
              0.1111111111111111,
              "#46039f"
             ],
             [
              0.2222222222222222,
              "#7201a8"
             ],
             [
              0.3333333333333333,
              "#9c179e"
             ],
             [
              0.4444444444444444,
              "#bd3786"
             ],
             [
              0.5555555555555556,
              "#d8576b"
             ],
             [
              0.6666666666666666,
              "#ed7953"
             ],
             [
              0.7777777777777778,
              "#fb9f3a"
             ],
             [
              0.8888888888888888,
              "#fdca26"
             ],
             [
              1,
              "#f0f921"
             ]
            ],
            "type": "heatmapgl"
           }
          ],
          "histogram": [
           {
            "marker": {
             "pattern": {
              "fillmode": "overlay",
              "size": 10,
              "solidity": 0.2
             }
            },
            "type": "histogram"
           }
          ],
          "histogram2d": [
           {
            "colorbar": {
             "outlinewidth": 0,
             "ticks": ""
            },
            "colorscale": [
             [
              0,
              "#0d0887"
             ],
             [
              0.1111111111111111,
              "#46039f"
             ],
             [
              0.2222222222222222,
              "#7201a8"
             ],
             [
              0.3333333333333333,
              "#9c179e"
             ],
             [
              0.4444444444444444,
              "#bd3786"
             ],
             [
              0.5555555555555556,
              "#d8576b"
             ],
             [
              0.6666666666666666,
              "#ed7953"
             ],
             [
              0.7777777777777778,
              "#fb9f3a"
             ],
             [
              0.8888888888888888,
              "#fdca26"
             ],
             [
              1,
              "#f0f921"
             ]
            ],
            "type": "histogram2d"
           }
          ],
          "histogram2dcontour": [
           {
            "colorbar": {
             "outlinewidth": 0,
             "ticks": ""
            },
            "colorscale": [
             [
              0,
              "#0d0887"
             ],
             [
              0.1111111111111111,
              "#46039f"
             ],
             [
              0.2222222222222222,
              "#7201a8"
             ],
             [
              0.3333333333333333,
              "#9c179e"
             ],
             [
              0.4444444444444444,
              "#bd3786"
             ],
             [
              0.5555555555555556,
              "#d8576b"
             ],
             [
              0.6666666666666666,
              "#ed7953"
             ],
             [
              0.7777777777777778,
              "#fb9f3a"
             ],
             [
              0.8888888888888888,
              "#fdca26"
             ],
             [
              1,
              "#f0f921"
             ]
            ],
            "type": "histogram2dcontour"
           }
          ],
          "mesh3d": [
           {
            "colorbar": {
             "outlinewidth": 0,
             "ticks": ""
            },
            "type": "mesh3d"
           }
          ],
          "parcoords": [
           {
            "line": {
             "colorbar": {
              "outlinewidth": 0,
              "ticks": ""
             }
            },
            "type": "parcoords"
           }
          ],
          "pie": [
           {
            "automargin": true,
            "type": "pie"
           }
          ],
          "scatter": [
           {
            "marker": {
             "colorbar": {
              "outlinewidth": 0,
              "ticks": ""
             }
            },
            "type": "scatter"
           }
          ],
          "scatter3d": [
           {
            "line": {
             "colorbar": {
              "outlinewidth": 0,
              "ticks": ""
             }
            },
            "marker": {
             "colorbar": {
              "outlinewidth": 0,
              "ticks": ""
             }
            },
            "type": "scatter3d"
           }
          ],
          "scattercarpet": [
           {
            "marker": {
             "colorbar": {
              "outlinewidth": 0,
              "ticks": ""
             }
            },
            "type": "scattercarpet"
           }
          ],
          "scattergeo": [
           {
            "marker": {
             "colorbar": {
              "outlinewidth": 0,
              "ticks": ""
             }
            },
            "type": "scattergeo"
           }
          ],
          "scattergl": [
           {
            "marker": {
             "colorbar": {
              "outlinewidth": 0,
              "ticks": ""
             }
            },
            "type": "scattergl"
           }
          ],
          "scattermapbox": [
           {
            "marker": {
             "colorbar": {
              "outlinewidth": 0,
              "ticks": ""
             }
            },
            "type": "scattermapbox"
           }
          ],
          "scatterpolar": [
           {
            "marker": {
             "colorbar": {
              "outlinewidth": 0,
              "ticks": ""
             }
            },
            "type": "scatterpolar"
           }
          ],
          "scatterpolargl": [
           {
            "marker": {
             "colorbar": {
              "outlinewidth": 0,
              "ticks": ""
             }
            },
            "type": "scatterpolargl"
           }
          ],
          "scatterternary": [
           {
            "marker": {
             "colorbar": {
              "outlinewidth": 0,
              "ticks": ""
             }
            },
            "type": "scatterternary"
           }
          ],
          "surface": [
           {
            "colorbar": {
             "outlinewidth": 0,
             "ticks": ""
            },
            "colorscale": [
             [
              0,
              "#0d0887"
             ],
             [
              0.1111111111111111,
              "#46039f"
             ],
             [
              0.2222222222222222,
              "#7201a8"
             ],
             [
              0.3333333333333333,
              "#9c179e"
             ],
             [
              0.4444444444444444,
              "#bd3786"
             ],
             [
              0.5555555555555556,
              "#d8576b"
             ],
             [
              0.6666666666666666,
              "#ed7953"
             ],
             [
              0.7777777777777778,
              "#fb9f3a"
             ],
             [
              0.8888888888888888,
              "#fdca26"
             ],
             [
              1,
              "#f0f921"
             ]
            ],
            "type": "surface"
           }
          ],
          "table": [
           {
            "cells": {
             "fill": {
              "color": "#EBF0F8"
             },
             "line": {
              "color": "white"
             }
            },
            "header": {
             "fill": {
              "color": "#C8D4E3"
             },
             "line": {
              "color": "white"
             }
            },
            "type": "table"
           }
          ]
         },
         "layout": {
          "annotationdefaults": {
           "arrowcolor": "#2a3f5f",
           "arrowhead": 0,
           "arrowwidth": 1
          },
          "autotypenumbers": "strict",
          "coloraxis": {
           "colorbar": {
            "outlinewidth": 0,
            "ticks": ""
           }
          },
          "colorscale": {
           "diverging": [
            [
             0,
             "#8e0152"
            ],
            [
             0.1,
             "#c51b7d"
            ],
            [
             0.2,
             "#de77ae"
            ],
            [
             0.3,
             "#f1b6da"
            ],
            [
             0.4,
             "#fde0ef"
            ],
            [
             0.5,
             "#f7f7f7"
            ],
            [
             0.6,
             "#e6f5d0"
            ],
            [
             0.7,
             "#b8e186"
            ],
            [
             0.8,
             "#7fbc41"
            ],
            [
             0.9,
             "#4d9221"
            ],
            [
             1,
             "#276419"
            ]
           ],
           "sequential": [
            [
             0,
             "#0d0887"
            ],
            [
             0.1111111111111111,
             "#46039f"
            ],
            [
             0.2222222222222222,
             "#7201a8"
            ],
            [
             0.3333333333333333,
             "#9c179e"
            ],
            [
             0.4444444444444444,
             "#bd3786"
            ],
            [
             0.5555555555555556,
             "#d8576b"
            ],
            [
             0.6666666666666666,
             "#ed7953"
            ],
            [
             0.7777777777777778,
             "#fb9f3a"
            ],
            [
             0.8888888888888888,
             "#fdca26"
            ],
            [
             1,
             "#f0f921"
            ]
           ],
           "sequentialminus": [
            [
             0,
             "#0d0887"
            ],
            [
             0.1111111111111111,
             "#46039f"
            ],
            [
             0.2222222222222222,
             "#7201a8"
            ],
            [
             0.3333333333333333,
             "#9c179e"
            ],
            [
             0.4444444444444444,
             "#bd3786"
            ],
            [
             0.5555555555555556,
             "#d8576b"
            ],
            [
             0.6666666666666666,
             "#ed7953"
            ],
            [
             0.7777777777777778,
             "#fb9f3a"
            ],
            [
             0.8888888888888888,
             "#fdca26"
            ],
            [
             1,
             "#f0f921"
            ]
           ]
          },
          "colorway": [
           "#636efa",
           "#EF553B",
           "#00cc96",
           "#ab63fa",
           "#FFA15A",
           "#19d3f3",
           "#FF6692",
           "#B6E880",
           "#FF97FF",
           "#FECB52"
          ],
          "font": {
           "color": "#2a3f5f"
          },
          "geo": {
           "bgcolor": "white",
           "lakecolor": "white",
           "landcolor": "#E5ECF6",
           "showlakes": true,
           "showland": true,
           "subunitcolor": "white"
          },
          "hoverlabel": {
           "align": "left"
          },
          "hovermode": "closest",
          "mapbox": {
           "style": "light"
          },
          "paper_bgcolor": "white",
          "plot_bgcolor": "#E5ECF6",
          "polar": {
           "angularaxis": {
            "gridcolor": "white",
            "linecolor": "white",
            "ticks": ""
           },
           "bgcolor": "#E5ECF6",
           "radialaxis": {
            "gridcolor": "white",
            "linecolor": "white",
            "ticks": ""
           }
          },
          "scene": {
           "xaxis": {
            "backgroundcolor": "#E5ECF6",
            "gridcolor": "white",
            "gridwidth": 2,
            "linecolor": "white",
            "showbackground": true,
            "ticks": "",
            "zerolinecolor": "white"
           },
           "yaxis": {
            "backgroundcolor": "#E5ECF6",
            "gridcolor": "white",
            "gridwidth": 2,
            "linecolor": "white",
            "showbackground": true,
            "ticks": "",
            "zerolinecolor": "white"
           },
           "zaxis": {
            "backgroundcolor": "#E5ECF6",
            "gridcolor": "white",
            "gridwidth": 2,
            "linecolor": "white",
            "showbackground": true,
            "ticks": "",
            "zerolinecolor": "white"
           }
          },
          "shapedefaults": {
           "line": {
            "color": "#2a3f5f"
           }
          },
          "ternary": {
           "aaxis": {
            "gridcolor": "white",
            "linecolor": "white",
            "ticks": ""
           },
           "baxis": {
            "gridcolor": "white",
            "linecolor": "white",
            "ticks": ""
           },
           "bgcolor": "#E5ECF6",
           "caxis": {
            "gridcolor": "white",
            "linecolor": "white",
            "ticks": ""
           }
          },
          "title": {
           "x": 0.05
          },
          "xaxis": {
           "automargin": true,
           "gridcolor": "white",
           "linecolor": "white",
           "ticks": "",
           "title": {
            "standoff": 15
           },
           "zerolinecolor": "white",
           "zerolinewidth": 2
          },
          "yaxis": {
           "automargin": true,
           "gridcolor": "white",
           "linecolor": "white",
           "ticks": "",
           "title": {
            "standoff": 15
           },
           "zerolinecolor": "white",
           "zerolinewidth": 2
          }
         }
        },
        "title": {
         "text": "Воронка событий по группам"
        },
        "width": 1000
       }
      }
     },
     "metadata": {},
     "output_type": "display_data"
    }
   ],
   "source": [
    "fig = go.Figure()\n",
    "\n",
    "fig.add_trace(go.Funnel(\n",
    "    name = 'Группа А',\n",
    "    y = test_recommender_count.query('group == \"A\"')['event_name'],\n",
    "    x = test_recommender_count.query('group == \"A\"')['users_count'],\n",
    "    textinfo = \"value+percent initial\"))\n",
    "\n",
    "fig.add_trace(go.Funnel(\n",
    "    name = 'Группа B',\n",
    "    y = test_recommender_count.query('group == \"B\"')['event_name'],\n",
    "    x = test_recommender_count.query('group == \"B\"')['users_count'],\n",
    "    textinfo = \"value+percent initial\"))\n",
    "\n",
    "fig.update_layout(\n",
    "    title=\"Воронка событий по группам\",\n",
    "    width=1000, \n",
    "    height=500,\n",
    ")\n",
    "\n",
    "fig.show()"
   ]
  },
  {
   "cell_type": "markdown",
   "id": "77e02b91",
   "metadata": {},
   "source": [
    "+ Около 1/3 пользователей теряются при переходе к просмотру карточки товара в группе А и почти половина в группе В\n",
    "+ Примерно половина от посмотревших карточку товара, переходит в корзину в обеих группах\n",
    "+ ! Оплатить товар можно, не заходя в корзину\n",
    "+ Между предпоследним и последним этапом конверсия практически стопроцентная\n",
    "+ B воронках не видно ожидаемого улучшения в 10% на каждом шаге воронки."
   ]
  },
  {
   "cell_type": "markdown",
   "id": "bd7037ca",
   "metadata": {},
   "source": [
    "### 4.  A/B-тестированиe"
   ]
  },
  {
   "cell_type": "code",
   "execution_count": 61,
   "id": "82eaf69d",
   "metadata": {},
   "outputs": [
    {
     "data": {},
     "execution_count": 61,
     "metadata": {},
     "output_type": "execute_result"
    }
   ],
   "source": [
    "test_with_persent = test_recommender.pivot_table(\n",
    "    index='event_name', \n",
    "    columns='group', \n",
    "    values='user_id',\n",
    "    aggfunc='nunique').reset_index()\n",
    "test_with_persent = test_with_persent.reindex([0, 2, 1, 3]).reset_index()\n",
    "test_with_persent = test_with_persent.drop(columns=['index'], axis=1)\n",
    "test_with_persent['step_%_A'] =  (test_with_persent['A'].pct_change()*100)\n",
    "test_with_persent.loc[0, 'step_%_A'] = 100\n",
    "test_with_persent['step_%_B'] =  (test_with_persent['B'].pct_change()*100)\n",
    "test_with_persent.loc[0, 'step_%_B'] = 100\n",
    "test_with_persent"
   ]
  },
  {
   "cell_type": "markdown",
   "id": "0a885dbb",
   "metadata": {},
   "source": [
    "Улучшение каждой метрики не менее, чем на 10% не произошло"
   ]
  },
  {
   "cell_type": "code",
   "execution_count": 62,
   "id": "700b0e0f",
   "metadata": {
    "scrolled": true
   },
   "outputs": [
    {
     "data": {},
     "execution_count": 62,
     "metadata": {},
     "output_type": "execute_result"
    }
   ],
   "source": [
    "test = test_recommender.pivot_table(\n",
    "    index='event_name', \n",
    "    columns='group', \n",
    "    values='user_id',\n",
    "    aggfunc='nunique').reset_index()\n",
    "test = test.reindex([0, 2, 1, 3]).reset_index()\n",
    "test = test.drop(columns=['index'], axis=1)\n",
    "test = test.set_index(test.columns[0])\n",
    "test"
   ]
  },
  {
   "cell_type": "code",
   "execution_count": 63,
   "id": "8df7aba6",
   "metadata": {},
   "outputs": [
    {
     "data": {},
     "execution_count": 63,
     "metadata": {},
     "output_type": "execute_result"
    }
   ],
   "source": [
    "users_group = test_recommender.groupby('group')['user_id'].nunique().reset_index()\n",
    "users_group = users_group.set_index(users_group.columns[0])\n",
    "users_group"
   ]
  },
  {
   "cell_type": "markdown",
   "id": "51cd8984",
   "metadata": {},
   "source": [
    "__Выдвигаем гипотезы:__\n",
    "\n",
    "\n",
    "+ H_0 = доли посетителей побывавших на этапе воронки равны\n",
    "\n",
    "+ H_1 = между долями уникальных посетителей побывавших на этапе воронки есть значимая разница"
   ]
  },
  {
   "cell_type": "code",
   "execution_count": 64,
   "id": "51a1da4b",
   "metadata": {},
   "outputs": [],
   "source": [
    "def z_test(group_1, group_2, event_name, alpha): \n",
    "    p1_ev = test.loc[event_name, group_1]\n",
    "    p2_ev = test.loc[event_name, group_2]\n",
    "    \n",
    "    p1_us = users_group.loc[group_1, 'user_id']  \n",
    "    p2_us = users_group.loc[group_2, 'user_id'] \n",
    "    \n",
    "    p1 = p1_ev / p1_us\n",
    "    p2 = p2_ev / p2_us\n",
    "    difference = p1 - p2\n",
    "    p_combined = (p1_ev + p2_ev) / (p1_us + p2_us)\n",
    "    z_value = difference / mth.sqrt(p_combined * (1 - p_combined) * (1/p1_us + 1/p2_us))\n",
    "    distr = st.norm(0, 1)\n",
    "    p_value = (1 - distr.cdf(abs(z_value))) * 2\n",
    "    bonferroni = alpha / 4 # количество проведенных тестов\n",
    "    print('Проверка групп {} и {}, для события \"{}\": p-значение = {p_value:.2f}'.format(\n",
    "        group_1, group_2, event_name, p_value=p_value))\n",
    "    if p_value < bonferroni:\n",
    "        print(\n",
    "            'Отвергаем нулевую гипотезу: между долями уникальных посетителей побывавших на этапе воронки есть значимая разница'\n",
    "        )\n",
    "    else:\n",
    "        print('Не получилось отвергнуть нулевую гипотезу, доли посетителей, побывавших на этапе воронки, одинаковы')"
   ]
  },
  {
   "cell_type": "code",
   "execution_count": 65,
   "id": "c23c067d",
   "metadata": {},
   "outputs": [],
   "source": [
    "for event_name in test.index:\n",
    "    z_test('A', 'B', event_name, 0.05)\n",
    "    print()"
   ]
  },
  {
   "cell_type": "markdown",
   "id": "35c62192",
   "metadata": {},
   "source": [
    "__Выводы:__\n",
    "\n",
    "Проведена оценка статистической разницы долей двух групп по z-критерию по каждому событию::\n",
    "\n",
    "+ Авторизация (login) -  доли посетителей, побывавших на этапе воронки, равны\n",
    "+ Просмотр карточки товара (product_page) - доли посетителей, побывавших на этапе воронки, неравны\n",
    "+ Просмотр корзины (product_cart) - доли посетителей, побывавших на этапе воронки, равны\n",
    "+ Покупка (purchase) - доли посетителей, побывавших на этапе воронки, равны"
   ]
  },
  {
   "cell_type": "markdown",
   "id": "f8b8f891",
   "metadata": {},
   "source": [
    "## Общие выводы"
   ]
  },
  {
   "cell_type": "markdown",
   "id": "6be495e9",
   "metadata": {},
   "source": [
    "__Проведение теста не соответсвует техническому заданию:__\n",
    "\n",
    "\n",
    "+ Количество тестов 2, оставлен только соответствующий ТЗ recommender_system_test\n",
    "+ Дата запуска соответствует ТЗ, дата остановки в рамках нашего теста соответствует ТЗ\n",
    "+ Дата остановки теста не соответствует заявленой ТЗ. Не хватает 5 дней (возможно техническая ошибка при выгрузке данных)\n",
    "+ На результаты теста могла повлиять рождественская промоакция. Это могло отразиться на действиях пользователей, а следовательно - исказить результаты теста.\n",
    "+ Фактическое число участников (6701) немного превышает заявленные в ТЗ (6000), но если убрать из анализа пользователей, пересекающихся с другим тестом, их будет меньше необходимого. Принято решение оставить пересечение.\n",
    "+ Количество пользователей в группах теста распределены не равномерно - после фильтрации, в группе А 2604 пользователя, а в группе В 877 пользователей, что в 3 раза меньше. Такая неравномерность приведет к искажению результатов в сторону группы А.\n",
    "+ Аудитория в 15% новых пользователей из Европы соответствует ТЗ,но в тест попали пользователи из других стран, а не только из Eвропы (пользователи из других регионов удалены)\n",
    "+ Вместо ожидаемого улучшения метрик группы В на 10% наблюдается их снижение  Стоит отметить, что практически все пользователи с этапа просмотра корзины производят покупку.\n",
    "_Тест проеведен некорректно_\n",
    "\n",
    "\n",
    "__A/B-тест:__\n",
    "\n",
    "+ С учетом допущенных ошибок при проведении теста, по его результатам можно оценить отсутсвие ожидаемого эффекта в качестве прироста конверсии по просмотру карточек в размере 10%. Согласно воронке конверсии событий группа В имеет показатели ниже контрольной группы А. У product_cart и purchase статистически значимая разница отсутствует, поэтому внедрение улучшенной рекомендательной системы нельзя назвать успешным.\n",
    "\n",
    "__Рекомендации:__\n",
    "\n",
    "+ приостановить внедрение улучшенной рекомендательной системы;\n",
    "+ исправить все несоответствия техническому заданию, и перезапустить его.\n",
    "+ запускать новый тест рекомендуется уже после завершения всех маркетинговых событий."
   ]
  },
  {
   "cell_type": "code",
   "execution_count": null,
   "id": "d07a0ef1",
   "metadata": {},
   "outputs": [],
   "source": []
  }
 ],
 "metadata": {
  "ExecuteTimeLog": [
   {
    "duration": 1446,
    "start_time": "2023-02-20T06:05:05.875Z"
   },
   {
    "duration": 1299,
    "start_time": "2023-02-20T06:05:07.323Z"
   },
   {
    "duration": 3,
    "start_time": "2023-02-20T06:05:08.624Z"
   },
   {
    "duration": 74,
    "start_time": "2023-02-20T06:05:08.628Z"
   },
   {
    "duration": 5,
    "start_time": "2023-02-20T06:05:08.704Z"
   },
   {
    "duration": 36,
    "start_time": "2023-02-20T06:05:08.710Z"
   },
   {
    "duration": 37,
    "start_time": "2023-02-20T06:05:08.748Z"
   },
   {
    "duration": 136,
    "start_time": "2023-02-20T06:05:08.786Z"
   },
   {
    "duration": 23,
    "start_time": "2023-02-20T06:05:08.923Z"
   },
   {
    "duration": 32,
    "start_time": "2023-02-20T06:05:08.947Z"
   },
   {
    "duration": 25,
    "start_time": "2023-02-20T06:05:08.980Z"
   },
   {
    "duration": 423,
    "start_time": "2023-02-20T06:05:09.006Z"
   },
   {
    "duration": 116,
    "start_time": "2023-02-20T06:05:09.431Z"
   },
   {
    "duration": 27,
    "start_time": "2023-02-20T06:05:09.550Z"
   },
   {
    "duration": 80,
    "start_time": "2023-02-20T06:05:09.579Z"
   },
   {
    "duration": 58,
    "start_time": "2023-02-20T06:05:09.660Z"
   },
   {
    "duration": 20,
    "start_time": "2023-02-20T06:05:09.720Z"
   },
   {
    "duration": 44,
    "start_time": "2023-02-20T06:05:09.742Z"
   },
   {
    "duration": 39,
    "start_time": "2023-02-20T06:05:09.788Z"
   },
   {
    "duration": 56,
    "start_time": "2023-02-20T06:05:09.829Z"
   },
   {
    "duration": 35,
    "start_time": "2023-02-20T06:05:09.887Z"
   },
   {
    "duration": 113,
    "start_time": "2023-02-20T06:05:09.924Z"
   },
   {
    "duration": 48,
    "start_time": "2023-02-20T06:05:10.039Z"
   },
   {
    "duration": 11,
    "start_time": "2023-02-20T06:05:10.089Z"
   },
   {
    "duration": 44,
    "start_time": "2023-02-20T06:05:10.102Z"
   },
   {
    "duration": 33,
    "start_time": "2023-02-20T06:05:10.147Z"
   },
   {
    "duration": 29,
    "start_time": "2023-02-20T06:05:10.183Z"
   },
   {
    "duration": 18,
    "start_time": "2023-02-20T06:05:10.213Z"
   },
   {
    "duration": 55,
    "start_time": "2023-02-20T06:05:10.233Z"
   },
   {
    "duration": 8,
    "start_time": "2023-02-20T06:05:10.290Z"
   },
   {
    "duration": 50,
    "start_time": "2023-02-20T06:05:10.300Z"
   },
   {
    "duration": 29,
    "start_time": "2023-02-20T06:05:10.352Z"
   },
   {
    "duration": 36,
    "start_time": "2023-02-20T06:05:10.383Z"
   },
   {
    "duration": 58,
    "start_time": "2023-02-20T06:05:10.421Z"
   },
   {
    "duration": 135,
    "start_time": "2023-02-20T06:05:10.482Z"
   },
   {
    "duration": 21,
    "start_time": "2023-02-20T06:05:10.618Z"
   },
   {
    "duration": 37,
    "start_time": "2023-02-20T06:05:10.640Z"
   },
   {
    "duration": 36,
    "start_time": "2023-02-20T06:05:10.679Z"
   },
   {
    "duration": 58,
    "start_time": "2023-02-20T06:05:10.716Z"
   },
   {
    "duration": 8,
    "start_time": "2023-02-20T06:05:10.775Z"
   },
   {
    "duration": 49,
    "start_time": "2023-02-20T06:05:10.787Z"
   },
   {
    "duration": 33,
    "start_time": "2023-02-20T06:05:10.838Z"
   },
   {
    "duration": 21,
    "start_time": "2023-02-20T06:05:10.873Z"
   },
   {
    "duration": 40,
    "start_time": "2023-02-20T06:05:10.896Z"
   },
   {
    "duration": 13,
    "start_time": "2023-02-20T06:05:10.938Z"
   },
   {
    "duration": 48,
    "start_time": "2023-02-20T06:05:10.952Z"
   },
   {
    "duration": 39,
    "start_time": "2023-02-20T06:05:11.002Z"
   },
   {
    "duration": 9,
    "start_time": "2023-02-20T06:05:11.043Z"
   },
   {
    "duration": 28,
    "start_time": "2023-02-20T06:05:11.053Z"
   },
   {
    "duration": 37,
    "start_time": "2023-02-20T06:05:11.083Z"
   },
   {
    "duration": 46,
    "start_time": "2023-02-20T06:05:11.122Z"
   },
   {
    "duration": 35,
    "start_time": "2023-02-20T06:05:11.170Z"
   },
   {
    "duration": 25,
    "start_time": "2023-02-20T06:05:11.206Z"
   },
   {
    "duration": 36,
    "start_time": "2023-02-20T06:05:11.233Z"
   },
   {
    "duration": 38,
    "start_time": "2023-02-20T06:05:11.271Z"
   },
   {
    "duration": 49,
    "start_time": "2023-02-20T06:05:11.311Z"
   },
   {
    "duration": 366,
    "start_time": "2023-02-20T06:05:11.362Z"
   },
   {
    "duration": 840,
    "start_time": "2023-02-20T06:05:11.729Z"
   },
   {
    "duration": 26,
    "start_time": "2023-02-20T06:05:12.571Z"
   },
   {
    "duration": 622,
    "start_time": "2023-02-20T06:05:12.599Z"
   },
   {
    "duration": 29,
    "start_time": "2023-02-20T06:05:13.223Z"
   },
   {
    "duration": 84,
    "start_time": "2023-02-20T06:05:13.254Z"
   },
   {
    "duration": 12,
    "start_time": "2023-02-20T06:05:13.340Z"
   },
   {
    "duration": 25,
    "start_time": "2023-02-20T06:05:13.353Z"
   },
   {
    "duration": 40,
    "start_time": "2023-02-20T06:05:13.380Z"
   },
   {
    "duration": 74,
    "start_time": "2023-02-20T06:06:18.534Z"
   }
  ],
  "kernelspec": {
   "display_name": "Python 3 (ipykernel)",
   "language": "python",
   "name": "python3"
  },
  "language_info": {
   "codemirror_mode": {
    "name": "ipython",
    "version": 3
   },
   "file_extension": ".py",
   "mimetype": "text/x-python",
   "name": "python",
   "nbconvert_exporter": "python",
   "pygments_lexer": "ipython3",
   "version": "3.9.15"
  },
  "toc": {
   "base_numbering": 1,
   "nav_menu": {},
   "number_sections": true,
   "sideBar": true,
   "skip_h1_title": true,
   "title_cell": "Table of Contents",
   "title_sidebar": "Contents",
   "toc_cell": false,
   "toc_position": {},
   "toc_section_display": true,
   "toc_window_display": false
  }
 },
 "nbformat": 4,
 "nbformat_minor": 5
}
