{
 "cells": [
  {
   "cell_type": "markdown",
   "id": "02419367",
   "metadata": {
    "deletable": false,
    "editable": false,
    "id": "c81daeeb"
   },
   "source": [
    "# Исследование надежности заемщиков\n"
   ]
  },
  {
   "cell_type": "markdown",
   "id": "41aa8752",
   "metadata": {
    "deletable": false,
    "editable": false,
    "id": "827c20bf"
   },
   "source": [
    "Во второй части проекта вы выполните шаги 3 и 4. Их вручную проверит ревьюер.\n",
    "Чтобы вам не пришлось писать код заново для шагов 1 и 2, мы добавили авторские решения в ячейки с кодом. \n",
    "\n"
   ]
  },
  {
   "cell_type": "markdown",
   "id": "1bd1c868",
   "metadata": {
    "deletable": false,
    "editable": false,
    "id": "744d7639"
   },
   "source": [
    "## Откройте таблицу и изучите общую информацию о данных"
   ]
  },
  {
   "cell_type": "markdown",
   "id": "c238252e",
   "metadata": {
    "deletable": false,
    "editable": false,
    "id": "e7a14c31"
   },
   "source": [
    "**Задание 1. Импортируйте библиотеку pandas. Считайте данные из csv-файла в датафрейм и сохраните в переменную `data`. Путь к файлу:**\n",
    "\n",
    "`/datasets/data.csv`"
   ]
  },
  {
   "cell_type": "code",
   "execution_count": 1,
   "id": "ffc6f5de",
   "metadata": {
    "deletable": false,
    "id": "7bcf75c9"
   },
   "outputs": [],
   "source": [
    "import pandas as pd\n",
    "\n",
    "try:\n",
    "    data = pd.read_csv('\\\\C:\\\\Users\\\\79184\\\\Desktop\\\\проект 1\\\\data.csv')\n",
    "except:\n",
    "    data = pd.read_csv('https://code.s3.yandex.net/datasets/data.csv')"
   ]
  },
  {
   "cell_type": "markdown",
   "id": "16417560",
   "metadata": {
    "deletable": false,
    "editable": false,
    "id": "b8038fe3"
   },
   "source": [
    "**Задание 2. Выведите первые 20 строчек датафрейма `data` на экран.**"
   ]
  },
  {
   "cell_type": "code",
   "execution_count": 2,
   "id": "1e853aa5",
   "metadata": {
    "deletable": false,
    "id": "2a7cab99",
    "outputId": "1a8f3ef2-d323-4ec2-ddf7-89670b5944c4"
   },
   "outputs": [
    {
     "data": {
      "text/html": [
       "<div>\n",
       "<style scoped>\n",
       "    .dataframe tbody tr th:only-of-type {\n",
       "        vertical-align: middle;\n",
       "    }\n",
       "\n",
       "    .dataframe tbody tr th {\n",
       "        vertical-align: top;\n",
       "    }\n",
       "\n",
       "    .dataframe thead th {\n",
       "        text-align: right;\n",
       "    }\n",
       "</style>\n",
       "<table border=\"1\" class=\"dataframe\">\n",
       "  <thead>\n",
       "    <tr style=\"text-align: right;\">\n",
       "      <th></th>\n",
       "      <th>children</th>\n",
       "      <th>days_employed</th>\n",
       "      <th>dob_years</th>\n",
       "      <th>education</th>\n",
       "      <th>education_id</th>\n",
       "      <th>family_status</th>\n",
       "      <th>family_status_id</th>\n",
       "      <th>gender</th>\n",
       "      <th>income_type</th>\n",
       "      <th>debt</th>\n",
       "      <th>total_income</th>\n",
       "      <th>purpose</th>\n",
       "    </tr>\n",
       "  </thead>\n",
       "  <tbody>\n",
       "    <tr>\n",
       "      <th>0</th>\n",
       "      <td>1</td>\n",
       "      <td>-8437.673028</td>\n",
       "      <td>42</td>\n",
       "      <td>высшее</td>\n",
       "      <td>0</td>\n",
       "      <td>женат / замужем</td>\n",
       "      <td>0</td>\n",
       "      <td>F</td>\n",
       "      <td>сотрудник</td>\n",
       "      <td>0</td>\n",
       "      <td>253875.639453</td>\n",
       "      <td>покупка жилья</td>\n",
       "    </tr>\n",
       "    <tr>\n",
       "      <th>1</th>\n",
       "      <td>1</td>\n",
       "      <td>-4024.803754</td>\n",
       "      <td>36</td>\n",
       "      <td>среднее</td>\n",
       "      <td>1</td>\n",
       "      <td>женат / замужем</td>\n",
       "      <td>0</td>\n",
       "      <td>F</td>\n",
       "      <td>сотрудник</td>\n",
       "      <td>0</td>\n",
       "      <td>112080.014102</td>\n",
       "      <td>приобретение автомобиля</td>\n",
       "    </tr>\n",
       "    <tr>\n",
       "      <th>2</th>\n",
       "      <td>0</td>\n",
       "      <td>-5623.422610</td>\n",
       "      <td>33</td>\n",
       "      <td>Среднее</td>\n",
       "      <td>1</td>\n",
       "      <td>женат / замужем</td>\n",
       "      <td>0</td>\n",
       "      <td>M</td>\n",
       "      <td>сотрудник</td>\n",
       "      <td>0</td>\n",
       "      <td>145885.952297</td>\n",
       "      <td>покупка жилья</td>\n",
       "    </tr>\n",
       "    <tr>\n",
       "      <th>3</th>\n",
       "      <td>3</td>\n",
       "      <td>-4124.747207</td>\n",
       "      <td>32</td>\n",
       "      <td>среднее</td>\n",
       "      <td>1</td>\n",
       "      <td>женат / замужем</td>\n",
       "      <td>0</td>\n",
       "      <td>M</td>\n",
       "      <td>сотрудник</td>\n",
       "      <td>0</td>\n",
       "      <td>267628.550329</td>\n",
       "      <td>дополнительное образование</td>\n",
       "    </tr>\n",
       "    <tr>\n",
       "      <th>4</th>\n",
       "      <td>0</td>\n",
       "      <td>340266.072047</td>\n",
       "      <td>53</td>\n",
       "      <td>среднее</td>\n",
       "      <td>1</td>\n",
       "      <td>гражданский брак</td>\n",
       "      <td>1</td>\n",
       "      <td>F</td>\n",
       "      <td>пенсионер</td>\n",
       "      <td>0</td>\n",
       "      <td>158616.077870</td>\n",
       "      <td>сыграть свадьбу</td>\n",
       "    </tr>\n",
       "    <tr>\n",
       "      <th>5</th>\n",
       "      <td>0</td>\n",
       "      <td>-926.185831</td>\n",
       "      <td>27</td>\n",
       "      <td>высшее</td>\n",
       "      <td>0</td>\n",
       "      <td>гражданский брак</td>\n",
       "      <td>1</td>\n",
       "      <td>M</td>\n",
       "      <td>компаньон</td>\n",
       "      <td>0</td>\n",
       "      <td>255763.565419</td>\n",
       "      <td>покупка жилья</td>\n",
       "    </tr>\n",
       "    <tr>\n",
       "      <th>6</th>\n",
       "      <td>0</td>\n",
       "      <td>-2879.202052</td>\n",
       "      <td>43</td>\n",
       "      <td>высшее</td>\n",
       "      <td>0</td>\n",
       "      <td>женат / замужем</td>\n",
       "      <td>0</td>\n",
       "      <td>F</td>\n",
       "      <td>компаньон</td>\n",
       "      <td>0</td>\n",
       "      <td>240525.971920</td>\n",
       "      <td>операции с жильем</td>\n",
       "    </tr>\n",
       "    <tr>\n",
       "      <th>7</th>\n",
       "      <td>0</td>\n",
       "      <td>-152.779569</td>\n",
       "      <td>50</td>\n",
       "      <td>СРЕДНЕЕ</td>\n",
       "      <td>1</td>\n",
       "      <td>женат / замужем</td>\n",
       "      <td>0</td>\n",
       "      <td>M</td>\n",
       "      <td>сотрудник</td>\n",
       "      <td>0</td>\n",
       "      <td>135823.934197</td>\n",
       "      <td>образование</td>\n",
       "    </tr>\n",
       "    <tr>\n",
       "      <th>8</th>\n",
       "      <td>2</td>\n",
       "      <td>-6929.865299</td>\n",
       "      <td>35</td>\n",
       "      <td>ВЫСШЕЕ</td>\n",
       "      <td>0</td>\n",
       "      <td>гражданский брак</td>\n",
       "      <td>1</td>\n",
       "      <td>F</td>\n",
       "      <td>сотрудник</td>\n",
       "      <td>0</td>\n",
       "      <td>95856.832424</td>\n",
       "      <td>на проведение свадьбы</td>\n",
       "    </tr>\n",
       "    <tr>\n",
       "      <th>9</th>\n",
       "      <td>0</td>\n",
       "      <td>-2188.756445</td>\n",
       "      <td>41</td>\n",
       "      <td>среднее</td>\n",
       "      <td>1</td>\n",
       "      <td>женат / замужем</td>\n",
       "      <td>0</td>\n",
       "      <td>M</td>\n",
       "      <td>сотрудник</td>\n",
       "      <td>0</td>\n",
       "      <td>144425.938277</td>\n",
       "      <td>покупка жилья для семьи</td>\n",
       "    </tr>\n",
       "    <tr>\n",
       "      <th>10</th>\n",
       "      <td>2</td>\n",
       "      <td>-4171.483647</td>\n",
       "      <td>36</td>\n",
       "      <td>высшее</td>\n",
       "      <td>0</td>\n",
       "      <td>женат / замужем</td>\n",
       "      <td>0</td>\n",
       "      <td>M</td>\n",
       "      <td>компаньон</td>\n",
       "      <td>0</td>\n",
       "      <td>113943.491460</td>\n",
       "      <td>покупка недвижимости</td>\n",
       "    </tr>\n",
       "    <tr>\n",
       "      <th>11</th>\n",
       "      <td>0</td>\n",
       "      <td>-792.701887</td>\n",
       "      <td>40</td>\n",
       "      <td>среднее</td>\n",
       "      <td>1</td>\n",
       "      <td>женат / замужем</td>\n",
       "      <td>0</td>\n",
       "      <td>F</td>\n",
       "      <td>сотрудник</td>\n",
       "      <td>0</td>\n",
       "      <td>77069.234271</td>\n",
       "      <td>покупка коммерческой недвижимости</td>\n",
       "    </tr>\n",
       "    <tr>\n",
       "      <th>12</th>\n",
       "      <td>0</td>\n",
       "      <td>NaN</td>\n",
       "      <td>65</td>\n",
       "      <td>среднее</td>\n",
       "      <td>1</td>\n",
       "      <td>гражданский брак</td>\n",
       "      <td>1</td>\n",
       "      <td>M</td>\n",
       "      <td>пенсионер</td>\n",
       "      <td>0</td>\n",
       "      <td>NaN</td>\n",
       "      <td>сыграть свадьбу</td>\n",
       "    </tr>\n",
       "    <tr>\n",
       "      <th>13</th>\n",
       "      <td>0</td>\n",
       "      <td>-1846.641941</td>\n",
       "      <td>54</td>\n",
       "      <td>неоконченное высшее</td>\n",
       "      <td>2</td>\n",
       "      <td>женат / замужем</td>\n",
       "      <td>0</td>\n",
       "      <td>F</td>\n",
       "      <td>сотрудник</td>\n",
       "      <td>0</td>\n",
       "      <td>130458.228857</td>\n",
       "      <td>приобретение автомобиля</td>\n",
       "    </tr>\n",
       "    <tr>\n",
       "      <th>14</th>\n",
       "      <td>0</td>\n",
       "      <td>-1844.956182</td>\n",
       "      <td>56</td>\n",
       "      <td>высшее</td>\n",
       "      <td>0</td>\n",
       "      <td>гражданский брак</td>\n",
       "      <td>1</td>\n",
       "      <td>F</td>\n",
       "      <td>компаньон</td>\n",
       "      <td>1</td>\n",
       "      <td>165127.911772</td>\n",
       "      <td>покупка жилой недвижимости</td>\n",
       "    </tr>\n",
       "    <tr>\n",
       "      <th>15</th>\n",
       "      <td>1</td>\n",
       "      <td>-972.364419</td>\n",
       "      <td>26</td>\n",
       "      <td>среднее</td>\n",
       "      <td>1</td>\n",
       "      <td>женат / замужем</td>\n",
       "      <td>0</td>\n",
       "      <td>F</td>\n",
       "      <td>сотрудник</td>\n",
       "      <td>0</td>\n",
       "      <td>116820.904450</td>\n",
       "      <td>строительство собственной недвижимости</td>\n",
       "    </tr>\n",
       "    <tr>\n",
       "      <th>16</th>\n",
       "      <td>0</td>\n",
       "      <td>-1719.934226</td>\n",
       "      <td>35</td>\n",
       "      <td>среднее</td>\n",
       "      <td>1</td>\n",
       "      <td>женат / замужем</td>\n",
       "      <td>0</td>\n",
       "      <td>F</td>\n",
       "      <td>сотрудник</td>\n",
       "      <td>0</td>\n",
       "      <td>289202.704229</td>\n",
       "      <td>недвижимость</td>\n",
       "    </tr>\n",
       "    <tr>\n",
       "      <th>17</th>\n",
       "      <td>0</td>\n",
       "      <td>-2369.999720</td>\n",
       "      <td>33</td>\n",
       "      <td>высшее</td>\n",
       "      <td>0</td>\n",
       "      <td>гражданский брак</td>\n",
       "      <td>1</td>\n",
       "      <td>M</td>\n",
       "      <td>сотрудник</td>\n",
       "      <td>0</td>\n",
       "      <td>90410.586745</td>\n",
       "      <td>строительство недвижимости</td>\n",
       "    </tr>\n",
       "    <tr>\n",
       "      <th>18</th>\n",
       "      <td>0</td>\n",
       "      <td>400281.136913</td>\n",
       "      <td>53</td>\n",
       "      <td>среднее</td>\n",
       "      <td>1</td>\n",
       "      <td>вдовец / вдова</td>\n",
       "      <td>2</td>\n",
       "      <td>F</td>\n",
       "      <td>пенсионер</td>\n",
       "      <td>0</td>\n",
       "      <td>56823.777243</td>\n",
       "      <td>на покупку подержанного автомобиля</td>\n",
       "    </tr>\n",
       "    <tr>\n",
       "      <th>19</th>\n",
       "      <td>0</td>\n",
       "      <td>-10038.818549</td>\n",
       "      <td>48</td>\n",
       "      <td>СРЕДНЕЕ</td>\n",
       "      <td>1</td>\n",
       "      <td>в разводе</td>\n",
       "      <td>3</td>\n",
       "      <td>F</td>\n",
       "      <td>сотрудник</td>\n",
       "      <td>0</td>\n",
       "      <td>242831.107982</td>\n",
       "      <td>на покупку своего автомобиля</td>\n",
       "    </tr>\n",
       "  </tbody>\n",
       "</table>\n",
       "</div>"
      ],
      "text/plain": [
       "    children  days_employed  dob_years            education  education_id  \\\n",
       "0          1   -8437.673028         42               высшее             0   \n",
       "1          1   -4024.803754         36              среднее             1   \n",
       "2          0   -5623.422610         33              Среднее             1   \n",
       "3          3   -4124.747207         32              среднее             1   \n",
       "4          0  340266.072047         53              среднее             1   \n",
       "5          0    -926.185831         27               высшее             0   \n",
       "6          0   -2879.202052         43               высшее             0   \n",
       "7          0    -152.779569         50              СРЕДНЕЕ             1   \n",
       "8          2   -6929.865299         35               ВЫСШЕЕ             0   \n",
       "9          0   -2188.756445         41              среднее             1   \n",
       "10         2   -4171.483647         36               высшее             0   \n",
       "11         0    -792.701887         40              среднее             1   \n",
       "12         0            NaN         65              среднее             1   \n",
       "13         0   -1846.641941         54  неоконченное высшее             2   \n",
       "14         0   -1844.956182         56               высшее             0   \n",
       "15         1    -972.364419         26              среднее             1   \n",
       "16         0   -1719.934226         35              среднее             1   \n",
       "17         0   -2369.999720         33               высшее             0   \n",
       "18         0  400281.136913         53              среднее             1   \n",
       "19         0  -10038.818549         48              СРЕДНЕЕ             1   \n",
       "\n",
       "       family_status  family_status_id gender income_type  debt  \\\n",
       "0    женат / замужем                 0      F   сотрудник     0   \n",
       "1    женат / замужем                 0      F   сотрудник     0   \n",
       "2    женат / замужем                 0      M   сотрудник     0   \n",
       "3    женат / замужем                 0      M   сотрудник     0   \n",
       "4   гражданский брак                 1      F   пенсионер     0   \n",
       "5   гражданский брак                 1      M   компаньон     0   \n",
       "6    женат / замужем                 0      F   компаньон     0   \n",
       "7    женат / замужем                 0      M   сотрудник     0   \n",
       "8   гражданский брак                 1      F   сотрудник     0   \n",
       "9    женат / замужем                 0      M   сотрудник     0   \n",
       "10   женат / замужем                 0      M   компаньон     0   \n",
       "11   женат / замужем                 0      F   сотрудник     0   \n",
       "12  гражданский брак                 1      M   пенсионер     0   \n",
       "13   женат / замужем                 0      F   сотрудник     0   \n",
       "14  гражданский брак                 1      F   компаньон     1   \n",
       "15   женат / замужем                 0      F   сотрудник     0   \n",
       "16   женат / замужем                 0      F   сотрудник     0   \n",
       "17  гражданский брак                 1      M   сотрудник     0   \n",
       "18    вдовец / вдова                 2      F   пенсионер     0   \n",
       "19         в разводе                 3      F   сотрудник     0   \n",
       "\n",
       "     total_income                                 purpose  \n",
       "0   253875.639453                           покупка жилья  \n",
       "1   112080.014102                 приобретение автомобиля  \n",
       "2   145885.952297                           покупка жилья  \n",
       "3   267628.550329              дополнительное образование  \n",
       "4   158616.077870                         сыграть свадьбу  \n",
       "5   255763.565419                           покупка жилья  \n",
       "6   240525.971920                       операции с жильем  \n",
       "7   135823.934197                             образование  \n",
       "8    95856.832424                   на проведение свадьбы  \n",
       "9   144425.938277                 покупка жилья для семьи  \n",
       "10  113943.491460                    покупка недвижимости  \n",
       "11   77069.234271       покупка коммерческой недвижимости  \n",
       "12            NaN                         сыграть свадьбу  \n",
       "13  130458.228857                 приобретение автомобиля  \n",
       "14  165127.911772              покупка жилой недвижимости  \n",
       "15  116820.904450  строительство собственной недвижимости  \n",
       "16  289202.704229                            недвижимость  \n",
       "17   90410.586745              строительство недвижимости  \n",
       "18   56823.777243      на покупку подержанного автомобиля  \n",
       "19  242831.107982            на покупку своего автомобиля  "
      ]
     },
     "execution_count": 2,
     "metadata": {},
     "output_type": "execute_result"
    }
   ],
   "source": [
    "data.head(20)"
   ]
  },
  {
   "cell_type": "markdown",
   "id": "dff043ff",
   "metadata": {
    "deletable": false,
    "editable": false,
    "id": "1c12e233"
   },
   "source": [
    "**Задание 3. Выведите основную информацию о датафрейме с помощью метода `info()`.**"
   ]
  },
  {
   "cell_type": "code",
   "execution_count": 3,
   "id": "54d88ab0",
   "metadata": {
    "deletable": false,
    "id": "2b757bca",
    "outputId": "15376089-8dad-46c9-b520-c05248d43158"
   },
   "outputs": [
    {
     "name": "stdout",
     "output_type": "stream",
     "text": [
      "<class 'pandas.core.frame.DataFrame'>\n",
      "RangeIndex: 21525 entries, 0 to 21524\n",
      "Data columns (total 12 columns):\n",
      " #   Column            Non-Null Count  Dtype  \n",
      "---  ------            --------------  -----  \n",
      " 0   children          21525 non-null  int64  \n",
      " 1   days_employed     19351 non-null  float64\n",
      " 2   dob_years         21525 non-null  int64  \n",
      " 3   education         21525 non-null  object \n",
      " 4   education_id      21525 non-null  int64  \n",
      " 5   family_status     21525 non-null  object \n",
      " 6   family_status_id  21525 non-null  int64  \n",
      " 7   gender            21525 non-null  object \n",
      " 8   income_type       21525 non-null  object \n",
      " 9   debt              21525 non-null  int64  \n",
      " 10  total_income      19351 non-null  float64\n",
      " 11  purpose           21525 non-null  object \n",
      "dtypes: float64(2), int64(5), object(5)\n",
      "memory usage: 2.0+ MB\n"
     ]
    }
   ],
   "source": [
    "data.info()"
   ]
  },
  {
   "cell_type": "markdown",
   "id": "c4e5c1cd",
   "metadata": {
    "deletable": false,
    "editable": false,
    "id": "333ec665"
   },
   "source": [
    "## Предобработка данных"
   ]
  },
  {
   "cell_type": "markdown",
   "id": "e0d74efb",
   "metadata": {
    "deletable": false,
    "editable": false,
    "id": "02d92d53"
   },
   "source": [
    "### Удаление пропусков"
   ]
  },
  {
   "cell_type": "markdown",
   "id": "3bf94cb2",
   "metadata": {
    "deletable": false,
    "editable": false,
    "id": "cd84967c"
   },
   "source": [
    "**Задание 4. Выведите количество пропущенных значений для каждого столбца. Используйте комбинацию двух методов.**"
   ]
  },
  {
   "cell_type": "code",
   "execution_count": 4,
   "id": "1c4f69c9",
   "metadata": {
    "deletable": false,
    "id": "7f9b2309",
    "outputId": "81f4d817-781c-465c-ed15-91ce4446810d"
   },
   "outputs": [
    {
     "data": {
      "text/plain": [
       "children               0\n",
       "days_employed       2174\n",
       "dob_years              0\n",
       "education              0\n",
       "education_id           0\n",
       "family_status          0\n",
       "family_status_id       0\n",
       "gender                 0\n",
       "income_type            0\n",
       "debt                   0\n",
       "total_income        2174\n",
       "purpose                0\n",
       "dtype: int64"
      ]
     },
     "execution_count": 4,
     "metadata": {},
     "output_type": "execute_result"
    }
   ],
   "source": [
    "data.isna().sum()"
   ]
  },
  {
   "cell_type": "markdown",
   "id": "b6afbc62",
   "metadata": {
    "deletable": false,
    "editable": false,
    "id": "db86e27b"
   },
   "source": [
    "**Задание 5. В двух столбцах есть пропущенные значения. Один из них — `days_employed`. Пропуски в этом столбце вы обработаете на следующем этапе. Другой столбец с пропущенными значениями — `total_income` — хранит данные о доходах. На сумму дохода сильнее всего влияет тип занятости, поэтому заполнить пропуски в этом столбце нужно медианным значением по каждому типу из столбца `income_type`. Например, у человека с типом занятости `сотрудник` пропуск в столбце `total_income` должен быть заполнен медианным доходом среди всех записей с тем же типом.**"
   ]
  },
  {
   "cell_type": "code",
   "execution_count": 5,
   "id": "e69cb2c2",
   "metadata": {
    "deletable": false,
    "id": "42006a93"
   },
   "outputs": [],
   "source": [
    "for t in data['income_type'].unique():\n",
    "    data.loc[(data['income_type'] == t) & (data['total_income'].isna()), 'total_income'] = \\\n",
    "    data.loc[(data['income_type'] == t), 'total_income'].median()"
   ]
  },
  {
   "cell_type": "markdown",
   "id": "888c9f8e",
   "metadata": {
    "deletable": false,
    "editable": false,
    "id": "89da5ece"
   },
   "source": [
    "### Обработка аномальных значений"
   ]
  },
  {
   "cell_type": "markdown",
   "id": "f5644a1c",
   "metadata": {
    "deletable": false,
    "editable": false,
    "id": "57964554"
   },
   "source": [
    "**Задание 6. В данных могут встречаться артефакты (аномалии) — значения, которые не отражают действительность и появились по какой-то ошибке. таким артефактом будет отрицательное количество дней трудового стажа в столбце `days_employed`. Для реальных данных это нормально. Обработайте значения в этом столбце: замените все отрицательные значения положительными с помощью метода `abs()`.**"
   ]
  },
  {
   "cell_type": "code",
   "execution_count": 6,
   "id": "48539063",
   "metadata": {
    "deletable": false,
    "id": "f6f055bf"
   },
   "outputs": [],
   "source": [
    "data['days_employed'] = data['days_employed'].abs()"
   ]
  },
  {
   "cell_type": "markdown",
   "id": "9d6fedc6",
   "metadata": {
    "deletable": false,
    "editable": false,
    "id": "6107dd2f"
   },
   "source": [
    "**Задание 7. Для каждого типа занятости выведите медианное значение трудового стажа `days_employed` в днях.**"
   ]
  },
  {
   "cell_type": "code",
   "execution_count": 7,
   "id": "46dfc91a",
   "metadata": {
    "deletable": false,
    "id": "85a5faf6",
    "outputId": "801ef80e-522b-4668-f34e-565af7432bcf"
   },
   "outputs": [
    {
     "data": {
      "text/plain": [
       "income_type\n",
       "безработный        366413.652744\n",
       "в декрете            3296.759962\n",
       "госслужащий          2689.368353\n",
       "компаньон            1547.382223\n",
       "пенсионер          365213.306266\n",
       "предприниматель       520.848083\n",
       "сотрудник            1574.202821\n",
       "студент               578.751554\n",
       "Name: days_employed, dtype: float64"
      ]
     },
     "execution_count": 7,
     "metadata": {},
     "output_type": "execute_result"
    }
   ],
   "source": [
    "data.groupby('income_type')['days_employed'].agg('median')"
   ]
  },
  {
   "cell_type": "markdown",
   "id": "9330b98c",
   "metadata": {
    "deletable": false,
    "editable": false,
    "id": "38d1a030"
   },
   "source": [
    "У двух типов (безработные и пенсионеры) получатся аномально большие значения. Исправить такие значения сложно, поэтому оставьте их как есть. Тем более этот столбец не понадобится вам для исследования."
   ]
  },
  {
   "cell_type": "markdown",
   "id": "e4016966",
   "metadata": {
    "deletable": false,
    "editable": false,
    "id": "d8a9f147"
   },
   "source": [
    "**Задание 8. Выведите перечень уникальных значений столбца `children`.**"
   ]
  },
  {
   "cell_type": "code",
   "execution_count": 8,
   "id": "a03f7eeb",
   "metadata": {
    "deletable": false,
    "id": "ef5056eb",
    "outputId": "6975b15c-7f95-4697-d16d-a0c79b657b03"
   },
   "outputs": [
    {
     "data": {
      "text/plain": [
       "array([ 1,  0,  3,  2, -1,  4, 20,  5], dtype=int64)"
      ]
     },
     "execution_count": 8,
     "metadata": {},
     "output_type": "execute_result"
    }
   ],
   "source": [
    "data['children'].unique()"
   ]
  },
  {
   "cell_type": "markdown",
   "id": "61de9148",
   "metadata": {
    "deletable": false,
    "editable": false,
    "id": "40b9ebf2"
   },
   "source": [
    "**Задание 9. В столбце `children` есть два аномальных значения. Удалите строки, в которых встречаются такие аномальные значения из датафрейма `data`.**"
   ]
  },
  {
   "cell_type": "code",
   "execution_count": 9,
   "id": "118b99e4",
   "metadata": {
    "deletable": false,
    "id": "3ff9801d"
   },
   "outputs": [],
   "source": [
    "data = data[(data['children'] != -1) & (data['children'] != 20)]"
   ]
  },
  {
   "cell_type": "markdown",
   "id": "53638f9a",
   "metadata": {
    "deletable": false,
    "editable": false,
    "id": "bbc4d0ce"
   },
   "source": [
    "**Задание 10. Ещё раз выведите перечень уникальных значений столбца `children`, чтобы убедиться, что артефакты удалены.**"
   ]
  },
  {
   "cell_type": "code",
   "execution_count": 10,
   "id": "dbeb43c8",
   "metadata": {
    "deletable": false,
    "id": "ad4fa8b7",
    "outputId": "b2097101-d49d-44d9-901b-32a65c9463d1"
   },
   "outputs": [
    {
     "data": {
      "text/plain": [
       "array([1, 0, 3, 2, 4, 5], dtype=int64)"
      ]
     },
     "execution_count": 10,
     "metadata": {},
     "output_type": "execute_result"
    }
   ],
   "source": [
    "data['children'].unique()"
   ]
  },
  {
   "cell_type": "markdown",
   "id": "00eb7d62",
   "metadata": {
    "deletable": false,
    "editable": false,
    "id": "75440b63"
   },
   "source": [
    "### Удаление пропусков (продолжение)"
   ]
  },
  {
   "cell_type": "markdown",
   "id": "f1ee5020",
   "metadata": {
    "deletable": false,
    "editable": false,
    "id": "f4ea573f"
   },
   "source": [
    "**Задание 11. Заполните пропуски в столбце `days_employed` медианными значениями по каждого типа занятости `income_type`.**"
   ]
  },
  {
   "cell_type": "code",
   "execution_count": 11,
   "id": "77499f4f",
   "metadata": {
    "deletable": false,
    "id": "af6b1a7e"
   },
   "outputs": [],
   "source": [
    "for t in data['income_type'].unique():\n",
    "    data.loc[(data['income_type'] == t) & (data['days_employed'].isna()), 'days_employed'] = \\\n",
    "    data.loc[(data['income_type'] == t), 'days_employed'].median()"
   ]
  },
  {
   "cell_type": "markdown",
   "id": "11364f35",
   "metadata": {
    "deletable": false,
    "editable": false,
    "id": "2753f40d"
   },
   "source": [
    "**Задание 12. Убедитесь, что все пропуски заполнены. Проверьте себя и ещё раз выведите количество пропущенных значений для каждого столбца с помощью двух методов.**"
   ]
  },
  {
   "cell_type": "code",
   "execution_count": 12,
   "id": "a01b8858",
   "metadata": {
    "deletable": false,
    "id": "55f78bc2",
    "outputId": "8da1e4e1-358e-4e87-98c9-f261bce0a7b2"
   },
   "outputs": [
    {
     "data": {
      "text/plain": [
       "children            0\n",
       "days_employed       0\n",
       "dob_years           0\n",
       "education           0\n",
       "education_id        0\n",
       "family_status       0\n",
       "family_status_id    0\n",
       "gender              0\n",
       "income_type         0\n",
       "debt                0\n",
       "total_income        0\n",
       "purpose             0\n",
       "dtype: int64"
      ]
     },
     "execution_count": 12,
     "metadata": {},
     "output_type": "execute_result"
    }
   ],
   "source": [
    "data.isna().sum()"
   ]
  },
  {
   "cell_type": "markdown",
   "id": "23197187",
   "metadata": {
    "deletable": false,
    "editable": false,
    "id": "ddc81e43"
   },
   "source": [
    "### Изменение типов данных"
   ]
  },
  {
   "cell_type": "markdown",
   "id": "33e9ec33",
   "metadata": {
    "deletable": false,
    "editable": false,
    "id": "42d19d24"
   },
   "source": [
    "**Задание 13. Замените вещественный тип данных в столбце `total_income` на целочисленный с помощью метода `astype()`.**"
   ]
  },
  {
   "cell_type": "code",
   "execution_count": 13,
   "id": "a78ed3c2",
   "metadata": {
    "deletable": false,
    "id": "920b65ad"
   },
   "outputs": [],
   "source": [
    "data['total_income'] = data['total_income'].astype(int)"
   ]
  },
  {
   "cell_type": "markdown",
   "id": "c00a3289",
   "metadata": {
    "deletable": false,
    "editable": false,
    "id": "80c420ba"
   },
   "source": [
    "### Обработка дубликатов"
   ]
  },
  {
   "cell_type": "markdown",
   "id": "14545335",
   "metadata": {
    "deletable": false,
    "editable": false
   },
   "source": [
    "**Задание 14. Обработайте неявные дубликаты в столбце `education`. В этом столбце есть одни и те же значения, но записанные по-разному: с использованием заглавных и строчных букв. Приведите их к нижнему регистру. Проверьте остальные столбцы.**"
   ]
  },
  {
   "cell_type": "code",
   "execution_count": 14,
   "id": "c48b0fcf",
   "metadata": {
    "deletable": false
   },
   "outputs": [],
   "source": [
    "data['education'] = data['education'].str.lower()"
   ]
  },
  {
   "cell_type": "markdown",
   "id": "5c7eeade",
   "metadata": {
    "deletable": false,
    "editable": false,
    "id": "dc587695"
   },
   "source": [
    "**Задание 15. Выведите на экран количество строк-дубликатов в данных. Если такие строки присутствуют, удалите их.**"
   ]
  },
  {
   "cell_type": "code",
   "execution_count": 15,
   "id": "ee6f6c8e",
   "metadata": {
    "deletable": false,
    "id": "3ee445e4",
    "outputId": "9684deba-1934-42d1-99e1-cda61740f822"
   },
   "outputs": [
    {
     "data": {
      "text/plain": [
       "71"
      ]
     },
     "execution_count": 15,
     "metadata": {},
     "output_type": "execute_result"
    }
   ],
   "source": [
    "data.duplicated().sum()"
   ]
  },
  {
   "cell_type": "code",
   "execution_count": 16,
   "id": "f1520fef",
   "metadata": {
    "deletable": false,
    "id": "8575fe05"
   },
   "outputs": [],
   "source": [
    "data = data.drop_duplicates()"
   ]
  },
  {
   "cell_type": "markdown",
   "id": "2a78e228",
   "metadata": {
    "deletable": false,
    "editable": false,
    "id": "9904cf55"
   },
   "source": [
    "### Категоризация данных"
   ]
  },
  {
   "cell_type": "markdown",
   "id": "45dc7721",
   "metadata": {
    "deletable": false,
    "editable": false,
    "id": "72fcc8a2"
   },
   "source": [
    "**Задание 16. На основании диапазонов, указанных ниже, создайте в датафрейме `data` столбец `total_income_category` с категориями:**\n",
    "\n",
    "- 0–30000 — `'E'`;\n",
    "- 30001–50000 — `'D'`;\n",
    "- 50001–200000 — `'C'`;\n",
    "- 200001–1000000 — `'B'`;\n",
    "- 1000001 и выше — `'A'`.\n",
    "\n",
    "\n",
    "**Например, кредитополучателю с доходом 25000 нужно назначить категорию `'E'`, а клиенту, получающему 235000, — `'B'`. Используйте собственную функцию с именем `categorize_income()` и метод `apply()`.**"
   ]
  },
  {
   "cell_type": "code",
   "execution_count": 17,
   "id": "5b97c7d5",
   "metadata": {
    "deletable": false,
    "id": "e1771346"
   },
   "outputs": [],
   "source": [
    "def categorize_income(income):\n",
    "    try:\n",
    "        if 0 <= income <= 30000:\n",
    "            return 'E'\n",
    "        elif 30001 <= income <= 50000:\n",
    "            return 'D'\n",
    "        elif 50001 <= income <= 200000:\n",
    "            return 'C'\n",
    "        elif 200001 <= income <= 1000000:\n",
    "            return 'B'\n",
    "        elif income >= 1000001:\n",
    "            return 'A'\n",
    "    except:\n",
    "        pass"
   ]
  },
  {
   "cell_type": "code",
   "execution_count": 18,
   "id": "c0c5b26b",
   "metadata": {
    "deletable": false,
    "id": "d5f3586d"
   },
   "outputs": [],
   "source": [
    "data['total_income_category'] = data['total_income'].apply(categorize_income)"
   ]
  },
  {
   "cell_type": "markdown",
   "id": "4d30edb8",
   "metadata": {
    "deletable": false,
    "editable": false,
    "id": "dde49b5c"
   },
   "source": [
    "**Задание 17. Выведите на экран перечень уникальных целей взятия кредита из столбца `purpose`.**"
   ]
  },
  {
   "cell_type": "code",
   "execution_count": 19,
   "id": "9bfc77fb",
   "metadata": {
    "deletable": false,
    "id": "f67ce9b3",
    "outputId": "673c12d9-7d7e-4ae0-9812-c622c89dd244"
   },
   "outputs": [
    {
     "data": {
      "text/plain": [
       "array(['покупка жилья', 'приобретение автомобиля',\n",
       "       'дополнительное образование', 'сыграть свадьбу',\n",
       "       'операции с жильем', 'образование', 'на проведение свадьбы',\n",
       "       'покупка жилья для семьи', 'покупка недвижимости',\n",
       "       'покупка коммерческой недвижимости', 'покупка жилой недвижимости',\n",
       "       'строительство собственной недвижимости', 'недвижимость',\n",
       "       'строительство недвижимости', 'на покупку подержанного автомобиля',\n",
       "       'на покупку своего автомобиля',\n",
       "       'операции с коммерческой недвижимостью',\n",
       "       'строительство жилой недвижимости', 'жилье',\n",
       "       'операции со своей недвижимостью', 'автомобили',\n",
       "       'заняться образованием', 'сделка с подержанным автомобилем',\n",
       "       'получение образования', 'автомобиль', 'свадьба',\n",
       "       'получение дополнительного образования', 'покупка своего жилья',\n",
       "       'операции с недвижимостью', 'получение высшего образования',\n",
       "       'свой автомобиль', 'сделка с автомобилем',\n",
       "       'профильное образование', 'высшее образование',\n",
       "       'покупка жилья для сдачи', 'на покупку автомобиля', 'ремонт жилью',\n",
       "       'заняться высшим образованием'], dtype=object)"
      ]
     },
     "execution_count": 19,
     "metadata": {},
     "output_type": "execute_result"
    }
   ],
   "source": [
    "data['purpose'].unique()"
   ]
  },
  {
   "cell_type": "markdown",
   "id": "c178104d",
   "metadata": {
    "deletable": false,
    "editable": false,
    "id": "85d0aef0"
   },
   "source": [
    "**Задание 18. Создайте функцию, которая на основании данных из столбца `purpose` сформирует новый столбец `purpose_category`, в который войдут следующие категории:**\n",
    "\n",
    "- `'операции с автомобилем'`,\n",
    "- `'операции с недвижимостью'`,\n",
    "- `'проведение свадьбы'`,\n",
    "- `'получение образования'`.\n",
    "\n",
    "**Например, если в столбце `purpose` находится подстрока `'на покупку автомобиля'`, то в столбце `purpose_category` должна появиться строка `'операции с автомобилем'`.**\n",
    "\n",
    "**Используйте собственную функцию с именем `categorize_purpose()` и метод `apply()`. Изучите данные в столбце `purpose` и определите, какие подстроки помогут вам правильно определить категорию.**"
   ]
  },
  {
   "cell_type": "code",
   "execution_count": 20,
   "id": "b5fc25f2",
   "metadata": {
    "deletable": false,
    "id": "e149fab4"
   },
   "outputs": [],
   "source": [
    "def categorize_purpose(row):\n",
    "    try:\n",
    "        if 'автом' in row:\n",
    "            return 'операции с автомобилем'\n",
    "        elif 'жил' in row or 'недвиж' in row:\n",
    "            return 'операции с недвижимостью'\n",
    "        elif 'свад' in row:\n",
    "            return 'проведение свадьбы'\n",
    "        elif 'образов' in row:\n",
    "            return 'получение образования'\n",
    "    except:\n",
    "        return 'нет категории'"
   ]
  },
  {
   "cell_type": "code",
   "execution_count": 21,
   "id": "fc4ac20d",
   "metadata": {
    "deletable": false,
    "id": "bf36e69b"
   },
   "outputs": [],
   "source": [
    "data['purpose_category'] = data['purpose'].apply(categorize_purpose)"
   ]
  },
  {
   "cell_type": "markdown",
   "id": "68eaeca6",
   "metadata": {
    "deletable": false,
    "editable": false,
    "id": "09b242bf"
   },
   "source": [
    "### Шаг 3. Исследуйте данные и ответьте на вопросы"
   ]
  },
  {
   "cell_type": "markdown",
   "id": "c6fdde75",
   "metadata": {
    "deletable": false,
    "editable": false,
    "id": "c5d66278"
   },
   "source": [
    "#### 3.1 Есть ли зависимость между количеством детей и возвратом кредита в срок?"
   ]
  },
  {
   "cell_type": "code",
   "execution_count": 22,
   "id": "12951bd7",
   "metadata": {},
   "outputs": [
    {
     "data": {
      "text/plain": [
       "array([1, 0, 3, 2, 4, 5], dtype=int64)"
      ]
     },
     "execution_count": 22,
     "metadata": {},
     "output_type": "execute_result"
    }
   ],
   "source": [
    "data['children'].unique() # вывод уникальных значений количества детей"
   ]
  },
  {
   "cell_type": "code",
   "execution_count": 23,
   "id": "8452a8b7",
   "metadata": {
    "scrolled": true
   },
   "outputs": [
    {
     "data": {
      "text/plain": [
       "array([0, 1], dtype=int64)"
      ]
     },
     "execution_count": 23,
     "metadata": {},
     "output_type": "execute_result"
    }
   ],
   "source": [
    "data['debt'].unique() # вывод уникальных значений обозначения задолженности (1 = есть, 0 = нет)"
   ]
  },
  {
   "cell_type": "code",
   "execution_count": 24,
   "id": "18fdb1b5",
   "metadata": {},
   "outputs": [
    {
     "data": {
      "text/plain": [
       "0    19599\n",
       "1     1732\n",
       "Name: debt, dtype: int64"
      ]
     },
     "execution_count": 24,
     "metadata": {},
     "output_type": "execute_result"
    }
   ],
   "source": [
    "data['debt'].value_counts() # количество должников и заемщиков без долга"
   ]
  },
  {
   "cell_type": "code",
   "execution_count": null,
   "id": "d10131d9",
   "metadata": {
    "deletable": false,
    "id": "2cacfc4a"
   },
   "outputs": [],
   "source": []
  },
  {
   "cell_type": "code",
   "execution_count": 25,
   "id": "33587463",
   "metadata": {
    "scrolled": false
   },
   "outputs": [
    {
     "data": {
      "text/plain": [
       "8.119638085415593"
      ]
     },
     "execution_count": 25,
     "metadata": {},
     "output_type": "execute_result"
    }
   ],
   "source": [
    "((data['debt'] == 1) / data['debt'].count()).sum() * 100"
   ]
  },
  {
   "cell_type": "code",
   "execution_count": 26,
   "id": "0d442e5c",
   "metadata": {
    "scrolled": true
   },
   "outputs": [
    {
     "data": {
      "text/html": [
       "<div>\n",
       "<style scoped>\n",
       "    .dataframe tbody tr th:only-of-type {\n",
       "        vertical-align: middle;\n",
       "    }\n",
       "\n",
       "    .dataframe tbody tr th {\n",
       "        vertical-align: top;\n",
       "    }\n",
       "\n",
       "    .dataframe thead tr th {\n",
       "        text-align: left;\n",
       "    }\n",
       "\n",
       "    .dataframe thead tr:last-of-type th {\n",
       "        text-align: right;\n",
       "    }\n",
       "</style>\n",
       "<table border=\"1\" class=\"dataframe\">\n",
       "  <thead>\n",
       "    <tr>\n",
       "      <th></th>\n",
       "      <th colspan=\"3\" halign=\"left\">debt</th>\n",
       "    </tr>\n",
       "    <tr>\n",
       "      <th></th>\n",
       "      <th>mean</th>\n",
       "      <th>count</th>\n",
       "      <th>sum</th>\n",
       "    </tr>\n",
       "    <tr>\n",
       "      <th>children</th>\n",
       "      <th></th>\n",
       "      <th></th>\n",
       "      <th></th>\n",
       "    </tr>\n",
       "  </thead>\n",
       "  <tbody>\n",
       "    <tr>\n",
       "      <th>0</th>\n",
       "      <td>0.075438</td>\n",
       "      <td>14091</td>\n",
       "      <td>1063</td>\n",
       "    </tr>\n",
       "    <tr>\n",
       "      <th>1</th>\n",
       "      <td>0.092346</td>\n",
       "      <td>4808</td>\n",
       "      <td>444</td>\n",
       "    </tr>\n",
       "    <tr>\n",
       "      <th>2</th>\n",
       "      <td>0.094542</td>\n",
       "      <td>2052</td>\n",
       "      <td>194</td>\n",
       "    </tr>\n",
       "    <tr>\n",
       "      <th>3</th>\n",
       "      <td>0.081818</td>\n",
       "      <td>330</td>\n",
       "      <td>27</td>\n",
       "    </tr>\n",
       "    <tr>\n",
       "      <th>4</th>\n",
       "      <td>0.097561</td>\n",
       "      <td>41</td>\n",
       "      <td>4</td>\n",
       "    </tr>\n",
       "    <tr>\n",
       "      <th>5</th>\n",
       "      <td>0.000000</td>\n",
       "      <td>9</td>\n",
       "      <td>0</td>\n",
       "    </tr>\n",
       "  </tbody>\n",
       "</table>\n",
       "</div>"
      ],
      "text/plain": [
       "              debt             \n",
       "              mean  count   sum\n",
       "children                       \n",
       "0         0.075438  14091  1063\n",
       "1         0.092346   4808   444\n",
       "2         0.094542   2052   194\n",
       "3         0.081818    330    27\n",
       "4         0.097561     41     4\n",
       "5         0.000000      9     0"
      ]
     },
     "execution_count": 26,
     "metadata": {},
     "output_type": "execute_result"
    }
   ],
   "source": [
    "data_children = data.groupby('children').agg({'debt': ['mean', 'count', 'sum']}) #групируем данные по количеству детей и наличию задолженности\n",
    "data_children.sort_values(by='children')"
   ]
  },
  {
   "cell_type": "code",
   "execution_count": 27,
   "id": "ebca03ee",
   "metadata": {},
   "outputs": [],
   "source": [
    "def have_a_child(children): # функция для выявления наличия/отсутствия детей\n",
    "    if children == 0:\n",
    "        return 0\n",
    "    return 1"
   ]
  },
  {
   "cell_type": "code",
   "execution_count": 28,
   "id": "0790e459",
   "metadata": {},
   "outputs": [],
   "source": [
    "data['have_a_child'] = data['children'].apply(have_a_child) # добавление столбца have_a_child показвающего наличие(1) и отсутствие (0) детей"
   ]
  },
  {
   "cell_type": "code",
   "execution_count": 29,
   "id": "3aa56812",
   "metadata": {},
   "outputs": [
    {
     "data": {
      "text/html": [
       "<div>\n",
       "<style scoped>\n",
       "    .dataframe tbody tr th:only-of-type {\n",
       "        vertical-align: middle;\n",
       "    }\n",
       "\n",
       "    .dataframe tbody tr th {\n",
       "        vertical-align: top;\n",
       "    }\n",
       "\n",
       "    .dataframe thead tr th {\n",
       "        text-align: left;\n",
       "    }\n",
       "\n",
       "    .dataframe thead tr:last-of-type th {\n",
       "        text-align: right;\n",
       "    }\n",
       "</style>\n",
       "<table border=\"1\" class=\"dataframe\">\n",
       "  <thead>\n",
       "    <tr>\n",
       "      <th></th>\n",
       "      <th colspan=\"3\" halign=\"left\">debt</th>\n",
       "    </tr>\n",
       "    <tr>\n",
       "      <th></th>\n",
       "      <th>mean</th>\n",
       "      <th>count</th>\n",
       "      <th>sum</th>\n",
       "    </tr>\n",
       "    <tr>\n",
       "      <th>have_a_child</th>\n",
       "      <th></th>\n",
       "      <th></th>\n",
       "      <th></th>\n",
       "    </tr>\n",
       "  </thead>\n",
       "  <tbody>\n",
       "    <tr>\n",
       "      <th>0</th>\n",
       "      <td>0.075438</td>\n",
       "      <td>14091</td>\n",
       "      <td>1063</td>\n",
       "    </tr>\n",
       "    <tr>\n",
       "      <th>1</th>\n",
       "      <td>0.092403</td>\n",
       "      <td>7240</td>\n",
       "      <td>669</td>\n",
       "    </tr>\n",
       "  </tbody>\n",
       "</table>\n",
       "</div>"
      ],
      "text/plain": [
       "                  debt             \n",
       "                  mean  count   sum\n",
       "have_a_child                       \n",
       "0             0.075438  14091  1063\n",
       "1             0.092403   7240   669"
      ]
     },
     "metadata": {},
     "output_type": "display_data"
    }
   ],
   "source": [
    "data_children = data.groupby('have_a_child').agg({'debt': ['mean', 'count', 'sum']}) # групируем данные по наличию детей и задолжности\n",
    "display(data_children)"
   ]
  },
  {
   "cell_type": "markdown",
   "id": "77afccc9",
   "metadata": {
    "deletable": false,
    "id": "3a6b99ec"
   },
   "source": [
    "**Вывод:**  В ходе исследования получены следущие результаты: общее количество должников 8,12% (1732 случая). В разрезе должников по количеству детей наибольший процент невозврата заемных средств составляет 9,76% у должников с четырьмя детьми. На втором месте (9,45%) находятся должники с двумя детьми, третье место у должников с 1 ребенком (9,23%). Наибольшее количество заемщиков у должников без детей, однако процент невозврата меньше чем у должников с детьми на 1,7 процента (7,54% против 9,24%). В категории заемщиков с пятью детьми случаев невозврата заемных средств нет.  Однако обьективно оценить влияние 3, 4 и 5 детей на возврат кредита в данном иследовании не предстваляется возможным т.к. обьема данных в этих категориях недостаточно (330, 41 и 9 против нескольких тысяч заемщиков в других категориях). Не принимая во внимание данные группы, все равно сохранится взаимосвязь между заемщиками с детьми и возратом займа в срок. Значит, заемщики без детей, являются более добросовесными клиентами."
   ]
  },
  {
   "cell_type": "markdown",
   "id": "11dcdfc7",
   "metadata": {
    "deletable": false,
    "editable": false,
    "id": "97be82ca"
   },
   "source": [
    "#### 3.2 Есть ли зависимость между семейным положением и возвратом кредита в срок?"
   ]
  },
  {
   "cell_type": "code",
   "execution_count": 30,
   "id": "3fb7e6a4",
   "metadata": {
    "deletable": false,
    "id": "dc3f7ee8"
   },
   "outputs": [
    {
     "data": {
      "text/plain": [
       "array(['женат / замужем', 'гражданский брак', 'вдовец / вдова',\n",
       "       'в разводе', 'Не женат / не замужем'], dtype=object)"
      ]
     },
     "execution_count": 30,
     "metadata": {},
     "output_type": "execute_result"
    }
   ],
   "source": [
    "data['family_status'].unique() # уникальные значения семейного положения"
   ]
  },
  {
   "cell_type": "code",
   "execution_count": 31,
   "id": "a1297013",
   "metadata": {},
   "outputs": [
    {
     "data": {
      "text/html": [
       "<div>\n",
       "<style scoped>\n",
       "    .dataframe tbody tr th:only-of-type {\n",
       "        vertical-align: middle;\n",
       "    }\n",
       "\n",
       "    .dataframe tbody tr th {\n",
       "        vertical-align: top;\n",
       "    }\n",
       "\n",
       "    .dataframe thead tr th {\n",
       "        text-align: left;\n",
       "    }\n",
       "\n",
       "    .dataframe thead tr:last-of-type th {\n",
       "        text-align: right;\n",
       "    }\n",
       "</style>\n",
       "<table border=\"1\" class=\"dataframe\">\n",
       "  <thead>\n",
       "    <tr>\n",
       "      <th></th>\n",
       "      <th colspan=\"3\" halign=\"left\">debt</th>\n",
       "    </tr>\n",
       "    <tr>\n",
       "      <th></th>\n",
       "      <th>mean</th>\n",
       "      <th>count</th>\n",
       "      <th>sum</th>\n",
       "    </tr>\n",
       "    <tr>\n",
       "      <th>family_status</th>\n",
       "      <th></th>\n",
       "      <th></th>\n",
       "      <th></th>\n",
       "    </tr>\n",
       "  </thead>\n",
       "  <tbody>\n",
       "    <tr>\n",
       "      <th>Не женат / не замужем</th>\n",
       "      <td>0.097639</td>\n",
       "      <td>2796</td>\n",
       "      <td>273</td>\n",
       "    </tr>\n",
       "    <tr>\n",
       "      <th>в разводе</th>\n",
       "      <td>0.070648</td>\n",
       "      <td>1189</td>\n",
       "      <td>84</td>\n",
       "    </tr>\n",
       "    <tr>\n",
       "      <th>вдовец / вдова</th>\n",
       "      <td>0.066246</td>\n",
       "      <td>951</td>\n",
       "      <td>63</td>\n",
       "    </tr>\n",
       "    <tr>\n",
       "      <th>гражданский брак</th>\n",
       "      <td>0.093130</td>\n",
       "      <td>4134</td>\n",
       "      <td>385</td>\n",
       "    </tr>\n",
       "    <tr>\n",
       "      <th>женат / замужем</th>\n",
       "      <td>0.075606</td>\n",
       "      <td>12261</td>\n",
       "      <td>927</td>\n",
       "    </tr>\n",
       "  </tbody>\n",
       "</table>\n",
       "</div>"
      ],
      "text/plain": [
       "                           debt            \n",
       "                           mean  count  sum\n",
       "family_status                              \n",
       "Не женат / не замужем  0.097639   2796  273\n",
       "в разводе              0.070648   1189   84\n",
       "вдовец / вдова         0.066246    951   63\n",
       "гражданский брак       0.093130   4134  385\n",
       "женат / замужем        0.075606  12261  927"
      ]
     },
     "metadata": {},
     "output_type": "display_data"
    }
   ],
   "source": [
    "data_family = data.groupby('family_status').agg({'debt': ['mean', 'count', 'sum']}) #групируем данные по семейному положению и наличию задолженности\n",
    "display(data_family)"
   ]
  },
  {
   "cell_type": "markdown",
   "id": "3f4eed2e",
   "metadata": {
    "deletable": false,
    "id": "1cef7837"
   },
   "source": [
    "**Вывод:** Наибольший процент невозврата заемных средств у не женатых / не замужних должников (9,76%) и должников находящихся в гражданском браке (9,31%). Женатые / замужние должники находятся на третьем месте (7,56%) и, также, включают наибольшее количество случаев невозврата. Должники в разводе и вдовцы / вдовы занимают 4 и 5 место соответствено (7,06 % и 6,62%). На основании данных можно сделать вывод, что женатые / замужние должники, а также категории должников, бывшие в прошлом в данном статусе более надежные заемщики чем не женатые / не замужние должники и должники в гражданском браке."
   ]
  },
  {
   "cell_type": "markdown",
   "id": "7378cce8",
   "metadata": {
    "deletable": false,
    "editable": false,
    "id": "1e8b2fca"
   },
   "source": [
    "#### 3.3 Есть ли зависимость между уровнем дохода и возвратом кредита в срок?"
   ]
  },
  {
   "cell_type": "code",
   "execution_count": 32,
   "id": "3d401647",
   "metadata": {
    "deletable": false,
    "id": "cd7e3720",
    "scrolled": true
   },
   "outputs": [
    {
     "data": {
      "text/plain": [
       "array(['B', 'C', 'D', 'E', 'A'], dtype=object)"
      ]
     },
     "execution_count": 32,
     "metadata": {},
     "output_type": "execute_result"
    }
   ],
   "source": [
    "data['total_income_category'].unique() # уникальные значения категорий дохода"
   ]
  },
  {
   "cell_type": "code",
   "execution_count": 33,
   "id": "51cc7d83",
   "metadata": {},
   "outputs": [],
   "source": [
    "# data.head(10)"
   ]
  },
  {
   "cell_type": "code",
   "execution_count": 34,
   "id": "b0619824",
   "metadata": {
    "scrolled": true
   },
   "outputs": [
    {
     "data": {
      "text/html": [
       "<div>\n",
       "<style scoped>\n",
       "    .dataframe tbody tr th:only-of-type {\n",
       "        vertical-align: middle;\n",
       "    }\n",
       "\n",
       "    .dataframe tbody tr th {\n",
       "        vertical-align: top;\n",
       "    }\n",
       "\n",
       "    .dataframe thead tr th {\n",
       "        text-align: left;\n",
       "    }\n",
       "\n",
       "    .dataframe thead tr:last-of-type th {\n",
       "        text-align: right;\n",
       "    }\n",
       "</style>\n",
       "<table border=\"1\" class=\"dataframe\">\n",
       "  <thead>\n",
       "    <tr>\n",
       "      <th></th>\n",
       "      <th colspan=\"3\" halign=\"left\">debt</th>\n",
       "    </tr>\n",
       "    <tr>\n",
       "      <th></th>\n",
       "      <th>mean</th>\n",
       "      <th>count</th>\n",
       "      <th>sum</th>\n",
       "    </tr>\n",
       "    <tr>\n",
       "      <th>total_income_category</th>\n",
       "      <th></th>\n",
       "      <th></th>\n",
       "      <th></th>\n",
       "    </tr>\n",
       "  </thead>\n",
       "  <tbody>\n",
       "    <tr>\n",
       "      <th>A</th>\n",
       "      <td>0.080000</td>\n",
       "      <td>25</td>\n",
       "      <td>2</td>\n",
       "    </tr>\n",
       "    <tr>\n",
       "      <th>B</th>\n",
       "      <td>0.070602</td>\n",
       "      <td>5014</td>\n",
       "      <td>354</td>\n",
       "    </tr>\n",
       "    <tr>\n",
       "      <th>C</th>\n",
       "      <td>0.084982</td>\n",
       "      <td>15921</td>\n",
       "      <td>1353</td>\n",
       "    </tr>\n",
       "    <tr>\n",
       "      <th>D</th>\n",
       "      <td>0.060172</td>\n",
       "      <td>349</td>\n",
       "      <td>21</td>\n",
       "    </tr>\n",
       "    <tr>\n",
       "      <th>E</th>\n",
       "      <td>0.090909</td>\n",
       "      <td>22</td>\n",
       "      <td>2</td>\n",
       "    </tr>\n",
       "  </tbody>\n",
       "</table>\n",
       "</div>"
      ],
      "text/plain": [
       "                           debt             \n",
       "                           mean  count   sum\n",
       "total_income_category                       \n",
       "A                      0.080000     25     2\n",
       "B                      0.070602   5014   354\n",
       "C                      0.084982  15921  1353\n",
       "D                      0.060172    349    21\n",
       "E                      0.090909     22     2"
      ]
     },
     "metadata": {},
     "output_type": "display_data"
    }
   ],
   "source": [
    "data_income_category = data.groupby('total_income_category').agg({'debt': ['mean', 'count', 'sum']}) #групируем данные по категории дохода и наличию задолженности\n",
    "display(data_income_category)"
   ]
  },
  {
   "cell_type": "markdown",
   "id": "c178cce1",
   "metadata": {
    "deletable": false,
    "id": "e8593def"
   },
   "source": [
    "**Вывод:** Наибольший процент невозврата (9,09 %)  у должников с низким доходом (Е категория), однако и количество заемщиков данной категории всего 2. На втором месте находятся должники из самой крупной категории со средним уровнем доходов (С категория) (8,85 %). Высокий доход не является показателем надежности должника (А категория, 8 %), но и количество должников в данной категории всего 2. Должники с доходом выше среднего (В категория) не возвращают заем в 7,06 % случаев. Самыми надежными заемщиками являются должники с доходом ниже среднего (D категория, 6,02 %). "
   ]
  },
  {
   "cell_type": "markdown",
   "id": "234950c5",
   "metadata": {
    "deletable": false,
    "editable": false,
    "id": "99ecbd1f"
   },
   "source": [
    "#### 3.4 Как разные цели кредита влияют на его возврат в срок?"
   ]
  },
  {
   "cell_type": "code",
   "execution_count": 35,
   "id": "5a046266",
   "metadata": {
    "deletable": false,
    "id": "2b687290"
   },
   "outputs": [
    {
     "data": {
      "text/plain": [
       "array(['операции с недвижимостью', 'операции с автомобилем',\n",
       "       'получение образования', 'проведение свадьбы'], dtype=object)"
      ]
     },
     "execution_count": 35,
     "metadata": {},
     "output_type": "execute_result"
    }
   ],
   "source": [
    "data['purpose_category'].unique() # уникальные значения категорий целей кредита"
   ]
  },
  {
   "cell_type": "code",
   "execution_count": 36,
   "id": "26b1354c",
   "metadata": {},
   "outputs": [
    {
     "data": {
      "text/html": [
       "<div>\n",
       "<style scoped>\n",
       "    .dataframe tbody tr th:only-of-type {\n",
       "        vertical-align: middle;\n",
       "    }\n",
       "\n",
       "    .dataframe tbody tr th {\n",
       "        vertical-align: top;\n",
       "    }\n",
       "\n",
       "    .dataframe thead tr th {\n",
       "        text-align: left;\n",
       "    }\n",
       "\n",
       "    .dataframe thead tr:last-of-type th {\n",
       "        text-align: right;\n",
       "    }\n",
       "</style>\n",
       "<table border=\"1\" class=\"dataframe\">\n",
       "  <thead>\n",
       "    <tr>\n",
       "      <th></th>\n",
       "      <th colspan=\"3\" halign=\"left\">debt</th>\n",
       "    </tr>\n",
       "    <tr>\n",
       "      <th></th>\n",
       "      <th>mean</th>\n",
       "      <th>count</th>\n",
       "      <th>sum</th>\n",
       "    </tr>\n",
       "    <tr>\n",
       "      <th>purpose_category</th>\n",
       "      <th></th>\n",
       "      <th></th>\n",
       "      <th></th>\n",
       "    </tr>\n",
       "  </thead>\n",
       "  <tbody>\n",
       "    <tr>\n",
       "      <th>операции с автомобилем</th>\n",
       "      <td>0.093480</td>\n",
       "      <td>4279</td>\n",
       "      <td>400</td>\n",
       "    </tr>\n",
       "    <tr>\n",
       "      <th>операции с недвижимостью</th>\n",
       "      <td>0.072551</td>\n",
       "      <td>10751</td>\n",
       "      <td>780</td>\n",
       "    </tr>\n",
       "    <tr>\n",
       "      <th>получение образования</th>\n",
       "      <td>0.092528</td>\n",
       "      <td>3988</td>\n",
       "      <td>369</td>\n",
       "    </tr>\n",
       "    <tr>\n",
       "      <th>проведение свадьбы</th>\n",
       "      <td>0.079118</td>\n",
       "      <td>2313</td>\n",
       "      <td>183</td>\n",
       "    </tr>\n",
       "  </tbody>\n",
       "</table>\n",
       "</div>"
      ],
      "text/plain": [
       "                              debt            \n",
       "                              mean  count  sum\n",
       "purpose_category                              \n",
       "операции с автомобилем    0.093480   4279  400\n",
       "операции с недвижимостью  0.072551  10751  780\n",
       "получение образования     0.092528   3988  369\n",
       "проведение свадьбы        0.079118   2313  183"
      ]
     },
     "metadata": {},
     "output_type": "display_data"
    }
   ],
   "source": [
    "data_purpose_cat = data.groupby('purpose_category').agg({'debt': ['mean', 'count', 'sum']}) #групируем данные по целям кредита и наличию задолженности\n",
    "display(data_purpose_cat)"
   ]
  },
  {
   "cell_type": "markdown",
   "id": "3385a6b3",
   "metadata": {
    "deletable": false,
    "id": "b4bb2ce6"
   },
   "source": [
    "**Вывод:** Должники берущие займы на операции с автомобилем и на образование являются наиболее ненадежными заемщиками (9,35 % и 9,25%). Самыми ответственными являются должники берущие заемные средства на недвижимость (7,26 %). На третьем месте должники должники берущие займы на проведение свадьбы (7,91 %)."
   ]
  },
  {
   "cell_type": "markdown",
   "id": "b80fc43a",
   "metadata": {
    "deletable": false,
    "editable": false,
    "id": "09c3ac4c"
   },
   "source": [
    "#### 3.5 Приведите возможные причины появления пропусков в исходных данных."
   ]
  },
  {
   "cell_type": "markdown",
   "id": "8ca4bd67",
   "metadata": {
    "deletable": false,
    "id": "9da2ceda"
   },
   "source": [
    "*Ответ:*  Пропуски в исходных данных были в 2х столбцах: days_employed — общий трудовой стаж в днях и total_income — ежемесячный доход. Причинами пропусков могут быть как ошибки ввода данных, так и сокрытитие информации. Также в days_employed пропуски могут быть связаны с тем, что у некоторых категорий трудовой стаж может отсутствовать (например студенты), а в столбце total_income может отсутствовать доход (например безработный). "
   ]
  },
  {
   "cell_type": "markdown",
   "id": "68af3690",
   "metadata": {
    "deletable": false,
    "editable": false,
    "id": "7b0487d6"
   },
   "source": [
    "#### 3.6 Объясните, почему заполнить пропуски медианным значением — лучшее решение для количественных переменных."
   ]
  },
  {
   "cell_type": "markdown",
   "id": "23434c7b",
   "metadata": {
    "deletable": false,
    "id": "7ecf2b8e"
   },
   "source": [
    "*Ответ:* Для количественных переменных,  в нашем исследовании, медиана является лучшим решением для заполнения пропусков т.к. медиана является серединным значением из столбцов, в которых заполнялись пропуски. Заполнение пропусков средним арифметическим в данном исследовании неэффективно (к примеру, пропуски заполнялись в столбце total_income — \"ежемесячный доход\", и, соответственно, применение среднего арифметического к столбцу с большим разбросом значений  даже в одной категории значительно исказило бы результаты анализа (например в категории 'B' - ежемесячный доход от 200001 до 1000000\" т.е. может быть, что один или несколько заемщиков получают около 1 млн., а остальные заемщики получают намного более скромную суммму превышающую 200 тыс.))."
   ]
  },
  {
   "cell_type": "markdown",
   "id": "642de5c7",
   "metadata": {
    "deletable": false,
    "editable": false,
    "id": "6db5255a"
   },
   "source": [
    "### Шаг 4: общий вывод."
   ]
  },
  {
   "cell_type": "markdown",
   "id": "d3973f9e",
   "metadata": {
    "deletable": false,
    "id": "bad65432"
   },
   "source": [
    "**Вывод** \n",
    "\n",
    "\n",
    "Целью данного исследования является выявление взаимосвязей при выдаче заемных денежных средств различным категориям заемщиков.\n",
    "\n",
    "\n",
    "В данном исследовании были поставлены следующие вопросы:\n",
    "+ **Вопрос 1** Есть ли зависимость между количеством детей и возвратом кредита в срок?\n",
    "+ **Вопрос 2** Есть ли зависимость между семейным положением и возвратом кредита в срок?\n",
    "+ **Вопрос 3** Есть ли зависимость между уровнем дохода и возвратом кредита в срок?\n",
    "+ **Вопрос 4** Как разные цели кредита влияют на его возврат в срок?\n",
    "\n",
    "\n",
    "\n",
    "Для полного ответа на **Вопрос 1** мы не имеем достаточного количества данных о должниках с 3, 4 и 5 детьми, однако,  даже не принимая во внимание данные группы, все равно сохраняется взаимосвязь между заемщиками с детьми и возратом займа в срок, **значит наличие детей влияет на возврат кредита в срок**, что подтверждается результатами исследования:\n",
    "+ Доля должников с детьми против доли должников без детей **9,24%** против **7,54%** \n",
    "+ В категории заемщиков с 1 ребенком доля должников по отношению ко всей данной категории сотавляет 9,23%\n",
    "+ В категории заемщиков с 2 детьми доля должников по отношению ко всей данной категории сотавляет 9,45%\n",
    "\n",
    "\n",
    "\n",
    "Отвечая на **Вопрос 2** , можно с уверенностью утверждать, что __заемщики состоящие в браке, а также заемщики состоявшие в браке в прошлом более надежные заемщики__, подтверждая данный вывод следующими результатами исследования:\n",
    "\n",
    "+ Доля невозврата заемных средств у не женатых / не замужних должников **9,76%** и должников находящихся в гражданском браке **9,31%**\n",
    "+ Заемщики состоящие в браке, а также заемщики состоявшие в браке в прошлом (должники в разводе и вдовы / вдовцы) составляют **7,56%**, **7,06%** и **6,62%**\n",
    "\n",
    "\n",
    "Данные, анализируемые по категориям при ответе на **Вопрос 3**, не являются достаточными для полного ответа на данный вопрос в связи с маленьким обьемом информации по категориям заемщиков с высоким доходом(А-25 заемщиков), доходом ниже среднего(D-349 заемщиков) и низким доходом(Е-22 заемщика). Однако,если не принимать во внимание данные категории, __доля должников снижается при увеличении уровня дохода заемщика__,а именно:\n",
    "\n",
    "+ Заемщики получающие от 200 тыс. до 1 млн. более добросовесные плательщики займа чем заемщики с заработной платой от 500 тыс. до 200 тыс. (**7,06%** против **8,49%**)\n",
    "\n",
    "\n",
    "\n",
    "Анализируя взаимосвясь между целями кредита и его возвратом в срок (**Вопрос 4**), __минимальный процент невозврата кредита в установленный срок наблюдается среди операций с недвижимостью (7,26%)__, по остальным категориям мы наблюдаем следующие результаты:\n",
    "+ **7,91%** должников берущих займ на проведение свадьбы\n",
    "+ **9,25%** должников берущих займ на получение образования\n",
    "+ **9,35%** должников берущих займ на операции с автомобилем\n",
    "\n",
    "\n",
    "__Значит, заемщики берущие займ на операции с автомобилем или на получение образования примерно на 2% чаще не отдают кредит в срок в отличие от остальных категорий__\n",
    "\n",
    "\n",
    "*Однако из соотношения данных, представленных для анализа, нельзя быть окончательно уверенным, что при равных обьемах заемщиков результаты остались бы на том же уровне т.к. больше половины заемщиков (10751 из 21331 заемщиков) приходится на операции с недвижимостью*\n",
    "\n",
    "\n",
    "\n",
    "**Общие рекомендации**\n",
    "\n",
    "1. Результаты анализа, полученые в ходе исследования Вопроса 2 можно использовать в работе.\n",
    "2. По 1, 3, 4 вопросу необходимо собрать выборку с равным соотношением данных по рассматриваемым категориям в целях получения достоверных показателей."
   ]
  }
 ],
 "metadata": {
  "ExecuteTimeLog": [
   {
    "duration": 514,
    "start_time": "2022-08-27T13:16:12.395Z"
   },
   {
    "duration": 24,
    "start_time": "2022-08-27T13:16:12.911Z"
   },
   {
    "duration": 18,
    "start_time": "2022-08-27T13:16:12.936Z"
   },
   {
    "duration": 16,
    "start_time": "2022-08-27T13:16:12.971Z"
   },
   {
    "duration": 39,
    "start_time": "2022-08-27T13:16:12.989Z"
   },
   {
    "duration": 3,
    "start_time": "2022-08-27T13:16:13.030Z"
   },
   {
    "duration": 11,
    "start_time": "2022-08-27T13:16:13.035Z"
   },
   {
    "duration": 5,
    "start_time": "2022-08-27T13:16:13.068Z"
   },
   {
    "duration": 19,
    "start_time": "2022-08-27T13:16:13.076Z"
   },
   {
    "duration": 5,
    "start_time": "2022-08-27T13:16:13.098Z"
   },
   {
    "duration": 36,
    "start_time": "2022-08-27T13:16:13.105Z"
   },
   {
    "duration": 10,
    "start_time": "2022-08-27T13:16:13.143Z"
   },
   {
    "duration": 8,
    "start_time": "2022-08-27T13:16:13.174Z"
   },
   {
    "duration": 13,
    "start_time": "2022-08-27T13:16:13.184Z"
   },
   {
    "duration": 23,
    "start_time": "2022-08-27T13:16:13.199Z"
   },
   {
    "duration": 17,
    "start_time": "2022-08-27T13:16:13.224Z"
   },
   {
    "duration": 3,
    "start_time": "2022-08-27T13:16:13.243Z"
   },
   {
    "duration": 32,
    "start_time": "2022-08-27T13:16:13.248Z"
   },
   {
    "duration": 12,
    "start_time": "2022-08-27T13:16:13.284Z"
   },
   {
    "duration": 5,
    "start_time": "2022-08-27T13:16:13.298Z"
   },
   {
    "duration": 9,
    "start_time": "2022-08-27T13:16:13.305Z"
   },
   {
    "duration": 4,
    "start_time": "2022-08-27T13:16:13.317Z"
   },
   {
    "duration": 6,
    "start_time": "2022-08-27T13:16:13.323Z"
   },
   {
    "duration": 8,
    "start_time": "2022-08-27T13:16:13.331Z"
   },
   {
    "duration": 7,
    "start_time": "2022-08-27T13:16:13.340Z"
   },
   {
    "duration": 5,
    "start_time": "2022-08-27T13:31:32.310Z"
   },
   {
    "duration": 423,
    "start_time": "2022-08-27T13:34:04.965Z"
   },
   {
    "duration": 4,
    "start_time": "2022-08-27T13:34:31.451Z"
   },
   {
    "duration": 350,
    "start_time": "2022-08-27T13:34:38.400Z"
   },
   {
    "duration": 4,
    "start_time": "2022-08-27T13:38:26.089Z"
   },
   {
    "duration": 340,
    "start_time": "2022-08-27T13:38:29.188Z"
   },
   {
    "duration": 4,
    "start_time": "2022-08-27T13:40:04.584Z"
   },
   {
    "duration": 6,
    "start_time": "2022-08-27T13:40:43.061Z"
   },
   {
    "duration": 5,
    "start_time": "2022-08-27T13:47:42.240Z"
   },
   {
    "duration": 380,
    "start_time": "2022-08-27T13:47:44.230Z"
   },
   {
    "duration": 326,
    "start_time": "2022-08-27T13:48:00.993Z"
   },
   {
    "duration": 14,
    "start_time": "2022-08-27T13:48:12.031Z"
   },
   {
    "duration": 304,
    "start_time": "2022-08-27T13:48:41.816Z"
   },
   {
    "duration": 8,
    "start_time": "2022-08-27T13:49:32.392Z"
   },
   {
    "duration": 309,
    "start_time": "2022-08-27T13:49:33.406Z"
   },
   {
    "duration": 8,
    "start_time": "2022-08-27T13:51:28.189Z"
   },
   {
    "duration": 316,
    "start_time": "2022-08-27T13:51:29.534Z"
   },
   {
    "duration": 88,
    "start_time": "2022-08-27T13:56:41.857Z"
   },
   {
    "duration": 6,
    "start_time": "2022-08-27T13:57:22.514Z"
   },
   {
    "duration": 317,
    "start_time": "2022-08-27T13:57:23.811Z"
   },
   {
    "duration": 5,
    "start_time": "2022-08-27T13:57:42.259Z"
   },
   {
    "duration": 338,
    "start_time": "2022-08-27T13:57:43.576Z"
   },
   {
    "duration": 3,
    "start_time": "2022-08-27T14:01:21.282Z"
   },
   {
    "duration": 8,
    "start_time": "2022-08-27T14:01:52.945Z"
   },
   {
    "duration": 25,
    "start_time": "2022-08-27T14:02:13.465Z"
   },
   {
    "duration": 3,
    "start_time": "2022-08-27T14:02:58.216Z"
   },
   {
    "duration": 8,
    "start_time": "2022-08-27T14:02:58.934Z"
   },
   {
    "duration": 15,
    "start_time": "2022-08-27T14:02:59.616Z"
   },
   {
    "duration": 15,
    "start_time": "2022-08-27T14:03:18.736Z"
   },
   {
    "duration": 17,
    "start_time": "2022-08-27T14:03:36.196Z"
   },
   {
    "duration": 25,
    "start_time": "2022-08-27T14:08:54.055Z"
   },
   {
    "duration": 35,
    "start_time": "2022-08-27T14:19:02.852Z"
   },
   {
    "duration": 17,
    "start_time": "2022-08-27T14:19:34.595Z"
   },
   {
    "duration": 21,
    "start_time": "2022-08-27T14:21:04.712Z"
   },
   {
    "duration": 8,
    "start_time": "2022-08-27T14:25:13.816Z"
   },
   {
    "duration": 4,
    "start_time": "2022-08-27T14:35:21.456Z"
   },
   {
    "duration": 11,
    "start_time": "2022-08-27T14:36:36.603Z"
   },
   {
    "duration": 3,
    "start_time": "2022-08-27T14:36:54.132Z"
   },
   {
    "duration": 8,
    "start_time": "2022-08-27T14:36:54.721Z"
   },
   {
    "duration": 7,
    "start_time": "2022-08-27T14:37:17.474Z"
   },
   {
    "duration": 3,
    "start_time": "2022-08-27T14:37:53.408Z"
   },
   {
    "duration": 11,
    "start_time": "2022-08-27T14:37:53.982Z"
   },
   {
    "duration": 4,
    "start_time": "2022-08-27T14:38:17.561Z"
   },
   {
    "duration": 12,
    "start_time": "2022-08-27T14:38:18.178Z"
   },
   {
    "duration": 3,
    "start_time": "2022-08-27T14:38:59.104Z"
   },
   {
    "duration": 10,
    "start_time": "2022-08-27T14:38:59.728Z"
   },
   {
    "duration": 4,
    "start_time": "2022-08-27T14:39:16.519Z"
   },
   {
    "duration": 13,
    "start_time": "2022-08-27T14:39:17.310Z"
   },
   {
    "duration": 4,
    "start_time": "2022-08-27T14:39:47.783Z"
   },
   {
    "duration": 1035,
    "start_time": "2022-08-27T14:39:48.443Z"
   },
   {
    "duration": 5,
    "start_time": "2022-08-27T14:40:51.545Z"
   },
   {
    "duration": 1507,
    "start_time": "2022-08-27T14:40:52.707Z"
   },
   {
    "duration": 4,
    "start_time": "2022-08-27T14:41:31.573Z"
   },
   {
    "duration": 1028,
    "start_time": "2022-08-27T14:41:32.208Z"
   },
   {
    "duration": 4,
    "start_time": "2022-08-27T14:42:29.628Z"
   },
   {
    "duration": 919,
    "start_time": "2022-08-27T14:42:47.095Z"
   },
   {
    "duration": 7,
    "start_time": "2022-08-27T14:43:05.121Z"
   },
   {
    "duration": 1317,
    "start_time": "2022-08-27T14:43:05.826Z"
   },
   {
    "duration": 4,
    "start_time": "2022-08-27T14:43:56.256Z"
   },
   {
    "duration": 941,
    "start_time": "2022-08-27T14:43:56.936Z"
   },
   {
    "duration": 5,
    "start_time": "2022-08-27T14:44:40.351Z"
   },
   {
    "duration": 17,
    "start_time": "2022-08-27T14:44:41.173Z"
   },
   {
    "duration": 10,
    "start_time": "2022-08-27T14:45:06.105Z"
   },
   {
    "duration": 9,
    "start_time": "2022-08-27T14:45:55.105Z"
   },
   {
    "duration": 18,
    "start_time": "2022-08-27T14:45:55.625Z"
   },
   {
    "duration": 4,
    "start_time": "2022-08-27T14:46:09.105Z"
   },
   {
    "duration": 10,
    "start_time": "2022-08-27T14:46:09.671Z"
   },
   {
    "duration": 18,
    "start_time": "2022-08-27T14:46:39.511Z"
   },
   {
    "duration": 5,
    "start_time": "2022-08-27T14:50:47.713Z"
   },
   {
    "duration": 27,
    "start_time": "2022-08-27T14:50:48.284Z"
   },
   {
    "duration": 20,
    "start_time": "2022-08-27T14:57:20.162Z"
   },
   {
    "duration": 9,
    "start_time": "2022-08-27T14:57:41.278Z"
   },
   {
    "duration": 10,
    "start_time": "2022-08-27T14:57:53.347Z"
   },
   {
    "duration": 910,
    "start_time": "2022-08-27T14:58:18.884Z"
   },
   {
    "duration": 967,
    "start_time": "2022-08-27T14:58:53.772Z"
   },
   {
    "duration": 7,
    "start_time": "2022-08-27T15:00:51.350Z"
   },
   {
    "duration": 12,
    "start_time": "2022-08-27T15:02:04.662Z"
   },
   {
    "duration": 10,
    "start_time": "2022-08-27T15:02:22.615Z"
   },
   {
    "duration": 15,
    "start_time": "2022-08-27T15:02:55.134Z"
   },
   {
    "duration": 21,
    "start_time": "2022-08-27T15:03:02.962Z"
   },
   {
    "duration": 111,
    "start_time": "2022-08-27T15:03:17.618Z"
   },
   {
    "duration": 13,
    "start_time": "2022-08-27T15:03:25.946Z"
   },
   {
    "duration": 17,
    "start_time": "2022-08-27T15:03:53.025Z"
   },
   {
    "duration": 6197,
    "start_time": "2022-08-27T15:04:33.295Z"
   },
   {
    "duration": 128,
    "start_time": "2022-08-27T15:14:06.540Z"
   },
   {
    "duration": 12,
    "start_time": "2022-08-27T15:14:14.290Z"
   },
   {
    "duration": 11,
    "start_time": "2022-08-27T15:14:38.988Z"
   },
   {
    "duration": 10,
    "start_time": "2022-08-27T15:14:55.123Z"
   },
   {
    "duration": 16,
    "start_time": "2022-08-27T15:15:16.779Z"
   },
   {
    "duration": 12,
    "start_time": "2022-08-27T15:15:43.485Z"
   },
   {
    "duration": 6,
    "start_time": "2022-08-27T15:16:11.629Z"
   },
   {
    "duration": 13,
    "start_time": "2022-08-27T15:16:34.930Z"
   },
   {
    "duration": 14,
    "start_time": "2022-08-27T15:16:52.942Z"
   },
   {
    "duration": 94,
    "start_time": "2022-08-27T15:17:18.872Z"
   },
   {
    "duration": 14,
    "start_time": "2022-08-27T15:18:06.231Z"
   },
   {
    "duration": 158,
    "start_time": "2022-08-27T15:20:28.250Z"
   },
   {
    "duration": 118,
    "start_time": "2022-08-27T15:21:00.996Z"
   },
   {
    "duration": 15,
    "start_time": "2022-08-27T15:21:12.993Z"
   },
   {
    "duration": 665,
    "start_time": "2022-08-27T15:25:34.864Z"
   },
   {
    "duration": 37,
    "start_time": "2022-08-27T15:25:35.534Z"
   },
   {
    "duration": 37,
    "start_time": "2022-08-27T15:25:35.575Z"
   },
   {
    "duration": 16,
    "start_time": "2022-08-27T15:25:35.617Z"
   },
   {
    "duration": 70,
    "start_time": "2022-08-27T15:25:35.635Z"
   },
   {
    "duration": 5,
    "start_time": "2022-08-27T15:25:35.708Z"
   },
   {
    "duration": 25,
    "start_time": "2022-08-27T15:25:35.715Z"
   },
   {
    "duration": 6,
    "start_time": "2022-08-27T15:25:35.743Z"
   },
   {
    "duration": 48,
    "start_time": "2022-08-27T15:25:35.751Z"
   },
   {
    "duration": 5,
    "start_time": "2022-08-27T15:25:35.806Z"
   },
   {
    "duration": 43,
    "start_time": "2022-08-27T15:25:35.813Z"
   },
   {
    "duration": 15,
    "start_time": "2022-08-27T15:25:35.858Z"
   },
   {
    "duration": 22,
    "start_time": "2022-08-27T15:25:35.876Z"
   },
   {
    "duration": 22,
    "start_time": "2022-08-27T15:25:35.900Z"
   },
   {
    "duration": 21,
    "start_time": "2022-08-27T15:25:35.925Z"
   },
   {
    "duration": 32,
    "start_time": "2022-08-27T15:25:35.947Z"
   },
   {
    "duration": 12,
    "start_time": "2022-08-27T15:25:35.980Z"
   },
   {
    "duration": 18,
    "start_time": "2022-08-27T15:25:35.995Z"
   },
   {
    "duration": 7,
    "start_time": "2022-08-27T15:25:36.016Z"
   },
   {
    "duration": 6,
    "start_time": "2022-08-27T15:25:36.026Z"
   },
   {
    "duration": 50,
    "start_time": "2022-08-27T15:25:36.034Z"
   },
   {
    "duration": 6,
    "start_time": "2022-08-27T15:25:36.089Z"
   },
   {
    "duration": 24,
    "start_time": "2022-08-27T15:25:36.098Z"
   },
   {
    "duration": 6,
    "start_time": "2022-08-27T15:25:36.124Z"
   },
   {
    "duration": 15,
    "start_time": "2022-08-27T15:25:36.132Z"
   },
   {
    "duration": 43,
    "start_time": "2022-08-27T15:25:36.149Z"
   },
   {
    "duration": 21,
    "start_time": "2022-08-27T15:25:36.195Z"
   },
   {
    "duration": 3,
    "start_time": "2022-08-27T15:25:36.220Z"
   },
   {
    "duration": 8,
    "start_time": "2022-08-27T15:25:36.225Z"
   },
   {
    "duration": 5,
    "start_time": "2022-08-27T15:25:36.234Z"
   },
   {
    "duration": 10,
    "start_time": "2022-08-27T15:26:46.605Z"
   },
   {
    "duration": 4,
    "start_time": "2022-08-27T15:26:47.661Z"
   },
   {
    "duration": 13,
    "start_time": "2022-08-27T15:26:48.428Z"
   },
   {
    "duration": 13,
    "start_time": "2022-08-27T15:28:12.160Z"
   },
   {
    "duration": 9,
    "start_time": "2022-08-27T15:37:52.903Z"
   },
   {
    "duration": 9,
    "start_time": "2022-08-27T15:38:24.500Z"
   },
   {
    "duration": 12,
    "start_time": "2022-08-27T15:38:56.741Z"
   },
   {
    "duration": 5,
    "start_time": "2022-08-27T15:39:04.818Z"
   },
   {
    "duration": 15,
    "start_time": "2022-08-27T15:42:16.862Z"
   },
   {
    "duration": 31,
    "start_time": "2022-08-27T15:56:51.894Z"
   },
   {
    "duration": 92,
    "start_time": "2022-08-27T15:57:56.120Z"
   },
   {
    "duration": 16,
    "start_time": "2022-08-27T15:58:06.694Z"
   },
   {
    "duration": 1695,
    "start_time": "2022-08-27T15:59:31.036Z"
   },
   {
    "duration": 518,
    "start_time": "2022-08-27T15:59:57.309Z"
   },
   {
    "duration": 25,
    "start_time": "2022-08-27T15:59:57.829Z"
   },
   {
    "duration": 40,
    "start_time": "2022-08-27T15:59:57.855Z"
   },
   {
    "duration": 13,
    "start_time": "2022-08-27T15:59:57.897Z"
   },
   {
    "duration": 35,
    "start_time": "2022-08-27T15:59:57.912Z"
   },
   {
    "duration": 4,
    "start_time": "2022-08-27T15:59:57.949Z"
   },
   {
    "duration": 13,
    "start_time": "2022-08-27T15:59:57.967Z"
   },
   {
    "duration": 20,
    "start_time": "2022-08-27T15:59:57.982Z"
   },
   {
    "duration": 8,
    "start_time": "2022-08-27T15:59:58.004Z"
   },
   {
    "duration": 4,
    "start_time": "2022-08-27T15:59:58.017Z"
   },
   {
    "duration": 52,
    "start_time": "2022-08-27T15:59:58.023Z"
   },
   {
    "duration": 13,
    "start_time": "2022-08-27T15:59:58.078Z"
   },
   {
    "duration": 13,
    "start_time": "2022-08-27T15:59:58.092Z"
   },
   {
    "duration": 14,
    "start_time": "2022-08-27T15:59:58.107Z"
   },
   {
    "duration": 21,
    "start_time": "2022-08-27T15:59:58.123Z"
   },
   {
    "duration": 49,
    "start_time": "2022-08-27T15:59:58.147Z"
   },
   {
    "duration": 5,
    "start_time": "2022-08-27T15:59:58.201Z"
   },
   {
    "duration": 16,
    "start_time": "2022-08-27T15:59:58.208Z"
   },
   {
    "duration": 8,
    "start_time": "2022-08-27T15:59:58.226Z"
   },
   {
    "duration": 4,
    "start_time": "2022-08-27T15:59:58.236Z"
   },
   {
    "duration": 32,
    "start_time": "2022-08-27T15:59:58.242Z"
   },
   {
    "duration": 9,
    "start_time": "2022-08-27T15:59:58.279Z"
   },
   {
    "duration": 26,
    "start_time": "2022-08-27T15:59:58.292Z"
   },
   {
    "duration": 5,
    "start_time": "2022-08-27T15:59:58.320Z"
   },
   {
    "duration": 8,
    "start_time": "2022-08-27T15:59:58.327Z"
   },
   {
    "duration": 10,
    "start_time": "2022-08-27T15:59:58.337Z"
   },
   {
    "duration": 10,
    "start_time": "2022-08-27T15:59:58.348Z"
   },
   {
    "duration": 36,
    "start_time": "2022-08-27T15:59:58.367Z"
   },
   {
    "duration": 7,
    "start_time": "2022-08-27T15:59:58.405Z"
   },
   {
    "duration": 24,
    "start_time": "2022-08-27T15:59:58.414Z"
   },
   {
    "duration": 9,
    "start_time": "2022-08-27T15:59:58.441Z"
   },
   {
    "duration": 6,
    "start_time": "2022-08-27T15:59:58.452Z"
   },
   {
    "duration": 41,
    "start_time": "2022-08-27T15:59:58.460Z"
   },
   {
    "duration": 12,
    "start_time": "2022-08-27T16:03:20.898Z"
   },
   {
    "duration": 83,
    "start_time": "2022-08-27T16:06:27.028Z"
   },
   {
    "duration": 16,
    "start_time": "2022-08-27T16:06:53.197Z"
   },
   {
    "duration": 77,
    "start_time": "2022-08-27T16:07:24.195Z"
   },
   {
    "duration": 99,
    "start_time": "2022-08-27T16:08:20.498Z"
   },
   {
    "duration": 107,
    "start_time": "2022-08-27T16:08:40.026Z"
   },
   {
    "duration": 14,
    "start_time": "2022-08-27T16:10:09.329Z"
   },
   {
    "duration": 170,
    "start_time": "2022-08-27T16:10:17.747Z"
   },
   {
    "duration": 20,
    "start_time": "2022-08-27T16:10:38.086Z"
   },
   {
    "duration": 20,
    "start_time": "2022-08-27T16:10:54.161Z"
   },
   {
    "duration": 35,
    "start_time": "2022-08-27T16:16:13.318Z"
   },
   {
    "duration": 24,
    "start_time": "2022-08-27T16:16:25.695Z"
   },
   {
    "duration": 29,
    "start_time": "2022-08-27T16:16:45.523Z"
   },
   {
    "duration": 503,
    "start_time": "2022-08-27T16:28:50.541Z"
   },
   {
    "duration": 36,
    "start_time": "2022-08-27T16:28:51.046Z"
   },
   {
    "duration": 29,
    "start_time": "2022-08-27T16:28:51.090Z"
   },
   {
    "duration": 14,
    "start_time": "2022-08-27T16:28:51.122Z"
   },
   {
    "duration": 58,
    "start_time": "2022-08-27T16:28:51.138Z"
   },
   {
    "duration": 7,
    "start_time": "2022-08-27T16:28:51.203Z"
   },
   {
    "duration": 19,
    "start_time": "2022-08-27T16:28:51.211Z"
   },
   {
    "duration": 5,
    "start_time": "2022-08-27T16:28:51.232Z"
   },
   {
    "duration": 10,
    "start_time": "2022-08-27T16:28:51.238Z"
   },
   {
    "duration": 4,
    "start_time": "2022-08-27T16:28:51.251Z"
   },
   {
    "duration": 62,
    "start_time": "2022-08-27T16:28:51.256Z"
   },
   {
    "duration": 12,
    "start_time": "2022-08-27T16:28:51.320Z"
   },
   {
    "duration": 6,
    "start_time": "2022-08-27T16:28:51.334Z"
   },
   {
    "duration": 13,
    "start_time": "2022-08-27T16:28:51.342Z"
   },
   {
    "duration": 41,
    "start_time": "2022-08-27T16:28:51.357Z"
   },
   {
    "duration": 24,
    "start_time": "2022-08-27T16:28:51.403Z"
   },
   {
    "duration": 4,
    "start_time": "2022-08-27T16:28:51.428Z"
   },
   {
    "duration": 16,
    "start_time": "2022-08-27T16:28:51.433Z"
   },
   {
    "duration": 8,
    "start_time": "2022-08-27T16:28:51.450Z"
   },
   {
    "duration": 14,
    "start_time": "2022-08-27T16:28:51.459Z"
   },
   {
    "duration": 67,
    "start_time": "2022-08-27T16:28:51.475Z"
   },
   {
    "duration": 12,
    "start_time": "2022-08-27T16:28:51.544Z"
   },
   {
    "duration": 35,
    "start_time": "2022-08-27T16:28:51.558Z"
   },
   {
    "duration": 40,
    "start_time": "2022-08-27T16:28:51.596Z"
   },
   {
    "duration": 11,
    "start_time": "2022-08-27T16:28:51.638Z"
   },
   {
    "duration": 6,
    "start_time": "2022-08-27T16:28:51.651Z"
   },
   {
    "duration": 35,
    "start_time": "2022-08-27T16:28:51.659Z"
   },
   {
    "duration": 32,
    "start_time": "2022-08-27T16:28:51.697Z"
   },
   {
    "duration": 6,
    "start_time": "2022-08-27T16:28:51.731Z"
   },
   {
    "duration": 8,
    "start_time": "2022-08-27T16:28:51.739Z"
   },
   {
    "duration": 6,
    "start_time": "2022-08-27T16:28:51.748Z"
   },
   {
    "duration": 7,
    "start_time": "2022-08-27T16:28:51.755Z"
   },
   {
    "duration": 31,
    "start_time": "2022-08-27T16:29:14.043Z"
   },
   {
    "duration": 4,
    "start_time": "2022-08-27T16:30:09.731Z"
   },
   {
    "duration": 45,
    "start_time": "2022-08-27T16:30:10.799Z"
   },
   {
    "duration": 4,
    "start_time": "2022-08-27T16:30:24.418Z"
   },
   {
    "duration": 32,
    "start_time": "2022-08-27T16:30:25.529Z"
   },
   {
    "duration": 18,
    "start_time": "2022-08-27T16:30:25.796Z"
   },
   {
    "duration": 3,
    "start_time": "2022-08-27T16:30:43.228Z"
   },
   {
    "duration": 45,
    "start_time": "2022-08-27T16:30:43.988Z"
   },
   {
    "duration": 121,
    "start_time": "2022-08-27T16:30:55.803Z"
   },
   {
    "duration": 56,
    "start_time": "2022-08-27T16:31:02.459Z"
   },
   {
    "duration": 45,
    "start_time": "2022-08-27T16:31:17.785Z"
   },
   {
    "duration": 29,
    "start_time": "2022-08-27T16:31:26.124Z"
   },
   {
    "duration": 6,
    "start_time": "2022-08-27T16:33:21.494Z"
   },
   {
    "duration": 20,
    "start_time": "2022-08-27T16:33:22.199Z"
   },
   {
    "duration": 4,
    "start_time": "2022-08-27T16:33:29.395Z"
   },
   {
    "duration": 25,
    "start_time": "2022-08-27T16:33:31.134Z"
   },
   {
    "duration": 10,
    "start_time": "2022-08-27T16:34:51.235Z"
   },
   {
    "duration": 8,
    "start_time": "2022-08-27T16:35:16.213Z"
   },
   {
    "duration": 676,
    "start_time": "2022-08-27T16:36:02.559Z"
   },
   {
    "duration": 635,
    "start_time": "2022-08-27T16:36:37.773Z"
   },
   {
    "duration": 26,
    "start_time": "2022-08-27T16:41:20.256Z"
   },
   {
    "duration": 11,
    "start_time": "2022-08-27T16:42:27.195Z"
   },
   {
    "duration": 24,
    "start_time": "2022-08-27T16:42:28.909Z"
   },
   {
    "duration": 15,
    "start_time": "2022-08-27T16:44:40.620Z"
   },
   {
    "duration": 21,
    "start_time": "2022-08-27T16:44:41.617Z"
   },
   {
    "duration": 21,
    "start_time": "2022-08-27T16:44:53.978Z"
   },
   {
    "duration": 26,
    "start_time": "2022-08-27T16:44:54.753Z"
   },
   {
    "duration": 17,
    "start_time": "2022-08-27T16:46:10.739Z"
   },
   {
    "duration": 16,
    "start_time": "2022-08-27T16:46:20.532Z"
   },
   {
    "duration": 82,
    "start_time": "2022-08-27T16:48:48.159Z"
   },
   {
    "duration": 93,
    "start_time": "2022-08-27T16:49:01.541Z"
   },
   {
    "duration": 233,
    "start_time": "2022-08-27T16:50:02.158Z"
   },
   {
    "duration": 4,
    "start_time": "2022-08-27T16:52:49.188Z"
   },
   {
    "duration": 30,
    "start_time": "2022-08-27T16:52:50.057Z"
   },
   {
    "duration": 12,
    "start_time": "2022-08-27T16:54:11.634Z"
   },
   {
    "duration": 7,
    "start_time": "2022-08-27T17:00:55.795Z"
   },
   {
    "duration": 4,
    "start_time": "2022-08-27T17:00:56.333Z"
   },
   {
    "duration": 18,
    "start_time": "2022-08-27T17:00:56.914Z"
   },
   {
    "duration": 33,
    "start_time": "2022-08-27T17:00:57.467Z"
   },
   {
    "duration": 33,
    "start_time": "2022-08-27T17:07:13.304Z"
   },
   {
    "duration": 23,
    "start_time": "2022-08-27T17:08:46.232Z"
   },
   {
    "duration": 26,
    "start_time": "2022-08-27T17:13:45.589Z"
   },
   {
    "duration": 568,
    "start_time": "2022-08-27T17:18:16.492Z"
   },
   {
    "duration": 13,
    "start_time": "2022-08-27T17:19:15.714Z"
   },
   {
    "duration": 13,
    "start_time": "2022-08-27T17:20:19.144Z"
   },
   {
    "duration": 8,
    "start_time": "2022-08-27T17:20:29.380Z"
   },
   {
    "duration": 7,
    "start_time": "2022-08-27T17:20:32.786Z"
   },
   {
    "duration": 15,
    "start_time": "2022-08-27T17:20:53.684Z"
   },
   {
    "duration": 19,
    "start_time": "2022-08-27T17:27:54.615Z"
   },
   {
    "duration": 18,
    "start_time": "2022-08-27T17:29:46.627Z"
   },
   {
    "duration": 523,
    "start_time": "2022-08-27T17:31:01.749Z"
   },
   {
    "duration": 31,
    "start_time": "2022-08-27T17:31:02.274Z"
   },
   {
    "duration": 17,
    "start_time": "2022-08-27T17:31:02.307Z"
   },
   {
    "duration": 11,
    "start_time": "2022-08-27T17:31:02.327Z"
   },
   {
    "duration": 36,
    "start_time": "2022-08-27T17:31:02.369Z"
   },
   {
    "duration": 4,
    "start_time": "2022-08-27T17:31:02.407Z"
   },
   {
    "duration": 11,
    "start_time": "2022-08-27T17:31:02.413Z"
   },
   {
    "duration": 6,
    "start_time": "2022-08-27T17:31:02.426Z"
   },
   {
    "duration": 35,
    "start_time": "2022-08-27T17:31:02.434Z"
   },
   {
    "duration": 6,
    "start_time": "2022-08-27T17:31:02.473Z"
   },
   {
    "duration": 38,
    "start_time": "2022-08-27T17:31:02.481Z"
   },
   {
    "duration": 14,
    "start_time": "2022-08-27T17:31:02.521Z"
   },
   {
    "duration": 5,
    "start_time": "2022-08-27T17:31:02.568Z"
   },
   {
    "duration": 23,
    "start_time": "2022-08-27T17:31:02.575Z"
   },
   {
    "duration": 32,
    "start_time": "2022-08-27T17:31:02.601Z"
   },
   {
    "duration": 35,
    "start_time": "2022-08-27T17:31:02.635Z"
   },
   {
    "duration": 4,
    "start_time": "2022-08-27T17:31:02.672Z"
   },
   {
    "duration": 23,
    "start_time": "2022-08-27T17:31:02.678Z"
   },
   {
    "duration": 10,
    "start_time": "2022-08-27T17:31:02.703Z"
   },
   {
    "duration": 12,
    "start_time": "2022-08-27T17:31:02.715Z"
   },
   {
    "duration": 18,
    "start_time": "2022-08-27T17:31:02.729Z"
   },
   {
    "duration": 20,
    "start_time": "2022-08-27T17:31:02.749Z"
   },
   {
    "duration": 7,
    "start_time": "2022-08-27T17:31:02.771Z"
   },
   {
    "duration": 10,
    "start_time": "2022-08-27T17:31:02.780Z"
   },
   {
    "duration": 10,
    "start_time": "2022-08-27T17:31:02.793Z"
   },
   {
    "duration": 39,
    "start_time": "2022-08-27T17:31:02.805Z"
   },
   {
    "duration": 4,
    "start_time": "2022-08-27T17:31:02.846Z"
   },
   {
    "duration": 25,
    "start_time": "2022-08-27T17:31:02.854Z"
   },
   {
    "duration": 7,
    "start_time": "2022-08-27T17:31:02.881Z"
   },
   {
    "duration": 98,
    "start_time": "2022-08-27T17:33:21.497Z"
   },
   {
    "duration": 87,
    "start_time": "2022-08-27T17:34:13.468Z"
   },
   {
    "duration": 74,
    "start_time": "2022-08-27T17:34:20.784Z"
   },
   {
    "duration": 543,
    "start_time": "2022-08-27T17:35:08.931Z"
   },
   {
    "duration": 82,
    "start_time": "2022-08-27T17:37:38.227Z"
   },
   {
    "duration": 101,
    "start_time": "2022-08-27T17:37:50.485Z"
   },
   {
    "duration": 15,
    "start_time": "2022-08-27T17:37:57.685Z"
   },
   {
    "duration": 527,
    "start_time": "2022-08-27T17:38:52.249Z"
   },
   {
    "duration": 29,
    "start_time": "2022-08-27T17:38:52.778Z"
   },
   {
    "duration": 15,
    "start_time": "2022-08-27T17:38:52.809Z"
   },
   {
    "duration": 12,
    "start_time": "2022-08-27T17:38:52.826Z"
   },
   {
    "duration": 66,
    "start_time": "2022-08-27T17:38:52.840Z"
   },
   {
    "duration": 3,
    "start_time": "2022-08-27T17:38:52.908Z"
   },
   {
    "duration": 11,
    "start_time": "2022-08-27T17:38:52.913Z"
   },
   {
    "duration": 4,
    "start_time": "2022-08-27T17:38:52.926Z"
   },
   {
    "duration": 11,
    "start_time": "2022-08-27T17:38:52.932Z"
   },
   {
    "duration": 6,
    "start_time": "2022-08-27T17:38:52.967Z"
   },
   {
    "duration": 46,
    "start_time": "2022-08-27T17:38:52.975Z"
   },
   {
    "duration": 10,
    "start_time": "2022-08-27T17:38:53.023Z"
   },
   {
    "duration": 4,
    "start_time": "2022-08-27T17:38:53.034Z"
   },
   {
    "duration": 37,
    "start_time": "2022-08-27T17:38:53.040Z"
   },
   {
    "duration": 22,
    "start_time": "2022-08-27T17:38:53.080Z"
   },
   {
    "duration": 19,
    "start_time": "2022-08-27T17:38:53.104Z"
   },
   {
    "duration": 4,
    "start_time": "2022-08-27T17:38:53.125Z"
   },
   {
    "duration": 38,
    "start_time": "2022-08-27T17:38:53.131Z"
   },
   {
    "duration": 8,
    "start_time": "2022-08-27T17:38:53.172Z"
   },
   {
    "duration": 13,
    "start_time": "2022-08-27T17:38:53.183Z"
   },
   {
    "duration": 17,
    "start_time": "2022-08-27T17:38:53.198Z"
   },
   {
    "duration": 10,
    "start_time": "2022-08-27T17:38:53.217Z"
   },
   {
    "duration": 9,
    "start_time": "2022-08-27T17:38:53.229Z"
   },
   {
    "duration": 6,
    "start_time": "2022-08-27T17:38:53.240Z"
   },
   {
    "duration": 12,
    "start_time": "2022-08-27T17:38:53.273Z"
   },
   {
    "duration": 19,
    "start_time": "2022-08-27T17:38:53.287Z"
   },
   {
    "duration": 2,
    "start_time": "2022-08-27T17:38:53.310Z"
   },
   {
    "duration": 5,
    "start_time": "2022-08-27T17:38:53.316Z"
   },
   {
    "duration": 8,
    "start_time": "2022-08-27T17:38:53.323Z"
   },
   {
    "duration": 78,
    "start_time": "2022-08-27T18:58:33.214Z"
   },
   {
    "duration": 97,
    "start_time": "2022-08-27T18:59:00.041Z"
   },
   {
    "duration": 71,
    "start_time": "2022-08-27T18:59:09.075Z"
   },
   {
    "duration": 78,
    "start_time": "2022-08-27T18:59:19.557Z"
   },
   {
    "duration": 75,
    "start_time": "2022-08-27T18:59:28.120Z"
   },
   {
    "duration": 3,
    "start_time": "2022-08-27T18:59:43.705Z"
   },
   {
    "duration": 27,
    "start_time": "2022-08-27T19:01:26.800Z"
   },
   {
    "duration": 10,
    "start_time": "2022-08-27T19:01:43.029Z"
   },
   {
    "duration": 13,
    "start_time": "2022-08-27T19:03:32.393Z"
   },
   {
    "duration": 585,
    "start_time": "2022-08-27T19:15:26.114Z"
   },
   {
    "duration": 34,
    "start_time": "2022-08-27T19:15:26.701Z"
   },
   {
    "duration": 35,
    "start_time": "2022-08-27T19:15:26.737Z"
   },
   {
    "duration": 43,
    "start_time": "2022-08-27T19:15:26.774Z"
   },
   {
    "duration": 43,
    "start_time": "2022-08-27T19:15:26.820Z"
   },
   {
    "duration": 6,
    "start_time": "2022-08-27T19:15:26.865Z"
   },
   {
    "duration": 37,
    "start_time": "2022-08-27T19:15:26.876Z"
   },
   {
    "duration": 5,
    "start_time": "2022-08-27T19:15:26.916Z"
   },
   {
    "duration": 14,
    "start_time": "2022-08-27T19:15:26.923Z"
   },
   {
    "duration": 11,
    "start_time": "2022-08-27T19:15:26.941Z"
   },
   {
    "duration": 59,
    "start_time": "2022-08-27T19:15:26.954Z"
   },
   {
    "duration": 13,
    "start_time": "2022-08-27T19:15:27.015Z"
   },
   {
    "duration": 6,
    "start_time": "2022-08-27T19:15:27.031Z"
   },
   {
    "duration": 30,
    "start_time": "2022-08-27T19:15:27.040Z"
   },
   {
    "duration": 52,
    "start_time": "2022-08-27T19:15:27.073Z"
   },
   {
    "duration": 25,
    "start_time": "2022-08-27T19:15:27.128Z"
   },
   {
    "duration": 4,
    "start_time": "2022-08-27T19:15:27.156Z"
   },
   {
    "duration": 25,
    "start_time": "2022-08-27T19:15:27.162Z"
   },
   {
    "duration": 8,
    "start_time": "2022-08-27T19:15:27.190Z"
   },
   {
    "duration": 8,
    "start_time": "2022-08-27T19:15:27.200Z"
   },
   {
    "duration": 19,
    "start_time": "2022-08-27T19:15:27.210Z"
   },
   {
    "duration": 27,
    "start_time": "2022-08-27T19:15:27.231Z"
   },
   {
    "duration": 27,
    "start_time": "2022-08-27T19:15:27.260Z"
   },
   {
    "duration": 12,
    "start_time": "2022-08-27T19:15:27.289Z"
   },
   {
    "duration": 13,
    "start_time": "2022-08-27T19:15:27.303Z"
   },
   {
    "duration": 20,
    "start_time": "2022-08-27T19:15:27.317Z"
   },
   {
    "duration": 3,
    "start_time": "2022-08-27T19:15:27.339Z"
   },
   {
    "duration": 12,
    "start_time": "2022-08-27T19:15:27.345Z"
   },
   {
    "duration": 39,
    "start_time": "2022-08-27T19:15:27.367Z"
   },
   {
    "duration": 3,
    "start_time": "2022-08-27T19:15:27.408Z"
   },
   {
    "duration": 5,
    "start_time": "2022-08-27T19:15:27.413Z"
   },
   {
    "duration": 9,
    "start_time": "2022-08-27T19:15:27.420Z"
   },
   {
    "duration": 8,
    "start_time": "2022-08-27T19:21:22.215Z"
   },
   {
    "duration": 16,
    "start_time": "2022-08-27T19:22:43.539Z"
   },
   {
    "duration": 504,
    "start_time": "2022-08-27T19:40:07.600Z"
   },
   {
    "duration": 27,
    "start_time": "2022-08-27T19:40:08.107Z"
   },
   {
    "duration": 39,
    "start_time": "2022-08-27T19:40:08.137Z"
   },
   {
    "duration": 11,
    "start_time": "2022-08-27T19:40:08.186Z"
   },
   {
    "duration": 40,
    "start_time": "2022-08-27T19:40:08.198Z"
   },
   {
    "duration": 4,
    "start_time": "2022-08-27T19:40:08.240Z"
   },
   {
    "duration": 32,
    "start_time": "2022-08-27T19:40:08.246Z"
   },
   {
    "duration": 7,
    "start_time": "2022-08-27T19:40:08.280Z"
   },
   {
    "duration": 8,
    "start_time": "2022-08-27T19:40:08.289Z"
   },
   {
    "duration": 6,
    "start_time": "2022-08-27T19:40:08.302Z"
   },
   {
    "duration": 66,
    "start_time": "2022-08-27T19:40:08.309Z"
   },
   {
    "duration": 13,
    "start_time": "2022-08-27T19:40:08.380Z"
   },
   {
    "duration": 5,
    "start_time": "2022-08-27T19:40:08.395Z"
   },
   {
    "duration": 15,
    "start_time": "2022-08-27T19:40:08.402Z"
   },
   {
    "duration": 28,
    "start_time": "2022-08-27T19:40:08.419Z"
   },
   {
    "duration": 34,
    "start_time": "2022-08-27T19:40:08.449Z"
   },
   {
    "duration": 5,
    "start_time": "2022-08-27T19:40:08.485Z"
   },
   {
    "duration": 18,
    "start_time": "2022-08-27T19:40:08.492Z"
   },
   {
    "duration": 9,
    "start_time": "2022-08-27T19:40:08.512Z"
   },
   {
    "duration": 8,
    "start_time": "2022-08-27T19:40:08.523Z"
   },
   {
    "duration": 12,
    "start_time": "2022-08-27T19:40:08.533Z"
   },
   {
    "duration": 36,
    "start_time": "2022-08-27T19:40:08.547Z"
   },
   {
    "duration": 11,
    "start_time": "2022-08-27T19:40:08.585Z"
   },
   {
    "duration": 11,
    "start_time": "2022-08-27T19:40:08.598Z"
   },
   {
    "duration": 27,
    "start_time": "2022-08-27T19:40:08.611Z"
   },
   {
    "duration": 21,
    "start_time": "2022-08-27T19:40:08.640Z"
   },
   {
    "duration": 3,
    "start_time": "2022-08-27T19:40:08.662Z"
   },
   {
    "duration": 28,
    "start_time": "2022-08-27T19:40:08.668Z"
   },
   {
    "duration": 19,
    "start_time": "2022-08-27T19:40:08.698Z"
   },
   {
    "duration": 6,
    "start_time": "2022-08-27T19:40:08.720Z"
   },
   {
    "duration": 25,
    "start_time": "2022-08-27T19:40:08.728Z"
   },
   {
    "duration": 5,
    "start_time": "2022-08-27T19:40:08.754Z"
   },
   {
    "duration": 25,
    "start_time": "2022-08-27T19:40:08.767Z"
   },
   {
    "duration": 51,
    "start_time": "2022-08-28T12:37:39.601Z"
   },
   {
    "duration": 6,
    "start_time": "2022-08-28T12:38:05.417Z"
   },
   {
    "duration": 590,
    "start_time": "2022-08-28T12:38:18.255Z"
   },
   {
    "duration": 22,
    "start_time": "2022-08-28T12:38:18.847Z"
   },
   {
    "duration": 15,
    "start_time": "2022-08-28T12:38:18.871Z"
   },
   {
    "duration": 9,
    "start_time": "2022-08-28T12:38:18.888Z"
   },
   {
    "duration": 33,
    "start_time": "2022-08-28T12:38:18.899Z"
   },
   {
    "duration": 3,
    "start_time": "2022-08-28T12:38:18.934Z"
   },
   {
    "duration": 39,
    "start_time": "2022-08-28T12:38:18.938Z"
   },
   {
    "duration": 5,
    "start_time": "2022-08-28T12:38:18.978Z"
   },
   {
    "duration": 8,
    "start_time": "2022-08-28T12:38:18.985Z"
   },
   {
    "duration": 4,
    "start_time": "2022-08-28T12:38:18.996Z"
   },
   {
    "duration": 34,
    "start_time": "2022-08-28T12:38:19.001Z"
   },
   {
    "duration": 35,
    "start_time": "2022-08-28T12:38:19.037Z"
   },
   {
    "duration": 3,
    "start_time": "2022-08-28T12:38:19.074Z"
   },
   {
    "duration": 12,
    "start_time": "2022-08-28T12:38:19.079Z"
   },
   {
    "duration": 23,
    "start_time": "2022-08-28T12:38:19.093Z"
   },
   {
    "duration": 50,
    "start_time": "2022-08-28T12:38:19.118Z"
   },
   {
    "duration": 4,
    "start_time": "2022-08-28T12:38:19.170Z"
   },
   {
    "duration": 15,
    "start_time": "2022-08-28T12:38:19.175Z"
   },
   {
    "duration": 6,
    "start_time": "2022-08-28T12:38:19.192Z"
   },
   {
    "duration": 4,
    "start_time": "2022-08-28T12:38:19.199Z"
   },
   {
    "duration": 13,
    "start_time": "2022-08-28T12:38:19.204Z"
   },
   {
    "duration": 4,
    "start_time": "2022-08-28T12:38:19.218Z"
   },
   {
    "duration": 5,
    "start_time": "2022-08-28T12:38:19.224Z"
   },
   {
    "duration": 38,
    "start_time": "2022-08-28T12:38:19.230Z"
   },
   {
    "duration": 8,
    "start_time": "2022-08-28T12:38:19.269Z"
   },
   {
    "duration": 73,
    "start_time": "2022-08-28T12:38:19.278Z"
   },
   {
    "duration": 0,
    "start_time": "2022-08-28T12:38:19.353Z"
   },
   {
    "duration": 0,
    "start_time": "2022-08-28T12:38:19.367Z"
   },
   {
    "duration": 0,
    "start_time": "2022-08-28T12:38:19.369Z"
   },
   {
    "duration": 0,
    "start_time": "2022-08-28T12:38:19.370Z"
   },
   {
    "duration": 0,
    "start_time": "2022-08-28T12:38:19.372Z"
   },
   {
    "duration": 0,
    "start_time": "2022-08-28T12:38:19.373Z"
   },
   {
    "duration": 0,
    "start_time": "2022-08-28T12:38:19.375Z"
   },
   {
    "duration": 8,
    "start_time": "2022-08-28T12:39:33.736Z"
   },
   {
    "duration": 14,
    "start_time": "2022-08-28T12:40:02.185Z"
   },
   {
    "duration": 12,
    "start_time": "2022-08-28T12:40:57.928Z"
   },
   {
    "duration": 16,
    "start_time": "2022-08-28T12:41:19.300Z"
   },
   {
    "duration": 19,
    "start_time": "2022-08-28T12:41:36.764Z"
   },
   {
    "duration": 14,
    "start_time": "2022-08-28T12:42:37.004Z"
   },
   {
    "duration": 3,
    "start_time": "2022-08-28T12:42:39.068Z"
   },
   {
    "duration": 10,
    "start_time": "2022-08-28T12:42:40.006Z"
   },
   {
    "duration": 13,
    "start_time": "2022-08-28T12:42:40.719Z"
   },
   {
    "duration": 6,
    "start_time": "2022-08-28T12:43:34.325Z"
   },
   {
    "duration": 15,
    "start_time": "2022-08-28T12:43:35.213Z"
   },
   {
    "duration": 14,
    "start_time": "2022-08-28T12:44:52.888Z"
   },
   {
    "duration": 527,
    "start_time": "2022-08-28T12:45:51.156Z"
   },
   {
    "duration": 22,
    "start_time": "2022-08-28T12:45:51.685Z"
   },
   {
    "duration": 21,
    "start_time": "2022-08-28T12:45:51.709Z"
   },
   {
    "duration": 16,
    "start_time": "2022-08-28T12:45:51.733Z"
   },
   {
    "duration": 50,
    "start_time": "2022-08-28T12:45:51.751Z"
   },
   {
    "duration": 23,
    "start_time": "2022-08-28T12:45:51.803Z"
   },
   {
    "duration": 14,
    "start_time": "2022-08-28T12:45:51.828Z"
   },
   {
    "duration": 16,
    "start_time": "2022-08-28T12:45:51.844Z"
   },
   {
    "duration": 56,
    "start_time": "2022-08-28T12:45:51.862Z"
   },
   {
    "duration": 19,
    "start_time": "2022-08-28T12:45:51.921Z"
   },
   {
    "duration": 52,
    "start_time": "2022-08-28T12:45:51.941Z"
   },
   {
    "duration": 9,
    "start_time": "2022-08-28T12:45:51.995Z"
   },
   {
    "duration": 12,
    "start_time": "2022-08-28T12:45:52.006Z"
   },
   {
    "duration": 17,
    "start_time": "2022-08-28T12:45:52.020Z"
   },
   {
    "duration": 36,
    "start_time": "2022-08-28T12:45:52.039Z"
   },
   {
    "duration": 18,
    "start_time": "2022-08-28T12:45:52.077Z"
   },
   {
    "duration": 12,
    "start_time": "2022-08-28T12:45:52.096Z"
   },
   {
    "duration": 25,
    "start_time": "2022-08-28T12:45:52.110Z"
   },
   {
    "duration": 37,
    "start_time": "2022-08-28T12:45:52.137Z"
   },
   {
    "duration": 5,
    "start_time": "2022-08-28T12:45:52.175Z"
   },
   {
    "duration": 31,
    "start_time": "2022-08-28T12:45:52.182Z"
   },
   {
    "duration": 12,
    "start_time": "2022-08-28T12:45:52.215Z"
   },
   {
    "duration": 13,
    "start_time": "2022-08-28T12:45:52.228Z"
   },
   {
    "duration": 21,
    "start_time": "2022-08-28T12:45:52.243Z"
   },
   {
    "duration": 35,
    "start_time": "2022-08-28T12:45:52.266Z"
   },
   {
    "duration": 24,
    "start_time": "2022-08-28T12:45:52.303Z"
   },
   {
    "duration": 26,
    "start_time": "2022-08-28T12:45:52.329Z"
   },
   {
    "duration": 22,
    "start_time": "2022-08-28T12:45:52.358Z"
   },
   {
    "duration": 32,
    "start_time": "2022-08-28T12:45:52.382Z"
   },
   {
    "duration": 6,
    "start_time": "2022-08-28T12:45:52.416Z"
   },
   {
    "duration": 22,
    "start_time": "2022-08-28T12:45:52.424Z"
   },
   {
    "duration": 3,
    "start_time": "2022-08-28T12:45:52.447Z"
   },
   {
    "duration": 5,
    "start_time": "2022-08-28T12:45:52.451Z"
   },
   {
    "duration": 70,
    "start_time": "2022-08-28T12:46:37.386Z"
   },
   {
    "duration": 14,
    "start_time": "2022-08-28T12:47:03.125Z"
   },
   {
    "duration": 15,
    "start_time": "2022-08-28T12:47:15.399Z"
   },
   {
    "duration": 18,
    "start_time": "2022-08-28T12:49:48.095Z"
   },
   {
    "duration": 6,
    "start_time": "2022-08-28T12:52:41.126Z"
   },
   {
    "duration": 5,
    "start_time": "2022-08-28T12:52:53.022Z"
   },
   {
    "duration": 5,
    "start_time": "2022-08-28T12:54:12.365Z"
   },
   {
    "duration": 9,
    "start_time": "2022-08-28T12:55:42.729Z"
   },
   {
    "duration": 13,
    "start_time": "2022-08-28T12:56:06.920Z"
   },
   {
    "duration": 1298,
    "start_time": "2022-08-28T12:57:37.287Z"
   },
   {
    "duration": 1338,
    "start_time": "2022-08-28T12:57:49.022Z"
   },
   {
    "duration": 15,
    "start_time": "2022-08-28T12:57:58.404Z"
   },
   {
    "duration": 18,
    "start_time": "2022-08-28T12:58:39.866Z"
   },
   {
    "duration": 5,
    "start_time": "2022-08-28T12:59:52.957Z"
   },
   {
    "duration": 3,
    "start_time": "2022-08-28T12:59:53.956Z"
   },
   {
    "duration": 20,
    "start_time": "2022-08-28T12:59:56.480Z"
   },
   {
    "duration": 15,
    "start_time": "2022-08-28T13:00:47.951Z"
   },
   {
    "duration": 6,
    "start_time": "2022-08-28T13:03:49.853Z"
   },
   {
    "duration": 3,
    "start_time": "2022-08-28T13:03:50.491Z"
   },
   {
    "duration": 22,
    "start_time": "2022-08-28T13:03:51.128Z"
   },
   {
    "duration": 15,
    "start_time": "2022-08-28T13:29:00.343Z"
   },
   {
    "duration": 25,
    "start_time": "2022-08-28T13:29:25.345Z"
   },
   {
    "duration": 25,
    "start_time": "2022-08-28T13:30:00.540Z"
   },
   {
    "duration": 23,
    "start_time": "2022-08-28T13:30:23.215Z"
   },
   {
    "duration": 24,
    "start_time": "2022-08-28T13:31:09.601Z"
   },
   {
    "duration": 15,
    "start_time": "2022-08-28T13:31:35.458Z"
   },
   {
    "duration": 3,
    "start_time": "2022-08-28T13:31:47.831Z"
   },
   {
    "duration": 8,
    "start_time": "2022-08-28T13:32:33.668Z"
   },
   {
    "duration": 7,
    "start_time": "2022-08-28T13:32:42.591Z"
   },
   {
    "duration": 6,
    "start_time": "2022-08-28T13:32:50.945Z"
   },
   {
    "duration": 12,
    "start_time": "2022-08-28T13:34:33.251Z"
   },
   {
    "duration": 2,
    "start_time": "2022-08-28T13:34:52.663Z"
   },
   {
    "duration": 7,
    "start_time": "2022-08-28T13:35:49.238Z"
   },
   {
    "duration": 6,
    "start_time": "2022-08-28T13:36:20.714Z"
   },
   {
    "duration": 15,
    "start_time": "2022-08-28T13:38:05.889Z"
   },
   {
    "duration": 26,
    "start_time": "2022-08-28T13:57:46.639Z"
   },
   {
    "duration": 539,
    "start_time": "2022-08-28T13:58:19.535Z"
   },
   {
    "duration": 32,
    "start_time": "2022-08-28T13:58:20.077Z"
   },
   {
    "duration": 18,
    "start_time": "2022-08-28T13:58:20.111Z"
   },
   {
    "duration": 41,
    "start_time": "2022-08-28T13:58:20.132Z"
   },
   {
    "duration": 37,
    "start_time": "2022-08-28T13:58:20.175Z"
   },
   {
    "duration": 3,
    "start_time": "2022-08-28T13:58:20.214Z"
   },
   {
    "duration": 12,
    "start_time": "2022-08-28T13:58:20.219Z"
   },
   {
    "duration": 7,
    "start_time": "2022-08-28T13:58:20.233Z"
   },
   {
    "duration": 37,
    "start_time": "2022-08-28T13:58:20.242Z"
   },
   {
    "duration": 5,
    "start_time": "2022-08-28T13:58:20.282Z"
   },
   {
    "duration": 39,
    "start_time": "2022-08-28T13:58:20.289Z"
   },
   {
    "duration": 10,
    "start_time": "2022-08-28T13:58:20.330Z"
   },
   {
    "duration": 26,
    "start_time": "2022-08-28T13:58:20.342Z"
   },
   {
    "duration": 12,
    "start_time": "2022-08-28T13:58:20.369Z"
   },
   {
    "duration": 26,
    "start_time": "2022-08-28T13:58:20.383Z"
   },
   {
    "duration": 20,
    "start_time": "2022-08-28T13:58:20.410Z"
   },
   {
    "duration": 4,
    "start_time": "2022-08-28T13:58:20.432Z"
   },
   {
    "duration": 34,
    "start_time": "2022-08-28T13:58:20.438Z"
   },
   {
    "duration": 10,
    "start_time": "2022-08-28T13:58:20.474Z"
   },
   {
    "duration": 5,
    "start_time": "2022-08-28T13:58:20.485Z"
   },
   {
    "duration": 13,
    "start_time": "2022-08-28T13:58:20.491Z"
   },
   {
    "duration": 7,
    "start_time": "2022-08-28T13:58:20.506Z"
   },
   {
    "duration": 7,
    "start_time": "2022-08-28T13:58:20.514Z"
   },
   {
    "duration": 8,
    "start_time": "2022-08-28T13:58:20.523Z"
   },
   {
    "duration": 42,
    "start_time": "2022-08-28T13:58:20.533Z"
   },
   {
    "duration": 19,
    "start_time": "2022-08-28T13:58:20.577Z"
   },
   {
    "duration": 4,
    "start_time": "2022-08-28T13:58:20.598Z"
   },
   {
    "duration": 14,
    "start_time": "2022-08-28T13:58:20.605Z"
   },
   {
    "duration": 17,
    "start_time": "2022-08-28T13:58:20.621Z"
   },
   {
    "duration": 29,
    "start_time": "2022-08-28T13:58:20.640Z"
   },
   {
    "duration": 19,
    "start_time": "2022-08-28T13:58:20.671Z"
   },
   {
    "duration": 7,
    "start_time": "2022-08-28T13:58:20.692Z"
   },
   {
    "duration": 5,
    "start_time": "2022-08-28T13:58:20.702Z"
   },
   {
    "duration": 17,
    "start_time": "2022-08-28T13:58:20.709Z"
   },
   {
    "duration": 6,
    "start_time": "2022-08-28T13:58:20.728Z"
   },
   {
    "duration": 14,
    "start_time": "2022-08-28T13:58:20.769Z"
   },
   {
    "duration": 447,
    "start_time": "2022-08-28T13:59:11.721Z"
   },
   {
    "duration": 24,
    "start_time": "2022-08-28T13:59:12.170Z"
   },
   {
    "duration": 17,
    "start_time": "2022-08-28T13:59:12.196Z"
   },
   {
    "duration": 11,
    "start_time": "2022-08-28T13:59:12.215Z"
   },
   {
    "duration": 65,
    "start_time": "2022-08-28T13:59:12.229Z"
   },
   {
    "duration": 4,
    "start_time": "2022-08-28T13:59:12.296Z"
   },
   {
    "duration": 9,
    "start_time": "2022-08-28T13:59:12.302Z"
   },
   {
    "duration": 5,
    "start_time": "2022-08-28T13:59:12.313Z"
   },
   {
    "duration": 9,
    "start_time": "2022-08-28T13:59:12.320Z"
   },
   {
    "duration": 5,
    "start_time": "2022-08-28T13:59:12.330Z"
   },
   {
    "duration": 64,
    "start_time": "2022-08-28T13:59:12.336Z"
   },
   {
    "duration": 9,
    "start_time": "2022-08-28T13:59:12.402Z"
   },
   {
    "duration": 3,
    "start_time": "2022-08-28T13:59:12.413Z"
   },
   {
    "duration": 11,
    "start_time": "2022-08-28T13:59:12.419Z"
   },
   {
    "duration": 46,
    "start_time": "2022-08-28T13:59:12.431Z"
   },
   {
    "duration": 19,
    "start_time": "2022-08-28T13:59:12.479Z"
   },
   {
    "duration": 3,
    "start_time": "2022-08-28T13:59:12.500Z"
   },
   {
    "duration": 15,
    "start_time": "2022-08-28T13:59:12.505Z"
   },
   {
    "duration": 7,
    "start_time": "2022-08-28T13:59:12.522Z"
   },
   {
    "duration": 3,
    "start_time": "2022-08-28T13:59:12.531Z"
   },
   {
    "duration": 9,
    "start_time": "2022-08-28T13:59:12.567Z"
   },
   {
    "duration": 8,
    "start_time": "2022-08-28T13:59:12.577Z"
   },
   {
    "duration": 5,
    "start_time": "2022-08-28T13:59:12.586Z"
   },
   {
    "duration": 8,
    "start_time": "2022-08-28T13:59:12.593Z"
   },
   {
    "duration": 7,
    "start_time": "2022-08-28T13:59:12.602Z"
   },
   {
    "duration": 15,
    "start_time": "2022-08-28T13:59:12.611Z"
   },
   {
    "duration": 3,
    "start_time": "2022-08-28T13:59:12.628Z"
   },
   {
    "duration": 10,
    "start_time": "2022-08-28T13:59:12.668Z"
   },
   {
    "duration": 16,
    "start_time": "2022-08-28T13:59:12.679Z"
   },
   {
    "duration": 5,
    "start_time": "2022-08-28T13:59:12.696Z"
   },
   {
    "duration": 25,
    "start_time": "2022-08-28T13:59:12.703Z"
   },
   {
    "duration": 4,
    "start_time": "2022-08-28T13:59:12.730Z"
   },
   {
    "duration": 6,
    "start_time": "2022-08-28T13:59:12.736Z"
   },
   {
    "duration": 36,
    "start_time": "2022-08-28T13:59:12.744Z"
   },
   {
    "duration": 6,
    "start_time": "2022-08-28T13:59:12.782Z"
   },
   {
    "duration": 14,
    "start_time": "2022-08-28T13:59:12.790Z"
   },
   {
    "duration": 506,
    "start_time": "2022-08-28T14:54:56.890Z"
   },
   {
    "duration": 27,
    "start_time": "2022-08-28T14:54:57.398Z"
   },
   {
    "duration": 17,
    "start_time": "2022-08-28T14:54:57.426Z"
   },
   {
    "duration": 30,
    "start_time": "2022-08-28T14:54:57.445Z"
   },
   {
    "duration": 48,
    "start_time": "2022-08-28T14:54:57.477Z"
   },
   {
    "duration": 5,
    "start_time": "2022-08-28T14:54:57.527Z"
   },
   {
    "duration": 35,
    "start_time": "2022-08-28T14:54:57.534Z"
   },
   {
    "duration": 6,
    "start_time": "2022-08-28T14:54:57.571Z"
   },
   {
    "duration": 12,
    "start_time": "2022-08-28T14:54:57.579Z"
   },
   {
    "duration": 5,
    "start_time": "2022-08-28T14:54:57.594Z"
   },
   {
    "duration": 42,
    "start_time": "2022-08-28T14:54:57.601Z"
   },
   {
    "duration": 32,
    "start_time": "2022-08-28T14:54:57.645Z"
   },
   {
    "duration": 5,
    "start_time": "2022-08-28T14:54:57.680Z"
   },
   {
    "duration": 22,
    "start_time": "2022-08-28T14:54:57.687Z"
   },
   {
    "duration": 24,
    "start_time": "2022-08-28T14:54:57.711Z"
   },
   {
    "duration": 44,
    "start_time": "2022-08-28T14:54:57.737Z"
   },
   {
    "duration": 4,
    "start_time": "2022-08-28T14:54:57.783Z"
   },
   {
    "duration": 34,
    "start_time": "2022-08-28T14:54:57.789Z"
   },
   {
    "duration": 9,
    "start_time": "2022-08-28T14:54:57.825Z"
   },
   {
    "duration": 3,
    "start_time": "2022-08-28T14:54:57.837Z"
   },
   {
    "duration": 14,
    "start_time": "2022-08-28T14:54:57.842Z"
   },
   {
    "duration": 13,
    "start_time": "2022-08-28T14:54:57.858Z"
   },
   {
    "duration": 9,
    "start_time": "2022-08-28T14:54:57.873Z"
   },
   {
    "duration": 7,
    "start_time": "2022-08-28T14:54:57.884Z"
   },
   {
    "duration": 8,
    "start_time": "2022-08-28T14:54:57.893Z"
   },
   {
    "duration": 17,
    "start_time": "2022-08-28T14:54:57.903Z"
   },
   {
    "duration": 4,
    "start_time": "2022-08-28T14:54:57.921Z"
   },
   {
    "duration": 48,
    "start_time": "2022-08-28T14:54:57.929Z"
   },
   {
    "duration": 19,
    "start_time": "2022-08-28T14:54:57.979Z"
   },
   {
    "duration": 9,
    "start_time": "2022-08-28T14:54:58.000Z"
   },
   {
    "duration": 24,
    "start_time": "2022-08-28T14:54:58.012Z"
   },
   {
    "duration": 5,
    "start_time": "2022-08-28T14:54:58.068Z"
   },
   {
    "duration": 5,
    "start_time": "2022-08-28T14:54:58.075Z"
   },
   {
    "duration": 16,
    "start_time": "2022-08-28T14:54:58.081Z"
   },
   {
    "duration": 5,
    "start_time": "2022-08-28T14:54:58.099Z"
   },
   {
    "duration": 16,
    "start_time": "2022-08-28T14:54:58.106Z"
   },
   {
    "duration": 505,
    "start_time": "2022-08-28T17:15:13.291Z"
   },
   {
    "duration": 26,
    "start_time": "2022-08-28T17:15:13.798Z"
   },
   {
    "duration": 18,
    "start_time": "2022-08-28T17:15:13.825Z"
   },
   {
    "duration": 16,
    "start_time": "2022-08-28T17:15:13.846Z"
   },
   {
    "duration": 73,
    "start_time": "2022-08-28T17:15:13.864Z"
   },
   {
    "duration": 4,
    "start_time": "2022-08-28T17:15:13.938Z"
   },
   {
    "duration": 11,
    "start_time": "2022-08-28T17:15:13.944Z"
   },
   {
    "duration": 7,
    "start_time": "2022-08-28T17:15:13.957Z"
   },
   {
    "duration": 26,
    "start_time": "2022-08-28T17:15:13.966Z"
   },
   {
    "duration": 5,
    "start_time": "2022-08-28T17:15:13.997Z"
   },
   {
    "duration": 39,
    "start_time": "2022-08-28T17:15:14.004Z"
   },
   {
    "duration": 10,
    "start_time": "2022-08-28T17:15:14.045Z"
   },
   {
    "duration": 6,
    "start_time": "2022-08-28T17:15:14.057Z"
   },
   {
    "duration": 12,
    "start_time": "2022-08-28T17:15:14.091Z"
   },
   {
    "duration": 26,
    "start_time": "2022-08-28T17:15:14.105Z"
   },
   {
    "duration": 19,
    "start_time": "2022-08-28T17:15:14.133Z"
   },
   {
    "duration": 4,
    "start_time": "2022-08-28T17:15:14.154Z"
   },
   {
    "duration": 38,
    "start_time": "2022-08-28T17:15:14.159Z"
   },
   {
    "duration": 6,
    "start_time": "2022-08-28T17:15:14.199Z"
   },
   {
    "duration": 4,
    "start_time": "2022-08-28T17:15:14.207Z"
   },
   {
    "duration": 12,
    "start_time": "2022-08-28T17:15:14.212Z"
   },
   {
    "duration": 9,
    "start_time": "2022-08-28T17:15:14.226Z"
   },
   {
    "duration": 5,
    "start_time": "2022-08-28T17:15:14.237Z"
   },
   {
    "duration": 11,
    "start_time": "2022-08-28T17:15:14.244Z"
   },
   {
    "duration": 37,
    "start_time": "2022-08-28T17:15:14.257Z"
   },
   {
    "duration": 15,
    "start_time": "2022-08-28T17:15:14.296Z"
   },
   {
    "duration": 3,
    "start_time": "2022-08-28T17:15:14.312Z"
   },
   {
    "duration": 14,
    "start_time": "2022-08-28T17:15:14.319Z"
   },
   {
    "duration": 15,
    "start_time": "2022-08-28T17:15:14.335Z"
   },
   {
    "duration": 6,
    "start_time": "2022-08-28T17:15:14.352Z"
   },
   {
    "duration": 15,
    "start_time": "2022-08-28T17:15:14.392Z"
   },
   {
    "duration": 6,
    "start_time": "2022-08-28T17:15:14.408Z"
   },
   {
    "duration": 7,
    "start_time": "2022-08-28T17:15:14.415Z"
   },
   {
    "duration": 18,
    "start_time": "2022-08-28T17:15:14.423Z"
   },
   {
    "duration": 6,
    "start_time": "2022-08-28T17:15:14.443Z"
   },
   {
    "duration": 50,
    "start_time": "2022-08-28T17:15:14.451Z"
   },
   {
    "duration": 53,
    "start_time": "2022-08-28T17:48:15.008Z"
   },
   {
    "duration": 7,
    "start_time": "2022-08-28T17:48:26.790Z"
   },
   {
    "duration": 6,
    "start_time": "2022-08-28T17:50:28.272Z"
   },
   {
    "duration": 6,
    "start_time": "2022-08-28T17:52:09.118Z"
   },
   {
    "duration": 6,
    "start_time": "2022-08-28T17:54:22.494Z"
   },
   {
    "duration": 6,
    "start_time": "2022-08-28T17:54:35.848Z"
   },
   {
    "duration": 8,
    "start_time": "2022-08-28T17:54:43.531Z"
   },
   {
    "duration": 6,
    "start_time": "2022-08-28T17:54:53.963Z"
   },
   {
    "duration": 6,
    "start_time": "2022-08-28T17:56:37.198Z"
   },
   {
    "duration": 534,
    "start_time": "2022-08-28T17:56:50.600Z"
   },
   {
    "duration": 24,
    "start_time": "2022-08-28T17:56:51.136Z"
   },
   {
    "duration": 15,
    "start_time": "2022-08-28T17:56:51.162Z"
   },
   {
    "duration": 10,
    "start_time": "2022-08-28T17:56:51.179Z"
   },
   {
    "duration": 33,
    "start_time": "2022-08-28T17:56:51.190Z"
   },
   {
    "duration": 4,
    "start_time": "2022-08-28T17:56:51.225Z"
   },
   {
    "duration": 38,
    "start_time": "2022-08-28T17:56:51.230Z"
   },
   {
    "duration": 4,
    "start_time": "2022-08-28T17:56:51.270Z"
   },
   {
    "duration": 13,
    "start_time": "2022-08-28T17:56:51.276Z"
   },
   {
    "duration": 6,
    "start_time": "2022-08-28T17:56:51.293Z"
   },
   {
    "duration": 36,
    "start_time": "2022-08-28T17:56:51.301Z"
   },
   {
    "duration": 30,
    "start_time": "2022-08-28T17:56:51.339Z"
   },
   {
    "duration": 4,
    "start_time": "2022-08-28T17:56:51.370Z"
   },
   {
    "duration": 14,
    "start_time": "2022-08-28T17:56:51.375Z"
   },
   {
    "duration": 24,
    "start_time": "2022-08-28T17:56:51.391Z"
   },
   {
    "duration": 18,
    "start_time": "2022-08-28T17:56:51.416Z"
   },
   {
    "duration": 3,
    "start_time": "2022-08-28T17:56:51.436Z"
   },
   {
    "duration": 11,
    "start_time": "2022-08-28T17:56:51.468Z"
   },
   {
    "duration": 17,
    "start_time": "2022-08-28T17:56:51.480Z"
   },
   {
    "duration": 15,
    "start_time": "2022-08-28T17:56:51.498Z"
   },
   {
    "duration": 25,
    "start_time": "2022-08-28T17:56:51.515Z"
   },
   {
    "duration": 10,
    "start_time": "2022-08-28T17:56:51.541Z"
   },
   {
    "duration": 11,
    "start_time": "2022-08-28T17:56:51.553Z"
   },
   {
    "duration": 7,
    "start_time": "2022-08-28T17:56:51.567Z"
   },
   {
    "duration": 9,
    "start_time": "2022-08-28T17:56:51.576Z"
   },
   {
    "duration": 82,
    "start_time": "2022-08-28T17:56:51.587Z"
   },
   {
    "duration": 0,
    "start_time": "2022-08-28T17:56:51.671Z"
   },
   {
    "duration": 0,
    "start_time": "2022-08-28T17:56:51.672Z"
   },
   {
    "duration": 0,
    "start_time": "2022-08-28T17:56:51.674Z"
   },
   {
    "duration": 0,
    "start_time": "2022-08-28T17:56:51.675Z"
   },
   {
    "duration": 0,
    "start_time": "2022-08-28T17:56:51.676Z"
   },
   {
    "duration": 0,
    "start_time": "2022-08-28T17:56:51.678Z"
   },
   {
    "duration": 0,
    "start_time": "2022-08-28T17:56:51.679Z"
   },
   {
    "duration": 0,
    "start_time": "2022-08-28T17:56:51.680Z"
   },
   {
    "duration": 0,
    "start_time": "2022-08-28T17:56:51.681Z"
   },
   {
    "duration": 0,
    "start_time": "2022-08-28T17:56:51.682Z"
   },
   {
    "duration": 0,
    "start_time": "2022-08-28T17:56:51.683Z"
   },
   {
    "duration": 3,
    "start_time": "2022-08-28T17:57:22.924Z"
   },
   {
    "duration": 4,
    "start_time": "2022-08-28T17:57:33.929Z"
   },
   {
    "duration": 4,
    "start_time": "2022-08-28T17:57:42.728Z"
   },
   {
    "duration": 21,
    "start_time": "2022-08-28T18:00:56.828Z"
   },
   {
    "duration": 9,
    "start_time": "2022-08-28T18:01:39.741Z"
   },
   {
    "duration": 5,
    "start_time": "2022-08-28T18:01:57.752Z"
   },
   {
    "duration": 7,
    "start_time": "2022-08-28T18:03:41.855Z"
   },
   {
    "duration": 7,
    "start_time": "2022-08-28T18:04:01.618Z"
   },
   {
    "duration": 6,
    "start_time": "2022-08-28T18:04:21.947Z"
   },
   {
    "duration": 5,
    "start_time": "2022-08-28T18:04:31.966Z"
   },
   {
    "duration": 5,
    "start_time": "2022-08-28T18:04:42.412Z"
   },
   {
    "duration": 6,
    "start_time": "2022-08-28T18:05:23.808Z"
   },
   {
    "duration": 2,
    "start_time": "2022-08-28T18:08:37.896Z"
   },
   {
    "duration": 7,
    "start_time": "2022-08-28T18:09:54.529Z"
   },
   {
    "duration": 6,
    "start_time": "2022-08-28T18:10:03.844Z"
   },
   {
    "duration": 707,
    "start_time": "2022-08-29T17:03:41.533Z"
   },
   {
    "duration": 22,
    "start_time": "2022-08-29T17:03:42.242Z"
   },
   {
    "duration": 14,
    "start_time": "2022-08-29T17:03:42.266Z"
   },
   {
    "duration": 13,
    "start_time": "2022-08-29T17:03:42.281Z"
   },
   {
    "duration": 37,
    "start_time": "2022-08-29T17:03:42.300Z"
   },
   {
    "duration": 4,
    "start_time": "2022-08-29T17:03:42.338Z"
   },
   {
    "duration": 12,
    "start_time": "2022-08-29T17:03:42.344Z"
   },
   {
    "duration": 5,
    "start_time": "2022-08-29T17:03:42.357Z"
   },
   {
    "duration": 8,
    "start_time": "2022-08-29T17:03:42.363Z"
   },
   {
    "duration": 35,
    "start_time": "2022-08-29T17:03:42.373Z"
   },
   {
    "duration": 35,
    "start_time": "2022-08-29T17:03:42.412Z"
   },
   {
    "duration": 10,
    "start_time": "2022-08-29T17:03:42.449Z"
   },
   {
    "duration": 6,
    "start_time": "2022-08-29T17:03:42.460Z"
   },
   {
    "duration": 32,
    "start_time": "2022-08-29T17:03:42.468Z"
   },
   {
    "duration": 37,
    "start_time": "2022-08-29T17:03:42.503Z"
   },
   {
    "duration": 16,
    "start_time": "2022-08-29T17:03:42.542Z"
   },
   {
    "duration": 3,
    "start_time": "2022-08-29T17:03:42.560Z"
   },
   {
    "duration": 14,
    "start_time": "2022-08-29T17:03:42.565Z"
   },
   {
    "duration": 6,
    "start_time": "2022-08-29T17:03:42.676Z"
   },
   {
    "duration": 4,
    "start_time": "2022-08-29T17:03:42.684Z"
   },
   {
    "duration": 23,
    "start_time": "2022-08-29T17:03:42.690Z"
   },
   {
    "duration": 11,
    "start_time": "2022-08-29T17:03:42.715Z"
   },
   {
    "duration": 8,
    "start_time": "2022-08-29T17:03:42.728Z"
   },
   {
    "duration": 8,
    "start_time": "2022-08-29T17:03:42.738Z"
   },
   {
    "duration": 2,
    "start_time": "2022-08-29T17:03:42.847Z"
   },
   {
    "duration": 5,
    "start_time": "2022-08-29T17:03:42.857Z"
   },
   {
    "duration": 13,
    "start_time": "2022-08-29T17:03:42.876Z"
   },
   {
    "duration": 3,
    "start_time": "2022-08-29T17:03:43.072Z"
   },
   {
    "duration": 17,
    "start_time": "2022-08-29T17:03:43.077Z"
   },
   {
    "duration": 33,
    "start_time": "2022-08-29T17:03:43.096Z"
   },
   {
    "duration": 6,
    "start_time": "2022-08-29T17:03:43.234Z"
   },
   {
    "duration": 30,
    "start_time": "2022-08-29T17:03:43.242Z"
   },
   {
    "duration": 5,
    "start_time": "2022-08-29T17:03:43.392Z"
   },
   {
    "duration": 26,
    "start_time": "2022-08-29T17:03:43.399Z"
   },
   {
    "duration": 20,
    "start_time": "2022-08-29T17:03:43.427Z"
   },
   {
    "duration": 6,
    "start_time": "2022-08-29T17:03:43.467Z"
   },
   {
    "duration": 29,
    "start_time": "2022-08-29T17:03:43.491Z"
   },
   {
    "duration": 20,
    "start_time": "2022-08-29T18:46:17.148Z"
   },
   {
    "duration": 25,
    "start_time": "2022-08-29T18:46:28.110Z"
   },
   {
    "duration": 9,
    "start_time": "2022-08-29T18:46:42.895Z"
   },
   {
    "duration": 421,
    "start_time": "2022-08-29T18:56:04.549Z"
   },
   {
    "duration": 26,
    "start_time": "2022-08-29T18:56:04.972Z"
   },
   {
    "duration": 14,
    "start_time": "2022-08-29T18:56:05.000Z"
   },
   {
    "duration": 37,
    "start_time": "2022-08-29T18:56:05.017Z"
   },
   {
    "duration": 39,
    "start_time": "2022-08-29T18:56:05.056Z"
   },
   {
    "duration": 4,
    "start_time": "2022-08-29T18:56:05.097Z"
   },
   {
    "duration": 15,
    "start_time": "2022-08-29T18:56:05.102Z"
   },
   {
    "duration": 11,
    "start_time": "2022-08-29T18:56:05.118Z"
   },
   {
    "duration": 12,
    "start_time": "2022-08-29T18:56:05.130Z"
   },
   {
    "duration": 10,
    "start_time": "2022-08-29T18:56:05.145Z"
   },
   {
    "duration": 45,
    "start_time": "2022-08-29T18:56:05.156Z"
   },
   {
    "duration": 9,
    "start_time": "2022-08-29T18:56:05.203Z"
   },
   {
    "duration": 22,
    "start_time": "2022-08-29T18:56:05.214Z"
   },
   {
    "duration": 17,
    "start_time": "2022-08-29T18:56:05.237Z"
   },
   {
    "duration": 32,
    "start_time": "2022-08-29T18:56:05.256Z"
   },
   {
    "duration": 17,
    "start_time": "2022-08-29T18:56:05.289Z"
   },
   {
    "duration": 8,
    "start_time": "2022-08-29T18:56:05.307Z"
   },
   {
    "duration": 21,
    "start_time": "2022-08-29T18:56:05.317Z"
   },
   {
    "duration": 18,
    "start_time": "2022-08-29T18:56:05.340Z"
   },
   {
    "duration": 13,
    "start_time": "2022-08-29T18:56:05.360Z"
   },
   {
    "duration": 31,
    "start_time": "2022-08-29T18:56:05.375Z"
   },
   {
    "duration": 8,
    "start_time": "2022-08-29T18:56:05.408Z"
   },
   {
    "duration": 10,
    "start_time": "2022-08-29T18:56:05.417Z"
   },
   {
    "duration": 17,
    "start_time": "2022-08-29T18:56:05.428Z"
   },
   {
    "duration": 17,
    "start_time": "2022-08-29T18:56:05.447Z"
   },
   {
    "duration": 16,
    "start_time": "2022-08-29T18:56:05.466Z"
   },
   {
    "duration": 26,
    "start_time": "2022-08-29T18:56:05.484Z"
   },
   {
    "duration": 4,
    "start_time": "2022-08-29T18:56:05.513Z"
   },
   {
    "duration": 25,
    "start_time": "2022-08-29T18:56:05.519Z"
   },
   {
    "duration": 19,
    "start_time": "2022-08-29T18:56:05.546Z"
   },
   {
    "duration": 21,
    "start_time": "2022-08-29T18:56:05.566Z"
   },
   {
    "duration": 29,
    "start_time": "2022-08-29T18:56:05.588Z"
   },
   {
    "duration": 4,
    "start_time": "2022-08-29T18:56:05.619Z"
   },
   {
    "duration": 11,
    "start_time": "2022-08-29T18:56:05.624Z"
   },
   {
    "duration": 22,
    "start_time": "2022-08-29T18:56:05.637Z"
   },
   {
    "duration": 14,
    "start_time": "2022-08-29T18:56:05.661Z"
   },
   {
    "duration": 19,
    "start_time": "2022-08-29T18:56:05.677Z"
   },
   {
    "duration": 446,
    "start_time": "2022-08-29T19:08:14.541Z"
   },
   {
    "duration": 25,
    "start_time": "2022-08-29T19:08:14.989Z"
   },
   {
    "duration": 40,
    "start_time": "2022-08-29T19:08:15.016Z"
   },
   {
    "duration": 10,
    "start_time": "2022-08-29T19:08:15.058Z"
   },
   {
    "duration": 37,
    "start_time": "2022-08-29T19:08:15.069Z"
   },
   {
    "duration": 3,
    "start_time": "2022-08-29T19:08:15.108Z"
   },
   {
    "duration": 11,
    "start_time": "2022-08-29T19:08:15.113Z"
   },
   {
    "duration": 5,
    "start_time": "2022-08-29T19:08:15.126Z"
   },
   {
    "duration": 10,
    "start_time": "2022-08-29T19:08:15.133Z"
   },
   {
    "duration": 4,
    "start_time": "2022-08-29T19:08:15.146Z"
   },
   {
    "duration": 56,
    "start_time": "2022-08-29T19:08:15.151Z"
   },
   {
    "duration": 9,
    "start_time": "2022-08-29T19:08:15.210Z"
   },
   {
    "duration": 12,
    "start_time": "2022-08-29T19:08:15.220Z"
   },
   {
    "duration": 22,
    "start_time": "2022-08-29T19:08:15.233Z"
   },
   {
    "duration": 29,
    "start_time": "2022-08-29T19:08:15.256Z"
   },
   {
    "duration": 20,
    "start_time": "2022-08-29T19:08:15.286Z"
   },
   {
    "duration": 3,
    "start_time": "2022-08-29T19:08:15.308Z"
   },
   {
    "duration": 18,
    "start_time": "2022-08-29T19:08:15.312Z"
   },
   {
    "duration": 11,
    "start_time": "2022-08-29T19:08:15.332Z"
   },
   {
    "duration": 5,
    "start_time": "2022-08-29T19:08:15.345Z"
   },
   {
    "duration": 11,
    "start_time": "2022-08-29T19:08:15.352Z"
   },
   {
    "duration": 6,
    "start_time": "2022-08-29T19:08:15.365Z"
   },
   {
    "duration": 7,
    "start_time": "2022-08-29T19:08:15.372Z"
   },
   {
    "duration": 12,
    "start_time": "2022-08-29T19:08:15.381Z"
   },
   {
    "duration": 11,
    "start_time": "2022-08-29T19:08:15.394Z"
   },
   {
    "duration": 11,
    "start_time": "2022-08-29T19:08:15.407Z"
   },
   {
    "duration": 16,
    "start_time": "2022-08-29T19:08:15.419Z"
   },
   {
    "duration": 3,
    "start_time": "2022-08-29T19:08:15.438Z"
   },
   {
    "duration": 16,
    "start_time": "2022-08-29T19:08:15.442Z"
   },
   {
    "duration": 16,
    "start_time": "2022-08-29T19:08:15.460Z"
   },
   {
    "duration": 4,
    "start_time": "2022-08-29T19:08:15.478Z"
   },
   {
    "duration": 27,
    "start_time": "2022-08-29T19:08:15.484Z"
   },
   {
    "duration": 5,
    "start_time": "2022-08-29T19:08:15.513Z"
   },
   {
    "duration": 6,
    "start_time": "2022-08-29T19:08:15.519Z"
   },
   {
    "duration": 20,
    "start_time": "2022-08-29T19:08:15.526Z"
   },
   {
    "duration": 7,
    "start_time": "2022-08-29T19:08:15.549Z"
   },
   {
    "duration": 15,
    "start_time": "2022-08-29T19:08:15.558Z"
   },
   {
    "duration": 7,
    "start_time": "2022-08-29T19:23:39.634Z"
   },
   {
    "duration": 5,
    "start_time": "2022-08-29T19:23:49.060Z"
   },
   {
    "duration": 476,
    "start_time": "2022-08-29T19:23:57.067Z"
   },
   {
    "duration": 20,
    "start_time": "2022-08-29T19:23:57.545Z"
   },
   {
    "duration": 13,
    "start_time": "2022-08-29T19:23:57.566Z"
   },
   {
    "duration": 26,
    "start_time": "2022-08-29T19:23:57.581Z"
   },
   {
    "duration": 31,
    "start_time": "2022-08-29T19:23:57.609Z"
   },
   {
    "duration": 3,
    "start_time": "2022-08-29T19:23:57.642Z"
   },
   {
    "duration": 9,
    "start_time": "2022-08-29T19:23:57.646Z"
   },
   {
    "duration": 4,
    "start_time": "2022-08-29T19:23:57.657Z"
   },
   {
    "duration": 8,
    "start_time": "2022-08-29T19:23:57.662Z"
   },
   {
    "duration": 28,
    "start_time": "2022-08-29T19:23:57.673Z"
   },
   {
    "duration": 37,
    "start_time": "2022-08-29T19:23:57.703Z"
   },
   {
    "duration": 8,
    "start_time": "2022-08-29T19:23:57.741Z"
   },
   {
    "duration": 4,
    "start_time": "2022-08-29T19:23:57.750Z"
   },
   {
    "duration": 12,
    "start_time": "2022-08-29T19:23:57.755Z"
   },
   {
    "duration": 37,
    "start_time": "2022-08-29T19:23:57.768Z"
   },
   {
    "duration": 16,
    "start_time": "2022-08-29T19:23:57.807Z"
   },
   {
    "duration": 3,
    "start_time": "2022-08-29T19:23:57.825Z"
   },
   {
    "duration": 15,
    "start_time": "2022-08-29T19:23:57.830Z"
   },
   {
    "duration": 5,
    "start_time": "2022-08-29T19:23:57.847Z"
   },
   {
    "duration": 7,
    "start_time": "2022-08-29T19:23:57.853Z"
   },
   {
    "duration": 14,
    "start_time": "2022-08-29T19:23:57.862Z"
   },
   {
    "duration": 4,
    "start_time": "2022-08-29T19:23:57.877Z"
   },
   {
    "duration": 4,
    "start_time": "2022-08-29T19:23:57.901Z"
   },
   {
    "duration": 9,
    "start_time": "2022-08-29T19:23:57.907Z"
   },
   {
    "duration": 5,
    "start_time": "2022-08-29T19:23:57.917Z"
   },
   {
    "duration": 12,
    "start_time": "2022-08-29T19:23:57.924Z"
   },
   {
    "duration": 18,
    "start_time": "2022-08-29T19:23:57.938Z"
   },
   {
    "duration": 2,
    "start_time": "2022-08-29T19:23:57.959Z"
   },
   {
    "duration": 10,
    "start_time": "2022-08-29T19:23:57.963Z"
   },
   {
    "duration": 30,
    "start_time": "2022-08-29T19:23:57.975Z"
   },
   {
    "duration": 4,
    "start_time": "2022-08-29T19:23:58.007Z"
   },
   {
    "duration": 17,
    "start_time": "2022-08-29T19:23:58.013Z"
   },
   {
    "duration": 4,
    "start_time": "2022-08-29T19:23:58.031Z"
   },
   {
    "duration": 4,
    "start_time": "2022-08-29T19:23:58.037Z"
   },
   {
    "duration": 15,
    "start_time": "2022-08-29T19:23:58.043Z"
   },
   {
    "duration": 5,
    "start_time": "2022-08-29T19:23:58.059Z"
   },
   {
    "duration": 41,
    "start_time": "2022-08-29T19:23:58.065Z"
   },
   {
    "duration": 663,
    "start_time": "2022-08-30T07:18:25.310Z"
   },
   {
    "duration": 23,
    "start_time": "2022-08-30T07:18:25.975Z"
   },
   {
    "duration": 22,
    "start_time": "2022-08-30T07:18:26.000Z"
   },
   {
    "duration": 18,
    "start_time": "2022-08-30T07:18:26.025Z"
   },
   {
    "duration": 42,
    "start_time": "2022-08-30T07:18:26.045Z"
   },
   {
    "duration": 3,
    "start_time": "2022-08-30T07:18:26.089Z"
   },
   {
    "duration": 12,
    "start_time": "2022-08-30T07:18:26.094Z"
   },
   {
    "duration": 4,
    "start_time": "2022-08-30T07:18:26.108Z"
   },
   {
    "duration": 10,
    "start_time": "2022-08-30T07:18:26.113Z"
   },
   {
    "duration": 3,
    "start_time": "2022-08-30T07:18:26.125Z"
   },
   {
    "duration": 62,
    "start_time": "2022-08-30T07:18:26.130Z"
   },
   {
    "duration": 10,
    "start_time": "2022-08-30T07:18:26.194Z"
   },
   {
    "duration": 5,
    "start_time": "2022-08-30T07:18:26.206Z"
   },
   {
    "duration": 23,
    "start_time": "2022-08-30T07:18:26.214Z"
   },
   {
    "duration": 28,
    "start_time": "2022-08-30T07:18:26.239Z"
   },
   {
    "duration": 34,
    "start_time": "2022-08-30T07:18:26.269Z"
   },
   {
    "duration": 5,
    "start_time": "2022-08-30T07:18:26.305Z"
   },
   {
    "duration": 18,
    "start_time": "2022-08-30T07:18:26.312Z"
   },
   {
    "duration": 16,
    "start_time": "2022-08-30T07:18:26.332Z"
   },
   {
    "duration": 5,
    "start_time": "2022-08-30T07:18:26.350Z"
   },
   {
    "duration": 20,
    "start_time": "2022-08-30T07:18:26.357Z"
   },
   {
    "duration": 7,
    "start_time": "2022-08-30T07:18:26.391Z"
   },
   {
    "duration": 15,
    "start_time": "2022-08-30T07:18:26.400Z"
   },
   {
    "duration": 10,
    "start_time": "2022-08-30T07:18:26.417Z"
   },
   {
    "duration": 7,
    "start_time": "2022-08-30T07:18:26.429Z"
   },
   {
    "duration": 13,
    "start_time": "2022-08-30T07:18:26.438Z"
   },
   {
    "duration": 6,
    "start_time": "2022-08-30T07:18:26.454Z"
   }
  ],
  "colab": {
   "name": "dpp_template_part2.ipynb",
   "provenance": []
  },
  "kernelspec": {
   "display_name": "Python 3 (ipykernel)",
   "language": "python",
   "name": "python3"
  },
  "language_info": {
   "codemirror_mode": {
    "name": "ipython",
    "version": 3
   },
   "file_extension": ".py",
   "mimetype": "text/x-python",
   "name": "python",
   "nbconvert_exporter": "python",
   "pygments_lexer": "ipython3",
   "version": "3.9.15"
  },
  "toc": {
   "base_numbering": 1,
   "nav_menu": {},
   "number_sections": true,
   "sideBar": true,
   "skip_h1_title": true,
   "title_cell": "Table of Contents",
   "title_sidebar": "Contents",
   "toc_cell": false,
   "toc_position": {},
   "toc_section_display": true,
   "toc_window_display": false
  }
 },
 "nbformat": 4,
 "nbformat_minor": 5
}
